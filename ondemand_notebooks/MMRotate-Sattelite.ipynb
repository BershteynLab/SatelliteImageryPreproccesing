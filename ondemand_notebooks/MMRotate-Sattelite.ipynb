{
 "cells": [
  {
   "cell_type": "code",
   "execution_count": 1,
   "metadata": {},
   "outputs": [],
   "source": [
    "import pandas as pd\n",
    "import matplotlib.pyplot as plt"
   ]
  },
  {
   "cell_type": "code",
   "execution_count": 2,
   "metadata": {},
   "outputs": [
    {
     "name": "stderr",
     "output_type": "stream",
     "text": [
      "/gpfs/home/weitzk01/.conda/mmrotate_conda_env/lib/python3.8/site-packages/mmcv/__init__.py:20: UserWarning: On January 1, 2023, MMCV will release v2.0.0, in which it will remove components related to the training process and add a data transformation module. In addition, it will rename the package names mmcv to mmcv-lite and mmcv-full to mmcv. See https://github.com/open-mmlab/mmcv/blob/master/docs/en/compatibility.md for more details.\n",
      "  warnings.warn(\n"
     ]
    }
   ],
   "source": [
    "from mmcv.utils import collect_env"
   ]
  },
  {
   "cell_type": "code",
   "execution_count": 3,
   "metadata": {},
   "outputs": [
    {
     "name": "stdout",
     "output_type": "stream",
     "text": [
      "0.3.4\n"
     ]
    }
   ],
   "source": [
    "import mmrotate\n",
    "from mmrotate.datasets.builder import ROTATED_DATASETS\n",
    "from mmrotate.datasets.dota import DOTADataset\n",
    "print(mmrotate.__version__)"
   ]
  },
  {
   "cell_type": "code",
   "execution_count": 4,
   "metadata": {},
   "outputs": [
    {
     "name": "stdout",
     "output_type": "stream",
     "text": [
      "/gpfs/home/weitzk01/.conda/mmrotate_conda_env/lib/python3.8/site-packages/mmcv/__init__.py:20: UserWarning: On January 1, 2023, MMCV will release v2.0.0, in which it will remove components related to the training process and add a data transformation module. In addition, it will rename the package names mmcv to mmcv-lite and mmcv-full to mmcv. See https://github.com/open-mmlab/mmcv/blob/master/docs/en/compatibility.md for more details.\n",
      "  warnings.warn(\n",
      "processing oriented_rcnn_r50_fpn_1x_dota_le90...\n",
      "\u001b[32moriented_rcnn_r50_fpn_1x_dota_le90-6d2b2ce0.pth exists in /gpfs/home/weitzk01\u001b[0m\n",
      "\u001b[32mSuccessfully dumped oriented_rcnn_r50_fpn_1x_dota_le90.py to /gpfs/home/weitzk01\u001b[0m\n"
     ]
    }
   ],
   "source": [
    "# Test mmrotate installation\n",
    "!mim download mmrotate --config oriented_rcnn_r50_fpn_1x_dota_le90 --dest ."
   ]
  },
  {
   "cell_type": "code",
   "execution_count": 5,
   "metadata": {},
   "outputs": [
    {
     "name": "stdout",
     "output_type": "stream",
     "text": [
      "2.28.2\n"
     ]
    }
   ],
   "source": [
    "# Check MMDetection installation\n",
    "import mmdet\n",
    "print(mmdet.__version__)"
   ]
  },
  {
   "cell_type": "code",
   "execution_count": 6,
   "metadata": {},
   "outputs": [
    {
     "name": "stdout",
     "output_type": "stream",
     "text": [
      "10.2\n",
      "GCC 7.3\n"
     ]
    }
   ],
   "source": [
    "# Check mmcv installation\n",
    "import mmcv\n",
    "from mmcv import Config\n",
    "from mmcv.ops import get_compiling_cuda_version, get_compiler_version\n",
    "print(get_compiling_cuda_version())\n",
    "print(get_compiler_version())"
   ]
  },
  {
   "cell_type": "code",
   "execution_count": 7,
   "metadata": {},
   "outputs": [
    {
     "name": "stdout",
     "output_type": "stream",
     "text": [
      "1.8.0\n"
     ]
    }
   ],
   "source": [
    "import torch\n",
    "print(torch.__version__)"
   ]
  },
  {
   "cell_type": "code",
   "execution_count": 8,
   "metadata": {},
   "outputs": [
    {
     "name": "stderr",
     "output_type": "stream",
     "text": [
      "/bin/sh: gcc: command not found\n"
     ]
    },
    {
     "data": {
      "text/plain": [
       "{'sys.platform': 'linux',\n",
       " 'Python': '3.8.13 (default, Mar 28 2022, 11:38:47) [GCC 7.5.0]',\n",
       " 'CUDA available': True,\n",
       " 'GPU 0': 'Tesla V100-SXM2-16GB',\n",
       " 'CUDA_HOME': '/gpfs/share/apps/cuda/10.1.105',\n",
       " 'NVCC': 'Cuda compilation tools, release 10.1, V10.1.10',\n",
       " 'GCC': 'n/a',\n",
       " 'PyTorch': '1.8.0',\n",
       " 'PyTorch compiling details': 'PyTorch built with:\\n  - GCC 7.3\\n  - C++ Version: 201402\\n  - Intel(R) oneAPI Math Kernel Library Version 2021.4-Product Build 20210904 for Intel(R) 64 architecture applications\\n  - Intel(R) MKL-DNN v1.7.0 (Git Hash 7aed236906b1f7a05c0917e5257a1af05e9ff683)\\n  - OpenMP 201511 (a.k.a. OpenMP 4.5)\\n  - NNPACK is enabled\\n  - CPU capability usage: AVX2\\n  - CUDA Runtime 10.2\\n  - NVCC architecture flags: -gencode;arch=compute_37,code=sm_37;-gencode;arch=compute_50,code=sm_50;-gencode;arch=compute_60,code=sm_60;-gencode;arch=compute_61,code=sm_61;-gencode;arch=compute_70,code=sm_70;-gencode;arch=compute_75,code=sm_75;-gencode;arch=compute_37,code=compute_37\\n  - CuDNN 7.6.5\\n  - Magma 2.5.2\\n  - Build settings: BLAS_INFO=mkl, BUILD_TYPE=Release, CUDA_VERSION=10.2, CUDNN_VERSION=7.6.5, CXX_COMPILER=/opt/rh/devtoolset-7/root/usr/bin/c++, CXX_FLAGS= -Wno-deprecated -fvisibility-inlines-hidden -DUSE_PTHREADPOOL -fopenmp -DNDEBUG -DUSE_KINETO -DUSE_FBGEMM -DUSE_QNNPACK -DUSE_PYTORCH_QNNPACK -DUSE_XNNPACK -O2 -fPIC -Wno-narrowing -Wall -Wextra -Werror=return-type -Wno-missing-field-initializers -Wno-type-limits -Wno-array-bounds -Wno-unknown-pragmas -Wno-sign-compare -Wno-unused-parameter -Wno-unused-variable -Wno-unused-function -Wno-unused-result -Wno-unused-local-typedefs -Wno-strict-overflow -Wno-strict-aliasing -Wno-error=deprecated-declarations -Wno-stringop-overflow -Wno-psabi -Wno-error=pedantic -Wno-error=redundant-decls -Wno-error=old-style-cast -fdiagnostics-color=always -faligned-new -Wno-unused-but-set-variable -Wno-maybe-uninitialized -fno-math-errno -fno-trapping-math -Werror=format -Wno-stringop-overflow, LAPACK_INFO=mkl, PERF_WITH_AVX=1, PERF_WITH_AVX2=1, PERF_WITH_AVX512=1, TORCH_VERSION=1.8.0, USE_CUDA=ON, USE_CUDNN=ON, USE_EXCEPTION_PTR=1, USE_GFLAGS=OFF, USE_GLOG=OFF, USE_MKL=ON, USE_MKLDNN=ON, USE_MPI=OFF, USE_NCCL=ON, USE_NNPACK=ON, USE_OPENMP=ON, \\n',\n",
       " 'TorchVision': '0.9.0',\n",
       " 'OpenCV': '4.9.0',\n",
       " 'MMCV': '1.7.1',\n",
       " 'MMCV Compiler': 'GCC 7.3',\n",
       " 'MMCV CUDA Compiler': '10.2'}"
      ]
     },
     "execution_count": 8,
     "metadata": {},
     "output_type": "execute_result"
    }
   ],
   "source": [
    "from mmcv.utils import collect_env\n",
    "collect_env()"
   ]
  },
  {
   "cell_type": "code",
   "execution_count": 9,
   "metadata": {},
   "outputs": [
    {
     "data": {
      "image/png": "[encoded data removed]",
      "text/plain": [
       "<Figure size 2000x1000 with 2 Axes>"
      ]
     },
     "metadata": {},
     "output_type": "display_data"
    }
   ],
   "source": [
    "import matplotlib.pyplot as plt\n",
    "import mmcv\n",
    "\n",
    "image_name = 'DAR_UNLABLED_1_0'\n",
    "\n",
    "# Load the image\n",
    "img_path = f'/gpfs/home/weitzk01/satellite_mmrotate/images/{image_name}.png'\n",
    "img = mmcv.imread(img_path)\n",
    "\n",
    "# Load labels data (assuming img_labels is a DataFrame with x1, y1, x2, y2, ..., xn, yn columns)\n",
    "# Replace this line with the actual loading of your labels data\n",
    "img_labels = pd.read_csv(f'/gpfs/home/weitzk01/satellite_mmrotate/train/{image_name}.txt',\n",
    "            sep=' ',\n",
    "            names=['x1', 'y1', 'x2', 'y2', 'x3', 'y3', 'x4', 'y4', 'label', 'difficulty'])\n",
    "\n",
    "# Create subplots\n",
    "fig, axes = plt.subplots(1, 2, figsize=(20, 10))\n",
    "\n",
    "# Plot image without labels on the first subplot\n",
    "axes[0].imshow(mmcv.bgr2rgb(img))\n",
    "axes[0].set_title('Image without Labels')\n",
    "\n",
    "# Plot image with labels on the second subplot\n",
    "axes[1].imshow(mmcv.bgr2rgb(img))\n",
    "for index, row in img_labels.iterrows():\n",
    "    x = row[['x1', 'x2', 'x3', 'x4', 'x1']]\n",
    "    y = row[['y1', 'y2', 'y3', 'y4', 'y1']]\n",
    "    axes[1].plot(x, y, '-', color='red')\n",
    "    axes[1].plot(x, y, 'o', color='red')\n",
    "axes[1].set_title('Image with Labels')\n",
    "\n",
    "plt.suptitle(image_name, fontsize=16)\n",
    "\n",
    "# Show the subplots\n",
    "plt.show()"
   ]
  },
  {
   "cell_type": "code",
   "execution_count": 10,
   "metadata": {},
   "outputs": [],
   "source": [
    "@ROTATED_DATASETS.register_module()\n",
    "class SatteliteDataset(DOTADataset):\n",
    "    \"\"\"Grave dataset for detection.\"\"\"\n",
    "    CLASSES = ('grave',)"
   ]
  },
  {
   "cell_type": "code",
   "execution_count": 11,
   "metadata": {},
   "outputs": [
    {
     "name": "stdout",
     "output_type": "stream",
     "text": [
      "/gpfs/home/weitzk01/.conda/mmrotate_conda_env/lib/python3.8/site-packages/mmcv/__init__.py:20: UserWarning: On January 1, 2023, MMCV will release v2.0.0, in which it will remove components related to the training process and add a data transformation module. In addition, it will rename the package names mmcv to mmcv-lite and mmcv-full to mmcv. See https://github.com/open-mmlab/mmcv/blob/master/docs/en/compatibility.md for more details.\n",
      "  warnings.warn(\n",
      "processing oriented_rcnn_r50_fpn_1x_dota_le90...\n",
      "\u001b[32moriented_rcnn_r50_fpn_1x_dota_le90-6d2b2ce0.pth exists in /gpfs/home/weitzk01\u001b[0m\n",
      "\u001b[32mSuccessfully dumped oriented_rcnn_r50_fpn_1x_dota_le90.py to /gpfs/home/weitzk01\u001b[0m\n"
     ]
    }
   ],
   "source": [
    "# We use mim to download the pre-trained checkpoints for inference and finetuning.\n",
    "!mim download mmrotate --config oriented_rcnn_r50_fpn_1x_dota_le90 --dest ."
   ]
  },
  {
   "cell_type": "code",
   "execution_count": 12,
   "metadata": {},
   "outputs": [],
   "source": [
    "from mmcv import Config\n",
    "cfg = Config.fromfile('oriented_rcnn_r50_fpn_1x_dota_le90.py')"
   ]
  },
  {
   "cell_type": "code",
   "execution_count": 13,
   "metadata": {},
   "outputs": [
    {
     "name": "stdout",
     "output_type": "stream",
     "text": [
      "Config:\n",
      "dataset_type = 'SatteliteDataset'\n",
      "data_root = '/gpfs/home/weitzk01/satellite_mmrotate'\n",
      "img_norm_cfg = dict(\n",
      "    mean=[123.675, 116.28, 103.53], std=[58.395, 57.12, 57.375], to_rgb=True)\n",
      "train_pipeline = [\n",
      "    dict(type='LoadImageFromFile'),\n",
      "    dict(type='LoadAnnotations', with_bbox=True),\n",
      "    dict(type='RResize', img_scale=(1024, 1024)),\n",
      "    dict(\n",
      "        type='RRandomFlip',\n",
      "        flip_ratio=[0.25, 0.25, 0.25],\n",
      "        direction=['horizontal', 'vertical', 'diagonal'],\n",
      "        version='le90'),\n",
      "    dict(\n",
      "        type='Normalize',\n",
      "        mean=[123.675, 116.28, 103.53],\n",
      "        std=[58.395, 57.12, 57.375],\n",
      "        to_rgb=True),\n",
      "    dict(type='Pad', size_divisor=32),\n",
      "    dict(type='DefaultFormatBundle'),\n",
      "    dict(type='Collect', keys=['img', 'gt_bboxes', 'gt_labels'])\n",
      "]\n",
      "test_pipeline = [\n",
      "    dict(type='LoadImageFromFile'),\n",
      "    dict(\n",
      "        type='MultiScaleFlipAug',\n",
      "        img_scale=(1024, 1024),\n",
      "        flip=False,\n",
      "        transforms=[\n",
      "            dict(type='RResize'),\n",
      "            dict(\n",
      "                type='Normalize',\n",
      "                mean=[123.675, 116.28, 103.53],\n",
      "                std=[58.395, 57.12, 57.375],\n",
      "                to_rgb=True),\n",
      "            dict(type='Pad', size_divisor=32),\n",
      "            dict(type='DefaultFormatBundle'),\n",
      "            dict(type='Collect', keys=['img'])\n",
      "        ])\n",
      "]\n",
      "data = dict(\n",
      "    samples_per_gpu=2,\n",
      "    workers_per_gpu=2,\n",
      "    train=dict(\n",
      "        type='SatteliteDataset',\n",
      "        ann_file='train',\n",
      "        img_prefix='images',\n",
      "        pipeline=[\n",
      "            dict(type='LoadImageFromFile'),\n",
      "            dict(type='LoadAnnotations', with_bbox=True),\n",
      "            dict(type='RResize', img_scale=(1024, 1024)),\n",
      "            dict(\n",
      "                type='RRandomFlip',\n",
      "                flip_ratio=[0.25, 0.25, 0.25],\n",
      "                direction=['horizontal', 'vertical', 'diagonal'],\n",
      "                version='le90'),\n",
      "            dict(\n",
      "                type='Normalize',\n",
      "                mean=[123.675, 116.28, 103.53],\n",
      "                std=[58.395, 57.12, 57.375],\n",
      "                to_rgb=True),\n",
      "            dict(type='Pad', size_divisor=32),\n",
      "            dict(type='DefaultFormatBundle'),\n",
      "            dict(type='Collect', keys=['img', 'gt_bboxes', 'gt_labels'])\n",
      "        ],\n",
      "        version='le90',\n",
      "        data_root='/gpfs/home/weitzk01/satellite_mmrotate'),\n",
      "    val=dict(\n",
      "        type='SatteliteDataset',\n",
      "        ann_file='val',\n",
      "        img_prefix='images',\n",
      "        pipeline=[\n",
      "            dict(type='LoadImageFromFile'),\n",
      "            dict(\n",
      "                type='MultiScaleFlipAug',\n",
      "                img_scale=(1024, 1024),\n",
      "                flip=False,\n",
      "                transforms=[\n",
      "                    dict(type='RResize'),\n",
      "                    dict(\n",
      "                        type='Normalize',\n",
      "                        mean=[123.675, 116.28, 103.53],\n",
      "                        std=[58.395, 57.12, 57.375],\n",
      "                        to_rgb=True),\n",
      "                    dict(type='Pad', size_divisor=32),\n",
      "                    dict(type='DefaultFormatBundle'),\n",
      "                    dict(type='Collect', keys=['img'])\n",
      "                ])\n",
      "        ],\n",
      "        version='le90',\n",
      "        data_root='/gpfs/home/weitzk01/satellite_mmrotate'),\n",
      "    test=dict(\n",
      "        type='SatteliteDataset',\n",
      "        ann_file='val',\n",
      "        img_prefix='images',\n",
      "        pipeline=[\n",
      "            dict(type='LoadImageFromFile'),\n",
      "            dict(\n",
      "                type='MultiScaleFlipAug',\n",
      "                img_scale=(1024, 1024),\n",
      "                flip=False,\n",
      "                transforms=[\n",
      "                    dict(type='RResize'),\n",
      "                    dict(\n",
      "                        type='Normalize',\n",
      "                        mean=[123.675, 116.28, 103.53],\n",
      "                        std=[58.395, 57.12, 57.375],\n",
      "                        to_rgb=True),\n",
      "                    dict(type='Pad', size_divisor=32),\n",
      "                    dict(type='DefaultFormatBundle'),\n",
      "                    dict(type='Collect', keys=['img'])\n",
      "                ])\n",
      "        ],\n",
      "        version='le90',\n",
      "        data_root='/gpfs/home/weitzk01/satellite_mmrotate'))\n",
      "evaluation = dict(interval=3, metric='mAP')\n",
      "optimizer = dict(type='SGD', lr=0.001, momentum=0.9, weight_decay=0.0001)\n",
      "optimizer_config = dict(grad_clip=dict(max_norm=35, norm_type=2))\n",
      "lr_config = dict(\n",
      "    policy='step',\n",
      "    warmup=None,\n",
      "    warmup_iters=500,\n",
      "    warmup_ratio=0.3333333333333333,\n",
      "    step=[8, 11])\n",
      "runner = dict(type='EpochBasedRunner', max_epochs=200)\n",
      "checkpoint_config = dict(interval=3)\n",
      "log_config = dict(\n",
      "    interval=10,\n",
      "    hooks=[dict(type='TextLoggerHook'),\n",
      "           dict(type='TensorboardLoggerHook')])\n",
      "dist_params = dict(backend='nccl')\n",
      "log_level = 'INFO'\n",
      "load_from = 'oriented_rcnn_r50_fpn_1x_dota_le90-6d2b2ce0.pth'\n",
      "resume_from = None\n",
      "workflow = [('train', 1)]\n",
      "opencv_num_threads = 0\n",
      "mp_start_method = 'fork'\n",
      "angle_version = 'le90'\n",
      "model = dict(\n",
      "    type='OrientedRCNN',\n",
      "    backbone=dict(\n",
      "        type='ResNet',\n",
      "        depth=50,\n",
      "        num_stages=4,\n",
      "        out_indices=(0, 1, 2, 3),\n",
      "        frozen_stages=1,\n",
      "        norm_cfg=dict(type='BN', requires_grad=True),\n",
      "        norm_eval=True,\n",
      "        style='pytorch',\n",
      "        init_cfg=dict(type='Pretrained', checkpoint='torchvision://resnet50')),\n",
      "    neck=dict(\n",
      "        type='FPN',\n",
      "        in_channels=[256, 512, 1024, 2048],\n",
      "        out_channels=256,\n",
      "        num_outs=5),\n",
      "    rpn_head=dict(\n",
      "        type='OrientedRPNHead',\n",
      "        in_channels=256,\n",
      "        feat_channels=256,\n",
      "        version='le90',\n",
      "        anchor_generator=dict(\n",
      "            type='AnchorGenerator',\n",
      "            scales=[8],\n",
      "            ratios=[0.5, 1.0, 2.0],\n",
      "            strides=[4, 8, 16, 32, 64]),\n",
      "        bbox_coder=dict(\n",
      "            type='MidpointOffsetCoder',\n",
      "            angle_range='le90',\n",
      "            target_means=[0.0, 0.0, 0.0, 0.0, 0.0, 0.0],\n",
      "            target_stds=[1.0, 1.0, 1.0, 1.0, 0.5, 0.5]),\n",
      "        loss_cls=dict(\n",
      "            type='CrossEntropyLoss', use_sigmoid=True, loss_weight=1.0),\n",
      "        loss_bbox=dict(\n",
      "            type='SmoothL1Loss', beta=0.1111111111111111, loss_weight=1.0)),\n",
      "    roi_head=dict(\n",
      "        type='OrientedStandardRoIHead',\n",
      "        bbox_roi_extractor=dict(\n",
      "            type='RotatedSingleRoIExtractor',\n",
      "            roi_layer=dict(\n",
      "                type='RoIAlignRotated',\n",
      "                out_size=7,\n",
      "                sample_num=2,\n",
      "                clockwise=True),\n",
      "            out_channels=256,\n",
      "            featmap_strides=[4, 8, 16, 32]),\n",
      "        bbox_head=dict(\n",
      "            type='RotatedShared2FCBBoxHead',\n",
      "            in_channels=256,\n",
      "            fc_out_channels=1024,\n",
      "            roi_feat_size=7,\n",
      "            num_classes=1,\n",
      "            bbox_coder=dict(\n",
      "                type='DeltaXYWHAOBBoxCoder',\n",
      "                angle_range='le90',\n",
      "                norm_factor=None,\n",
      "                edge_swap=True,\n",
      "                proj_xy=True,\n",
      "                target_means=(0.0, 0.0, 0.0, 0.0, 0.0),\n",
      "                target_stds=(0.1, 0.1, 0.2, 0.2, 0.1)),\n",
      "            reg_class_agnostic=True,\n",
      "            loss_cls=dict(\n",
      "                type='CrossEntropyLoss', use_sigmoid=False, loss_weight=1.0),\n",
      "            loss_bbox=dict(type='SmoothL1Loss', beta=1.0, loss_weight=1.0))),\n",
      "    train_cfg=dict(\n",
      "        rpn=dict(\n",
      "            assigner=dict(\n",
      "                type='MaxIoUAssigner',\n",
      "                pos_iou_thr=0.7,\n",
      "                neg_iou_thr=0.3,\n",
      "                min_pos_iou=0.3,\n",
      "                match_low_quality=True,\n",
      "                ignore_iof_thr=-1),\n",
      "            sampler=dict(\n",
      "                type='RandomSampler',\n",
      "                num=256,\n",
      "                pos_fraction=0.5,\n",
      "                neg_pos_ub=-1,\n",
      "                add_gt_as_proposals=False),\n",
      "            allowed_border=0,\n",
      "            pos_weight=-1,\n",
      "            debug=False),\n",
      "        rpn_proposal=dict(\n",
      "            nms_pre=2000,\n",
      "            max_per_img=2000,\n",
      "            nms=dict(type='nms', iou_threshold=0.8),\n",
      "            min_bbox_size=0),\n",
      "        rcnn=dict(\n",
      "            assigner=dict(\n",
      "                type='MaxIoUAssigner',\n",
      "                pos_iou_thr=0.5,\n",
      "                neg_iou_thr=0.5,\n",
      "                min_pos_iou=0.5,\n",
      "                match_low_quality=False,\n",
      "                iou_calculator=dict(type='RBboxOverlaps2D'),\n",
      "                ignore_iof_thr=-1),\n",
      "            sampler=dict(\n",
      "                type='RRandomSampler',\n",
      "                num=512,\n",
      "                pos_fraction=0.25,\n",
      "                neg_pos_ub=-1,\n",
      "                add_gt_as_proposals=True),\n",
      "            pos_weight=-1,\n",
      "            debug=False)),\n",
      "    test_cfg=dict(\n",
      "        rpn=dict(\n",
      "            nms_pre=2000,\n",
      "            max_per_img=2000,\n",
      "            nms=dict(type='nms', iou_threshold=0.8),\n",
      "            min_bbox_size=0),\n",
      "        rcnn=dict(\n",
      "            nms_pre=2000,\n",
      "            min_bbox_size=0,\n",
      "            score_thr=0.05,\n",
      "            nms=dict(iou_thr=0.1),\n",
      "            max_per_img=2000)))\n",
      "work_dir = './tutorial_exps'\n",
      "seed = 0\n",
      "gpu_ids = range(0, 1)\n",
      "device = 'cuda'\n",
      "\n"
     ]
    }
   ],
   "source": [
    "from mmdet.apis import set_random_seed\n",
    "\n",
    "# Modify dataset type and path\n",
    "cfg.dataset_type = 'SatteliteDataset'\n",
    "cfg.data_root = '/gpfs/home/weitzk01/satellite_mmrotate'\n",
    "\n",
    "cfg.data.test.type = 'SatteliteDataset'\n",
    "cfg.data.test.data_root = '/gpfs/home/weitzk01/satellite_mmrotate'\n",
    "cfg.data.test.ann_file = 'val'\n",
    "cfg.data.test.img_prefix = 'images'\n",
    "\n",
    "cfg.data.train.type = 'SatteliteDataset'\n",
    "cfg.data.train.data_root = '/gpfs/home/weitzk01/satellite_mmrotate'\n",
    "cfg.data.train.ann_file = 'train'\n",
    "cfg.data.train.img_prefix = 'images'\n",
    "\n",
    "cfg.data.val.type = 'SatteliteDataset'\n",
    "cfg.data.val.data_root = '/gpfs/home/weitzk01/satellite_mmrotate'\n",
    "cfg.data.val.ann_file = 'val'\n",
    "cfg.data.val.img_prefix = 'images'\n",
    "\n",
    "# modify num classes of the model in box head\n",
    "cfg.model.roi_head.bbox_head.num_classes = 1\n",
    "# We can still use the pre-trained Mask RCNN model\n",
    "cfg.load_from = 'oriented_rcnn_r50_fpn_1x_dota_le90-6d2b2ce0.pth'\n",
    "\n",
    "# Set up working dir to save files and logs.\n",
    "cfg.work_dir = './tutorial_exps'\n",
    "\n",
    "cfg.optimizer.lr = 0.001\n",
    "cfg.lr_config.warmup = None\n",
    "cfg.runner.max_epochs = 200\n",
    "cfg.log_config.interval = 10\n",
    "\n",
    "# Change the evaluation metric since we use customized dataset.\n",
    "cfg.evaluation.metric = 'mAP'\n",
    "# We can set the evaluation interval to reduce the evaluation times\n",
    "cfg.evaluation.interval = 3\n",
    "# We can set the checkpoint saving interval to reduce the storage cost\n",
    "cfg.checkpoint_config.interval = 3\n",
    "\n",
    "# Set seed thus the results are more reproducible\n",
    "cfg.seed = 0\n",
    "set_random_seed(0, deterministic=False)\n",
    "cfg.gpu_ids = range(1)\n",
    "cfg.device='cuda'\n",
    "\n",
    "# We can also use tensorboard to log the training process\n",
    "cfg.log_config.hooks = [\n",
    "    dict(type='TextLoggerHook'),\n",
    "    dict(type='TensorboardLoggerHook')]\n",
    "\n",
    "# We can initialize the logger for training and have a look\n",
    "# at the final config used for training\n",
    "print(f'Config:\\n{cfg.pretty_text}')"
   ]
  },
  {
   "cell_type": "code",
   "execution_count": null,
   "metadata": {},
   "outputs": [],
   "source": []
  },
  {
   "cell_type": "code",
   "execution_count": null,
   "metadata": {},
   "outputs": [
    {
     "name": "stderr",
     "output_type": "stream",
     "text": [
      "/gpfs/home/weitzk01/.conda/mmrotate_conda_env/lib/python3.8/site-packages/mmdet/models/dense_heads/anchor_head.py:116: UserWarning: DeprecationWarning: `num_anchors` is deprecated, for consistency or also use `num_base_priors` instead\n",
      "  warnings.warn('DeprecationWarning: `num_anchors` is deprecated, '\n",
      "2024-03-04 14:50:21,927 - mmdet - INFO - Automatic scaling of learning rate (LR) has been disabled.\n",
      "2024-03-04 14:50:22,241 - mmdet - INFO - load checkpoint from local path: oriented_rcnn_r50_fpn_1x_dota_le90-6d2b2ce0.pth\n",
      "2024-03-04 14:50:22,487 - mmdet - WARNING - The model and loaded state dict do not match exactly\n",
      "\n",
      "size mismatch for roi_head.bbox_head.fc_cls.weight: copying a param with shape torch.Size([16, 1024]) from checkpoint, the shape in current model is torch.Size([2, 1024]).\n",
      "size mismatch for roi_head.bbox_head.fc_cls.bias: copying a param with shape torch.Size([16]) from checkpoint, the shape in current model is torch.Size([2]).\n",
      "2024-03-04 14:50:22,494 - mmdet - INFO - Start running, host: weitzk01@gn-0007, work_dir: /gpfs/home/weitzk01/tutorial_exps\n",
      "2024-03-04 14:50:22,496 - mmdet - INFO - Hooks will be executed in the following order:\n",
      "before_run:\n",
      "(VERY_HIGH   ) StepLrUpdaterHook                  \n",
      "(NORMAL      ) CheckpointHook                     \n",
      "(LOW         ) EvalHook                           \n",
      "(VERY_LOW    ) TextLoggerHook                     \n",
      "(VERY_LOW    ) TensorboardLoggerHook              \n",
      " -------------------- \n",
      "before_train_epoch:\n",
      "(VERY_HIGH   ) StepLrUpdaterHook                  \n",
      "(LOW         ) IterTimerHook                      \n",
      "(LOW         ) EvalHook                           \n",
      "(VERY_LOW    ) TextLoggerHook                     \n",
      "(VERY_LOW    ) TensorboardLoggerHook              \n",
      " -------------------- \n",
      "before_train_iter:\n",
      "(VERY_HIGH   ) StepLrUpdaterHook                  \n",
      "(LOW         ) IterTimerHook                      \n",
      "(LOW         ) EvalHook                           \n",
      " -------------------- \n",
      "after_train_iter:\n",
      "(ABOVE_NORMAL) OptimizerHook                      \n",
      "(NORMAL      ) CheckpointHook                     \n",
      "(LOW         ) IterTimerHook                      \n",
      "(LOW         ) EvalHook                           \n",
      "(VERY_LOW    ) TextLoggerHook                     \n",
      "(VERY_LOW    ) TensorboardLoggerHook              \n",
      " -------------------- \n",
      "after_train_epoch:\n",
      "(NORMAL      ) CheckpointHook                     \n",
      "(LOW         ) EvalHook                           \n",
      "(VERY_LOW    ) TextLoggerHook                     \n",
      "(VERY_LOW    ) TensorboardLoggerHook              \n",
      " -------------------- \n",
      "before_val_epoch:\n",
      "(LOW         ) IterTimerHook                      \n",
      "(VERY_LOW    ) TextLoggerHook                     \n",
      "(VERY_LOW    ) TensorboardLoggerHook              \n",
      " -------------------- \n",
      "before_val_iter:\n",
      "(LOW         ) IterTimerHook                      \n",
      " -------------------- \n",
      "after_val_iter:\n",
      "(LOW         ) IterTimerHook                      \n",
      " -------------------- \n",
      "after_val_epoch:\n",
      "(VERY_LOW    ) TextLoggerHook                     \n",
      "(VERY_LOW    ) TensorboardLoggerHook              \n",
      " -------------------- \n",
      "after_run:\n",
      "(VERY_LOW    ) TextLoggerHook                     \n",
      "(VERY_LOW    ) TensorboardLoggerHook              \n",
      " -------------------- \n",
      "2024-03-04 14:50:22,497 - mmdet - INFO - workflow: [('train', 1)], max: 200 epochs\n",
      "2024-03-04 14:50:22,498 - mmdet - INFO - Checkpoints will be saved to /gpfs/home/weitzk01/tutorial_exps by HardDiskBackend.\n",
      "/gpfs/home/weitzk01/.conda/mmrotate_conda_env/lib/python3.8/site-packages/mmdet/models/dense_heads/anchor_head.py:123: UserWarning: DeprecationWarning: anchor_generator is deprecated, please use \"prior_generator\" instead\n",
      "  warnings.warn('DeprecationWarning: anchor_generator is deprecated, '\n",
      "2024-03-04 14:50:29,187 - mmdet - INFO - Epoch [1][10/22]\tlr: 1.000e-03, eta: 0:42:41, time: 0.584, data_time: 0.287, memory: 4222, loss_rpn_cls: 2.2106, loss_rpn_bbox: 0.5071, loss_cls: 0.5901, acc: 68.9453, loss_bbox: 0.2692, loss: 3.5770, grad_norm: 25.6779\n",
      "2024-03-04 14:50:31,737 - mmdet - INFO - Epoch [1][20/22]\tlr: 1.000e-03, eta: 0:30:36, time: 0.255, data_time: 0.009, memory: 4222, loss_rpn_cls: 0.4607, loss_rpn_bbox: 0.4545, loss_cls: 0.3910, acc: 87.4512, loss_bbox: 0.2625, loss: 1.5687, grad_norm: 7.0224\n",
      "2024-03-04 14:50:37,913 - mmdet - INFO - Epoch [2][10/22]\tlr: 1.000e-03, eta: 0:31:42, time: 0.555, data_time: 0.298, memory: 4237, loss_rpn_cls: 0.4442, loss_rpn_bbox: 0.5370, loss_cls: 0.4728, acc: 82.3242, loss_bbox: 0.3082, loss: 1.7623, grad_norm: 4.7366\n",
      "2024-03-04 14:50:40,437 - mmdet - INFO - Epoch [2][20/22]\tlr: 1.000e-03, eta: 0:28:28, time: 0.252, data_time: 0.008, memory: 4237, loss_rpn_cls: 0.4162, loss_rpn_bbox: 0.4657, loss_cls: 0.4258, acc: 85.2637, loss_bbox: 0.2886, loss: 1.5963, grad_norm: 4.7880\n",
      "2024-03-04 14:50:46,562 - mmdet - INFO - Epoch [3][10/22]\tlr: 1.000e-03, eta: 0:29:27, time: 0.550, data_time: 0.297, memory: 4237, loss_rpn_cls: 0.3692, loss_rpn_bbox: 0.4407, loss_cls: 0.4264, acc: 84.4531, loss_bbox: 0.3628, loss: 1.5990, grad_norm: 4.4049\n",
      "2024-03-04 14:50:49,129 - mmdet - INFO - Epoch [3][20/22]\tlr: 1.000e-03, eta: 0:27:41, time: 0.257, data_time: 0.008, memory: 4237, loss_rpn_cls: 0.3911, loss_rpn_bbox: 0.4593, loss_cls: 0.4439, acc: 82.2559, loss_bbox: 0.3312, loss: 1.6255, grad_norm: 3.9459\n",
      "2024-03-04 14:50:49,747 - mmdet - INFO - Saving checkpoint at 3 epochs\n"
     ]
    },
    {
     "name": "stdout",
     "output_type": "stream",
     "text": [
      "[>>>>>>>>>>>>>>>>>>>>>>>>>>>>>>>>] 58/58, 13.2 task/s, elapsed: 4s, ETA:     0s"
     ]
    },
    {
     "name": "stderr",
     "output_type": "stream",
     "text": [
      "2024-03-04 14:51:11,833 - mmdet - INFO - \n",
      "+-------+------+-------+--------+-------+\n",
      "| class | gts  | dets  | recall | ap    |\n",
      "+-------+------+-------+--------+-------+\n",
      "| grave | 3691 | 11669 | 0.112  | 0.095 |\n",
      "+-------+------+-------+--------+-------+\n",
      "| mAP   |      |       |        | 0.095 |\n",
      "+-------+------+-------+--------+-------+\n",
      "/gpfs/home/weitzk01/.conda/mmrotate_conda_env/lib/python3.8/site-packages/mmcv/__init__.py:20: UserWarning: On January 1, 2023, MMCV will release v2.0.0, in which it will remove components related to the training process and add a data transformation module. In addition, it will rename the package names mmcv to mmcv-lite and mmcv-full to mmcv. See https://github.com/open-mmlab/mmcv/blob/master/docs/en/compatibility.md for more details.\n",
      "  warnings.warn(\n",
      "/gpfs/home/weitzk01/.conda/mmrotate_conda_env/lib/python3.8/site-packages/mmcv/__init__.py:20: UserWarning: On January 1, 2023, MMCV will release v2.0.0, in which it will remove components related to the training process and add a data transformation module. In addition, it will rename the package names mmcv to mmcv-lite and mmcv-full to mmcv. See https://github.com/open-mmlab/mmcv/blob/master/docs/en/compatibility.md for more details.\n",
      "  warnings.warn(\n",
      "/gpfs/home/weitzk01/.conda/mmrotate_conda_env/lib/python3.8/site-packages/mmcv/__init__.py:20: UserWarning: On January 1, 2023, MMCV will release v2.0.0, in which it will remove components related to the training process and add a data transformation module. In addition, it will rename the package names mmcv to mmcv-lite and mmcv-full to mmcv. See https://github.com/open-mmlab/mmcv/blob/master/docs/en/compatibility.md for more details.\n",
      "  warnings.warn(\n",
      "2024-03-04 14:51:11,948 - mmdet - INFO - Epoch(val) [3][58]\tmAP: 0.0954\n",
      "2024-03-04 14:51:17,391 - mmdet - INFO - Epoch [4][10/22]\tlr: 1.000e-03, eta: 0:28:24, time: 0.542, data_time: 0.284, memory: 4237, loss_rpn_cls: 0.3911, loss_rpn_bbox: 0.5428, loss_cls: 0.4600, acc: 81.3379, loss_bbox: 0.3604, loss: 1.7544, grad_norm: 3.6046\n",
      "2024-03-04 14:51:19,928 - mmdet - INFO - Epoch [4][20/22]\tlr: 1.000e-03, eta: 0:27:09, time: 0.254, data_time: 0.008, memory: 4237, loss_rpn_cls: 0.3618, loss_rpn_bbox: 0.3855, loss_cls: 0.4061, acc: 84.4238, loss_bbox: 0.3553, loss: 1.5086, grad_norm: 4.2492\n",
      "2024-03-04 14:51:25,945 - mmdet - INFO - Epoch [5][10/22]\tlr: 1.000e-03, eta: 0:27:42, time: 0.539, data_time: 0.282, memory: 4237, loss_rpn_cls: 0.4042, loss_rpn_bbox: 0.4389, loss_cls: 0.4266, acc: 83.0469, loss_bbox: 0.4448, loss: 1.7145, grad_norm: 4.9493\n",
      "2024-03-04 14:51:28,542 - mmdet - INFO - Epoch [5][20/22]\tlr: 1.000e-03, eta: 0:26:48, time: 0.260, data_time: 0.008, memory: 4237, loss_rpn_cls: 0.3925, loss_rpn_bbox: 0.4057, loss_cls: 0.4333, acc: 82.3926, loss_bbox: 0.3368, loss: 1.5683, grad_norm: 4.2528\n",
      "2024-03-04 14:51:34,837 - mmdet - INFO - Epoch [6][10/22]\tlr: 1.000e-03, eta: 0:27:25, time: 0.565, data_time: 0.311, memory: 4237, loss_rpn_cls: 0.3638, loss_rpn_bbox: 0.3368, loss_cls: 0.4208, acc: 82.6270, loss_bbox: 0.3105, loss: 1.4319, grad_norm: 4.0916\n",
      "2024-03-04 14:51:37,402 - mmdet - INFO - Epoch [6][20/22]\tlr: 1.000e-03, eta: 0:26:39, time: 0.256, data_time: 0.008, memory: 4237, loss_rpn_cls: 0.3748, loss_rpn_bbox: 0.5110, loss_cls: 0.4501, acc: 81.4551, loss_bbox: 0.3653, loss: 1.7012, grad_norm: 3.8937\n",
      "2024-03-04 14:51:38,011 - mmdet - INFO - Saving checkpoint at 6 epochs\n"
     ]
    },
    {
     "name": "stdout",
     "output_type": "stream",
     "text": [
      "[>>>>>>>>>>>>>>>>>>>>>>>>>>>>>>>>] 58/58, 13.0 task/s, elapsed: 4s, ETA:     0s"
     ]
    },
    {
     "name": "stderr",
     "output_type": "stream",
     "text": [
      "2024-03-04 14:51:59,964 - mmdet - INFO - \n",
      "+-------+------+-------+--------+-------+\n",
      "| class | gts  | dets  | recall | ap    |\n",
      "+-------+------+-------+--------+-------+\n",
      "| grave | 3691 | 10619 | 0.135  | 0.076 |\n",
      "+-------+------+-------+--------+-------+\n",
      "| mAP   |      |       |        | 0.076 |\n",
      "+-------+------+-------+--------+-------+\n",
      "/gpfs/home/weitzk01/.conda/mmrotate_conda_env/lib/python3.8/site-packages/mmcv/__init__.py:20: UserWarning: On January 1, 2023, MMCV will release v2.0.0, in which it will remove components related to the training process and add a data transformation module. In addition, it will rename the package names mmcv to mmcv-lite and mmcv-full to mmcv. See https://github.com/open-mmlab/mmcv/blob/master/docs/en/compatibility.md for more details.\n",
      "  warnings.warn(\n",
      "/gpfs/home/weitzk01/.conda/mmrotate_conda_env/lib/python3.8/site-packages/mmcv/__init__.py:20: UserWarning: On January 1, 2023, MMCV will release v2.0.0, in which it will remove components related to the training process and add a data transformation module. In addition, it will rename the package names mmcv to mmcv-lite and mmcv-full to mmcv. See https://github.com/open-mmlab/mmcv/blob/master/docs/en/compatibility.md for more details.\n",
      "  warnings.warn(\n",
      "2024-03-04 14:52:00,051 - mmdet - INFO - Epoch(val) [6][58]\tmAP: 0.0761\n",
      "2024-03-04 14:52:05,606 - mmdet - INFO - Epoch [7][10/22]\tlr: 1.000e-03, eta: 0:27:06, time: 0.554, data_time: 0.308, memory: 4237, loss_rpn_cls: 0.3417, loss_rpn_bbox: 0.4515, loss_cls: 0.3929, acc: 84.6387, loss_bbox: 0.3311, loss: 1.5172, grad_norm: 4.1480\n",
      "2024-03-04 14:52:08,199 - mmdet - INFO - Epoch [7][20/22]\tlr: 1.000e-03, eta: 0:26:28, time: 0.259, data_time: 0.008, memory: 4237, loss_rpn_cls: 0.3685, loss_rpn_bbox: 0.3889, loss_cls: 0.4655, acc: 80.0977, loss_bbox: 0.3916, loss: 1.6145, grad_norm: 4.3879\n",
      "2024-03-04 14:52:14,423 - mmdet - INFO - Epoch [8][10/22]\tlr: 1.000e-03, eta: 0:26:52, time: 0.561, data_time: 0.304, memory: 4237, loss_rpn_cls: 0.3271, loss_rpn_bbox: 0.3866, loss_cls: 0.4032, acc: 83.5254, loss_bbox: 0.3404, loss: 1.4574, grad_norm: 3.9986\n",
      "2024-03-04 14:52:16,974 - mmdet - INFO - Epoch [8][20/22]\tlr: 1.000e-03, eta: 0:26:18, time: 0.255, data_time: 0.009, memory: 4237, loss_rpn_cls: 0.3716, loss_rpn_bbox: 0.4900, loss_cls: 0.4352, acc: 81.5332, loss_bbox: 0.3757, loss: 1.6725, grad_norm: 4.3045\n",
      "2024-03-04 14:52:23,071 - mmdet - INFO - Epoch [9][10/22]\tlr: 1.000e-04, eta: 0:26:36, time: 0.549, data_time: 0.295, memory: 4237, loss_rpn_cls: 0.3594, loss_rpn_bbox: 0.3928, loss_cls: 0.4095, acc: 83.1934, loss_bbox: 0.3169, loss: 1.4786, grad_norm: 3.8358\n",
      "2024-03-04 14:52:25,636 - mmdet - INFO - Epoch [9][20/22]\tlr: 1.000e-04, eta: 0:26:06, time: 0.257, data_time: 0.008, memory: 4237, loss_rpn_cls: 0.3396, loss_rpn_bbox: 0.3692, loss_cls: 0.4234, acc: 82.0703, loss_bbox: 0.3896, loss: 1.5218, grad_norm: 3.9010\n",
      "2024-03-04 14:52:26,311 - mmdet - INFO - Saving checkpoint at 9 epochs\n"
     ]
    },
    {
     "name": "stdout",
     "output_type": "stream",
     "text": [
      "[>>>>>>>>>>>>>>>>>>>>>>>>>>>>>>>>] 58/58, 13.2 task/s, elapsed: 4s, ETA:     0s"
     ]
    },
    {
     "name": "stderr",
     "output_type": "stream",
     "text": [
      "2024-03-04 14:52:47,088 - mmdet - INFO - \n",
      "+-------+------+------+--------+-------+\n",
      "| class | gts  | dets | recall | ap    |\n",
      "+-------+------+------+--------+-------+\n",
      "| grave | 3691 | 9677 | 0.122  | 0.069 |\n",
      "+-------+------+------+--------+-------+\n",
      "| mAP   |      |      |        | 0.069 |\n",
      "+-------+------+------+--------+-------+\n",
      "/gpfs/home/weitzk01/.conda/mmrotate_conda_env/lib/python3.8/site-packages/mmcv/__init__.py:20: UserWarning: On January 1, 2023, MMCV will release v2.0.0, in which it will remove components related to the training process and add a data transformation module. In addition, it will rename the package names mmcv to mmcv-lite and mmcv-full to mmcv. See https://github.com/open-mmlab/mmcv/blob/master/docs/en/compatibility.md for more details.\n",
      "  warnings.warn(\n",
      "/gpfs/home/weitzk01/.conda/mmrotate_conda_env/lib/python3.8/site-packages/mmcv/__init__.py:20: UserWarning: On January 1, 2023, MMCV will release v2.0.0, in which it will remove components related to the training process and add a data transformation module. In addition, it will rename the package names mmcv to mmcv-lite and mmcv-full to mmcv. See https://github.com/open-mmlab/mmcv/blob/master/docs/en/compatibility.md for more details.\n",
      "  warnings.warn(\n",
      "/gpfs/home/weitzk01/.conda/mmrotate_conda_env/lib/python3.8/site-packages/mmcv/__init__.py:20: UserWarning: On January 1, 2023, MMCV will release v2.0.0, in which it will remove components related to the training process and add a data transformation module. In addition, it will rename the package names mmcv to mmcv-lite and mmcv-full to mmcv. See https://github.com/open-mmlab/mmcv/blob/master/docs/en/compatibility.md for more details.\n",
      "  warnings.warn(\n",
      "/gpfs/home/weitzk01/.conda/mmrotate_conda_env/lib/python3.8/site-packages/mmcv/__init__.py:20: UserWarning: On January 1, 2023, MMCV will release v2.0.0, in which it will remove components related to the training process and add a data transformation module. In addition, it will rename the package names mmcv to mmcv-lite and mmcv-full to mmcv. See https://github.com/open-mmlab/mmcv/blob/master/docs/en/compatibility.md for more details.\n",
      "  warnings.warn(\n",
      "2024-03-04 14:52:47,174 - mmdet - INFO - Epoch(val) [9][58]\tmAP: 0.0687\n",
      "2024-03-04 14:52:52,567 - mmdet - INFO - Epoch [10][10/22]\tlr: 1.000e-04, eta: 0:26:20, time: 0.538, data_time: 0.284, memory: 4237, loss_rpn_cls: 0.3235, loss_rpn_bbox: 0.4850, loss_cls: 0.4290, acc: 81.5430, loss_bbox: 0.4129, loss: 1.6505, grad_norm: 3.7033\n",
      "2024-03-04 14:52:55,093 - mmdet - INFO - Epoch [10][20/22]\tlr: 1.000e-04, eta: 0:25:52, time: 0.253, data_time: 0.008, memory: 4237, loss_rpn_cls: 0.3695, loss_rpn_bbox: 0.3706, loss_cls: 0.3752, acc: 85.2051, loss_bbox: 0.3126, loss: 1.4279, grad_norm: 4.1755\n",
      "2024-03-04 14:53:01,438 - mmdet - INFO - Epoch [11][10/22]\tlr: 1.000e-04, eta: 0:26:11, time: 0.571, data_time: 0.307, memory: 4237, loss_rpn_cls: 0.3308, loss_rpn_bbox: 0.4411, loss_cls: 0.4280, acc: 81.9238, loss_bbox: 0.4232, loss: 1.6231, grad_norm: 4.5860\n",
      "2024-03-04 14:53:03,983 - mmdet - INFO - Epoch [11][20/22]\tlr: 1.000e-04, eta: 0:25:46, time: 0.255, data_time: 0.008, memory: 4237, loss_rpn_cls: 0.3236, loss_rpn_bbox: 0.3289, loss_cls: 0.3904, acc: 84.1113, loss_bbox: 0.3308, loss: 1.3736, grad_norm: 3.7421\n",
      "2024-03-04 14:53:10,063 - mmdet - INFO - Epoch [12][10/22]\tlr: 1.000e-05, eta: 0:25:58, time: 0.545, data_time: 0.293, memory: 4237, loss_rpn_cls: 0.3412, loss_rpn_bbox: 0.3643, loss_cls: 0.4664, acc: 79.4238, loss_bbox: 0.4567, loss: 1.6287, grad_norm: 4.2910\n",
      "2024-03-04 14:53:12,551 - mmdet - INFO - Epoch [12][20/22]\tlr: 1.000e-05, eta: 0:25:34, time: 0.249, data_time: 0.008, memory: 4237, loss_rpn_cls: 0.3445, loss_rpn_bbox: 0.4887, loss_cls: 0.3880, acc: 84.1797, loss_bbox: 0.3441, loss: 1.5653, grad_norm: 4.1720\n",
      "2024-03-04 14:53:13,191 - mmdet - INFO - Saving checkpoint at 12 epochs\n"
     ]
    },
    {
     "name": "stdout",
     "output_type": "stream",
     "text": [
      "[>>>>>>>>>>>>>>>>>>>>>>>>>>>>>>>>] 58/58, 12.8 task/s, elapsed: 5s, ETA:     0s"
     ]
    },
    {
     "name": "stderr",
     "output_type": "stream",
     "text": [
      "2024-03-04 14:53:33,431 - mmdet - INFO - \n",
      "+-------+------+------+--------+-------+\n",
      "| class | gts  | dets | recall | ap    |\n",
      "+-------+------+------+--------+-------+\n",
      "| grave | 3691 | 9575 | 0.126  | 0.075 |\n",
      "+-------+------+------+--------+-------+\n",
      "| mAP   |      |      |        | 0.075 |\n",
      "+-------+------+------+--------+-------+\n",
      "/gpfs/home/weitzk01/.conda/mmrotate_conda_env/lib/python3.8/site-packages/mmcv/__init__.py:20: UserWarning: On January 1, 2023, MMCV will release v2.0.0, in which it will remove components related to the training process and add a data transformation module. In addition, it will rename the package names mmcv to mmcv-lite and mmcv-full to mmcv. See https://github.com/open-mmlab/mmcv/blob/master/docs/en/compatibility.md for more details.\n",
      "  warnings.warn(\n",
      "/gpfs/home/weitzk01/.conda/mmrotate_conda_env/lib/python3.8/site-packages/mmcv/__init__.py:20: UserWarning: On January 1, 2023, MMCV will release v2.0.0, in which it will remove components related to the training process and add a data transformation module. In addition, it will rename the package names mmcv to mmcv-lite and mmcv-full to mmcv. See https://github.com/open-mmlab/mmcv/blob/master/docs/en/compatibility.md for more details.\n",
      "  warnings.warn(\n",
      "/gpfs/home/weitzk01/.conda/mmrotate_conda_env/lib/python3.8/site-packages/mmcv/__init__.py:20: UserWarning: On January 1, 2023, MMCV will release v2.0.0, in which it will remove components related to the training process and add a data transformation module. In addition, it will rename the package names mmcv to mmcv-lite and mmcv-full to mmcv. See https://github.com/open-mmlab/mmcv/blob/master/docs/en/compatibility.md for more details.\n",
      "  warnings.warn(\n",
      "/gpfs/home/weitzk01/.conda/mmrotate_conda_env/lib/python3.8/site-packages/mmcv/__init__.py:20: UserWarning: On January 1, 2023, MMCV will release v2.0.0, in which it will remove components related to the training process and add a data transformation module. In addition, it will rename the package names mmcv to mmcv-lite and mmcv-full to mmcv. See https://github.com/open-mmlab/mmcv/blob/master/docs/en/compatibility.md for more details.\n",
      "  warnings.warn(\n",
      "2024-03-04 14:53:33,530 - mmdet - INFO - Epoch(val) [12][58]\tmAP: 0.0750\n",
      "2024-03-04 14:53:39,057 - mmdet - INFO - Epoch [13][10/22]\tlr: 1.000e-05, eta: 0:25:45, time: 0.551, data_time: 0.285, memory: 4237, loss_rpn_cls: 0.3871, loss_rpn_bbox: 0.4818, loss_cls: 0.4272, acc: 81.9336, loss_bbox: 0.3902, loss: 1.6862, grad_norm: 4.5977\n",
      "2024-03-04 14:53:41,560 - mmdet - INFO - Epoch [13][20/22]\tlr: 1.000e-05, eta: 0:25:24, time: 0.250, data_time: 0.008, memory: 4237, loss_rpn_cls: 0.3027, loss_rpn_bbox: 0.3262, loss_cls: 0.4090, acc: 82.4121, loss_bbox: 0.3653, loss: 1.4032, grad_norm: 3.9610\n",
      "2024-03-04 14:53:47,827 - mmdet - INFO - Epoch [14][10/22]\tlr: 1.000e-05, eta: 0:25:36, time: 0.563, data_time: 0.291, memory: 4237, loss_rpn_cls: 0.3491, loss_rpn_bbox: 0.4392, loss_cls: 0.4320, acc: 81.5820, loss_bbox: 0.4110, loss: 1.6312, grad_norm: 4.0990\n",
      "2024-03-04 14:53:50,351 - mmdet - INFO - Epoch [14][20/22]\tlr: 1.000e-05, eta: 0:25:16, time: 0.252, data_time: 0.009, memory: 4237, loss_rpn_cls: 0.3368, loss_rpn_bbox: 0.4087, loss_cls: 0.3860, acc: 84.4922, loss_bbox: 0.3325, loss: 1.4640, grad_norm: 4.3780\n",
      "2024-03-04 14:53:56,456 - mmdet - INFO - Epoch [15][10/22]\tlr: 1.000e-05, eta: 0:25:24, time: 0.546, data_time: 0.291, memory: 4237, loss_rpn_cls: 0.3773, loss_rpn_bbox: 0.4607, loss_cls: 0.4298, acc: 81.8262, loss_bbox: 0.3843, loss: 1.6522, grad_norm: 4.3635\n",
      "2024-03-04 14:53:59,003 - mmdet - INFO - Epoch [15][20/22]\tlr: 1.000e-05, eta: 0:25:06, time: 0.255, data_time: 0.008, memory: 4237, loss_rpn_cls: 0.3348, loss_rpn_bbox: 0.4207, loss_cls: 0.4154, acc: 82.3535, loss_bbox: 0.4003, loss: 1.5711, grad_norm: 4.3738\n",
      "2024-03-04 14:53:59,583 - mmdet - INFO - Saving checkpoint at 15 epochs\n"
     ]
    },
    {
     "name": "stdout",
     "output_type": "stream",
     "text": [
      "[>>>>>>>>>>>>>>>>>>>>>>>>>>>>>>>>] 58/58, 13.1 task/s, elapsed: 4s, ETA:     0s"
     ]
    },
    {
     "name": "stderr",
     "output_type": "stream",
     "text": [
      "2024-03-04 14:54:18,817 - mmdet - INFO - \n",
      "+-------+------+------+--------+-------+\n",
      "| class | gts  | dets | recall | ap    |\n",
      "+-------+------+------+--------+-------+\n",
      "| grave | 3691 | 9578 | 0.126  | 0.075 |\n",
      "+-------+------+------+--------+-------+\n",
      "| mAP   |      |      |        | 0.075 |\n",
      "+-------+------+------+--------+-------+\n",
      "/gpfs/home/weitzk01/.conda/mmrotate_conda_env/lib/python3.8/site-packages/mmcv/__init__.py:20: UserWarning: On January 1, 2023, MMCV will release v2.0.0, in which it will remove components related to the training process and add a data transformation module. In addition, it will rename the package names mmcv to mmcv-lite and mmcv-full to mmcv. See https://github.com/open-mmlab/mmcv/blob/master/docs/en/compatibility.md for more details.\n",
      "  warnings.warn(\n",
      "/gpfs/home/weitzk01/.conda/mmrotate_conda_env/lib/python3.8/site-packages/mmcv/__init__.py:20: UserWarning: On January 1, 2023, MMCV will release v2.0.0, in which it will remove components related to the training process and add a data transformation module. In addition, it will rename the package names mmcv to mmcv-lite and mmcv-full to mmcv. See https://github.com/open-mmlab/mmcv/blob/master/docs/en/compatibility.md for more details.\n",
      "  warnings.warn(\n",
      "/gpfs/home/weitzk01/.conda/mmrotate_conda_env/lib/python3.8/site-packages/mmcv/__init__.py:20: UserWarning: On January 1, 2023, MMCV will release v2.0.0, in which it will remove components related to the training process and add a data transformation module. In addition, it will rename the package names mmcv to mmcv-lite and mmcv-full to mmcv. See https://github.com/open-mmlab/mmcv/blob/master/docs/en/compatibility.md for more details.\n",
      "  warnings.warn(\n",
      "/gpfs/home/weitzk01/.conda/mmrotate_conda_env/lib/python3.8/site-packages/mmcv/__init__.py:20: UserWarning: On January 1, 2023, MMCV will release v2.0.0, in which it will remove components related to the training process and add a data transformation module. In addition, it will rename the package names mmcv to mmcv-lite and mmcv-full to mmcv. See https://github.com/open-mmlab/mmcv/blob/master/docs/en/compatibility.md for more details.\n",
      "  warnings.warn(\n",
      "2024-03-04 14:54:18,889 - mmdet - INFO - Epoch(val) [15][58]\tmAP: 0.0749\n",
      "2024-03-04 14:54:24,443 - mmdet - INFO - Epoch [16][10/22]\tlr: 1.000e-05, eta: 0:25:14, time: 0.554, data_time: 0.299, memory: 4237, loss_rpn_cls: 0.3197, loss_rpn_bbox: 0.3327, loss_cls: 0.3866, acc: 84.3262, loss_bbox: 0.3513, loss: 1.3903, grad_norm: 3.8023\n",
      "2024-03-04 14:54:27,039 - mmdet - INFO - Epoch [16][20/22]\tlr: 1.000e-05, eta: 0:24:58, time: 0.260, data_time: 0.008, memory: 4237, loss_rpn_cls: 0.3480, loss_rpn_bbox: 0.5046, loss_cls: 0.4181, acc: 82.3926, loss_bbox: 0.3656, loss: 1.6363, grad_norm: 4.5686\n",
      "2024-03-04 14:54:33,303 - mmdet - INFO - Epoch [17][10/22]\tlr: 1.000e-05, eta: 0:25:06, time: 0.561, data_time: 0.310, memory: 4237, loss_rpn_cls: 0.3663, loss_rpn_bbox: 0.4321, loss_cls: 0.4319, acc: 81.8945, loss_bbox: 0.3938, loss: 1.6242, grad_norm: 4.2240\n",
      "2024-03-04 14:54:35,877 - mmdet - INFO - Epoch [17][20/22]\tlr: 1.000e-05, eta: 0:24:50, time: 0.257, data_time: 0.008, memory: 4237, loss_rpn_cls: 0.3026, loss_rpn_bbox: 0.3917, loss_cls: 0.4035, acc: 83.4473, loss_bbox: 0.3526, loss: 1.4504, grad_norm: 3.7802\n",
      "2024-03-04 14:54:42,007 - mmdet - INFO - Epoch [18][10/22]\tlr: 1.000e-05, eta: 0:24:57, time: 0.554, data_time: 0.304, memory: 4237, loss_rpn_cls: 0.3358, loss_rpn_bbox: 0.3423, loss_cls: 0.4181, acc: 82.4121, loss_bbox: 0.3461, loss: 1.4423, grad_norm: 4.0113\n",
      "2024-03-04 14:54:44,567 - mmdet - INFO - Epoch [18][20/22]\tlr: 1.000e-05, eta: 0:24:41, time: 0.256, data_time: 0.008, memory: 4237, loss_rpn_cls: 0.3474, loss_rpn_bbox: 0.4657, loss_cls: 0.3913, acc: 84.0430, loss_bbox: 0.3393, loss: 1.5437, grad_norm: 4.5773\n",
      "2024-03-04 14:54:45,181 - mmdet - INFO - Saving checkpoint at 18 epochs\n"
     ]
    },
    {
     "name": "stdout",
     "output_type": "stream",
     "text": [
      "[>>>>>>>>>>>>>>>>>>>>>>>>>>>>>>>>] 58/58, 13.6 task/s, elapsed: 4s, ETA:     0s"
     ]
    },
    {
     "name": "stderr",
     "output_type": "stream",
     "text": [
      "2024-03-04 14:55:03,302 - mmdet - INFO - \n",
      "+-------+------+------+--------+-------+\n",
      "| class | gts  | dets | recall | ap    |\n",
      "+-------+------+------+--------+-------+\n",
      "| grave | 3691 | 9552 | 0.125  | 0.075 |\n",
      "+-------+------+------+--------+-------+\n",
      "| mAP   |      |      |        | 0.075 |\n",
      "+-------+------+------+--------+-------+\n",
      "/gpfs/home/weitzk01/.conda/mmrotate_conda_env/lib/python3.8/site-packages/mmcv/__init__.py:20: UserWarning: On January 1, 2023, MMCV will release v2.0.0, in which it will remove components related to the training process and add a data transformation module. In addition, it will rename the package names mmcv to mmcv-lite and mmcv-full to mmcv. See https://github.com/open-mmlab/mmcv/blob/master/docs/en/compatibility.md for more details.\n",
      "  warnings.warn(\n",
      "/gpfs/home/weitzk01/.conda/mmrotate_conda_env/lib/python3.8/site-packages/mmcv/__init__.py:20: UserWarning: On January 1, 2023, MMCV will release v2.0.0, in which it will remove components related to the training process and add a data transformation module. In addition, it will rename the package names mmcv to mmcv-lite and mmcv-full to mmcv. See https://github.com/open-mmlab/mmcv/blob/master/docs/en/compatibility.md for more details.\n",
      "  warnings.warn(\n",
      "2024-03-04 14:55:03,382 - mmdet - INFO - Epoch(val) [18][58]\tmAP: 0.0749\n",
      "2024-03-04 14:55:08,788 - mmdet - INFO - Epoch [19][10/22]\tlr: 1.000e-05, eta: 0:24:46, time: 0.538, data_time: 0.284, memory: 4237, loss_rpn_cls: 0.3310, loss_rpn_bbox: 0.3579, loss_cls: 0.4114, acc: 83.0078, loss_bbox: 0.3791, loss: 1.4793, grad_norm: 4.0035\n",
      "2024-03-04 14:55:11,305 - mmdet - INFO - Epoch [19][20/22]\tlr: 1.000e-05, eta: 0:24:31, time: 0.252, data_time: 0.008, memory: 4237, loss_rpn_cls: 0.3336, loss_rpn_bbox: 0.4276, loss_cls: 0.4292, acc: 81.3184, loss_bbox: 0.4068, loss: 1.5972, grad_norm: 4.3355\n",
      "2024-03-04 14:55:17,382 - mmdet - INFO - Epoch [20][10/22]\tlr: 1.000e-05, eta: 0:24:36, time: 0.548, data_time: 0.290, memory: 4237, loss_rpn_cls: 0.3111, loss_rpn_bbox: 0.3612, loss_cls: 0.3834, acc: 83.7012, loss_bbox: 0.3499, loss: 1.4056, grad_norm: 4.2250\n",
      "2024-03-04 14:55:20,045 - mmdet - INFO - Epoch [20][20/22]\tlr: 1.000e-05, eta: 0:24:23, time: 0.266, data_time: 0.008, memory: 4237, loss_rpn_cls: 0.3530, loss_rpn_bbox: 0.4524, loss_cls: 0.4328, acc: 81.4453, loss_bbox: 0.3990, loss: 1.6372, grad_norm: 3.7252\n",
      "2024-03-04 14:55:26,162 - mmdet - INFO - Epoch [21][10/22]\tlr: 1.000e-05, eta: 0:24:28, time: 0.551, data_time: 0.294, memory: 4237, loss_rpn_cls: 0.3323, loss_rpn_bbox: 0.4684, loss_cls: 0.4176, acc: 82.4414, loss_bbox: 0.3732, loss: 1.5916, grad_norm: 4.3680\n",
      "2024-03-04 14:55:28,679 - mmdet - INFO - Epoch [21][20/22]\tlr: 1.000e-05, eta: 0:24:14, time: 0.252, data_time: 0.008, memory: 4237, loss_rpn_cls: 0.3221, loss_rpn_bbox: 0.3553, loss_cls: 0.4033, acc: 83.3008, loss_bbox: 0.3806, loss: 1.4613, grad_norm: 4.1701\n",
      "2024-03-04 14:55:29,295 - mmdet - INFO - Saving checkpoint at 21 epochs\n"
     ]
    },
    {
     "name": "stdout",
     "output_type": "stream",
     "text": [
      "[>>>>>>>>>>>>>>>>>>>>>>>>>>>>>>>>] 58/58, 13.4 task/s, elapsed: 4s, ETA:     0s"
     ]
    },
    {
     "name": "stderr",
     "output_type": "stream",
     "text": [
      "2024-03-04 14:55:47,337 - mmdet - INFO - \n",
      "+-------+------+------+--------+-------+\n",
      "| class | gts  | dets | recall | ap    |\n",
      "+-------+------+------+--------+-------+\n",
      "| grave | 3691 | 9512 | 0.127  | 0.075 |\n",
      "+-------+------+------+--------+-------+\n",
      "| mAP   |      |      |        | 0.075 |\n",
      "+-------+------+------+--------+-------+\n",
      "/gpfs/home/weitzk01/.conda/mmrotate_conda_env/lib/python3.8/site-packages/mmcv/__init__.py:20: UserWarning: On January 1, 2023, MMCV will release v2.0.0, in which it will remove components related to the training process and add a data transformation module. In addition, it will rename the package names mmcv to mmcv-lite and mmcv-full to mmcv. See https://github.com/open-mmlab/mmcv/blob/master/docs/en/compatibility.md for more details.\n",
      "  warnings.warn(\n",
      "/gpfs/home/weitzk01/.conda/mmrotate_conda_env/lib/python3.8/site-packages/mmcv/__init__.py:20: UserWarning: On January 1, 2023, MMCV will release v2.0.0, in which it will remove components related to the training process and add a data transformation module. In addition, it will rename the package names mmcv to mmcv-lite and mmcv-full to mmcv. See https://github.com/open-mmlab/mmcv/blob/master/docs/en/compatibility.md for more details.\n",
      "  warnings.warn(\n",
      "/gpfs/home/weitzk01/.conda/mmrotate_conda_env/lib/python3.8/site-packages/mmcv/__init__.py:20: UserWarning: On January 1, 2023, MMCV will release v2.0.0, in which it will remove components related to the training process and add a data transformation module. In addition, it will rename the package names mmcv to mmcv-lite and mmcv-full to mmcv. See https://github.com/open-mmlab/mmcv/blob/master/docs/en/compatibility.md for more details.\n",
      "  warnings.warn(\n",
      "/gpfs/home/weitzk01/.conda/mmrotate_conda_env/lib/python3.8/site-packages/mmcv/__init__.py:20: UserWarning: On January 1, 2023, MMCV will release v2.0.0, in which it will remove components related to the training process and add a data transformation module. In addition, it will rename the package names mmcv to mmcv-lite and mmcv-full to mmcv. See https://github.com/open-mmlab/mmcv/blob/master/docs/en/compatibility.md for more details.\n",
      "  warnings.warn(\n",
      "2024-03-04 14:55:47,434 - mmdet - INFO - Epoch(val) [21][58]\tmAP: 0.0750\n",
      "2024-03-04 14:55:53,047 - mmdet - INFO - Epoch [22][10/22]\tlr: 1.000e-05, eta: 0:24:19, time: 0.560, data_time: 0.294, memory: 4237, loss_rpn_cls: 0.3634, loss_rpn_bbox: 0.4693, loss_cls: 0.4412, acc: 81.1914, loss_bbox: 0.4140, loss: 1.6879, grad_norm: 4.3406\n",
      "2024-03-04 14:55:55,569 - mmdet - INFO - Epoch [22][20/22]\tlr: 1.000e-05, eta: 0:24:06, time: 0.252, data_time: 0.008, memory: 4237, loss_rpn_cls: 0.3095, loss_rpn_bbox: 0.4116, loss_cls: 0.4024, acc: 83.4863, loss_bbox: 0.3811, loss: 1.5046, grad_norm: 3.7278\n",
      "2024-03-04 14:56:01,552 - mmdet - INFO - Epoch [23][10/22]\tlr: 1.000e-05, eta: 0:24:09, time: 0.539, data_time: 0.294, memory: 4237, loss_rpn_cls: 0.3145, loss_rpn_bbox: 0.3499, loss_cls: 0.3741, acc: 85.1465, loss_bbox: 0.3354, loss: 1.3739, grad_norm: 4.4437\n",
      "2024-03-04 14:56:04,145 - mmdet - INFO - Epoch [23][20/22]\tlr: 1.000e-05, eta: 0:23:57, time: 0.259, data_time: 0.009, memory: 4237, loss_rpn_cls: 0.3540, loss_rpn_bbox: 0.4997, loss_cls: 0.4204, acc: 82.0508, loss_bbox: 0.4146, loss: 1.6887, grad_norm: 4.1386\n",
      "2024-03-04 14:56:10,468 - mmdet - INFO - Epoch [24][10/22]\tlr: 1.000e-05, eta: 0:24:02, time: 0.570, data_time: 0.305, memory: 4237, loss_rpn_cls: 0.3376, loss_rpn_bbox: 0.4424, loss_cls: 0.4456, acc: 80.7715, loss_bbox: 0.4270, loss: 1.6526, grad_norm: 3.7760\n",
      "2024-03-04 14:56:13,039 - mmdet - INFO - Epoch [24][20/22]\tlr: 1.000e-05, eta: 0:23:50, time: 0.257, data_time: 0.008, memory: 4237, loss_rpn_cls: 0.3092, loss_rpn_bbox: 0.3941, loss_cls: 0.3855, acc: 84.1406, loss_bbox: 0.3627, loss: 1.4516, grad_norm: 4.1255\n",
      "2024-03-04 14:56:13,628 - mmdet - INFO - Saving checkpoint at 24 epochs\n"
     ]
    },
    {
     "name": "stdout",
     "output_type": "stream",
     "text": [
      "[>>>>>>>>>>>>>>>>>>>>>>>>>>>>>>>>] 58/58, 13.9 task/s, elapsed: 4s, ETA:     0s"
     ]
    },
    {
     "name": "stderr",
     "output_type": "stream",
     "text": [
      "2024-03-04 14:56:31,610 - mmdet - INFO - \n",
      "+-------+------+------+--------+-------+\n",
      "| class | gts  | dets | recall | ap    |\n",
      "+-------+------+------+--------+-------+\n",
      "| grave | 3691 | 9489 | 0.126  | 0.080 |\n",
      "+-------+------+------+--------+-------+\n",
      "| mAP   |      |      |        | 0.080 |\n",
      "+-------+------+------+--------+-------+\n",
      "/gpfs/home/weitzk01/.conda/mmrotate_conda_env/lib/python3.8/site-packages/mmcv/__init__.py:20: UserWarning: On January 1, 2023, MMCV will release v2.0.0, in which it will remove components related to the training process and add a data transformation module. In addition, it will rename the package names mmcv to mmcv-lite and mmcv-full to mmcv. See https://github.com/open-mmlab/mmcv/blob/master/docs/en/compatibility.md for more details.\n",
      "  warnings.warn(\n",
      "/gpfs/home/weitzk01/.conda/mmrotate_conda_env/lib/python3.8/site-packages/mmcv/__init__.py:20: UserWarning: On January 1, 2023, MMCV will release v2.0.0, in which it will remove components related to the training process and add a data transformation module. In addition, it will rename the package names mmcv to mmcv-lite and mmcv-full to mmcv. See https://github.com/open-mmlab/mmcv/blob/master/docs/en/compatibility.md for more details.\n",
      "  warnings.warn(\n",
      "/gpfs/home/weitzk01/.conda/mmrotate_conda_env/lib/python3.8/site-packages/mmcv/__init__.py:20: UserWarning: On January 1, 2023, MMCV will release v2.0.0, in which it will remove components related to the training process and add a data transformation module. In addition, it will rename the package names mmcv to mmcv-lite and mmcv-full to mmcv. See https://github.com/open-mmlab/mmcv/blob/master/docs/en/compatibility.md for more details.\n",
      "  warnings.warn(\n",
      "/gpfs/home/weitzk01/.conda/mmrotate_conda_env/lib/python3.8/site-packages/mmcv/__init__.py:20: UserWarning: On January 1, 2023, MMCV will release v2.0.0, in which it will remove components related to the training process and add a data transformation module. In addition, it will rename the package names mmcv to mmcv-lite and mmcv-full to mmcv. See https://github.com/open-mmlab/mmcv/blob/master/docs/en/compatibility.md for more details.\n",
      "  warnings.warn(\n",
      "2024-03-04 14:56:31,711 - mmdet - INFO - Epoch(val) [24][58]\tmAP: 0.0798\n",
      "2024-03-04 14:56:37,224 - mmdet - INFO - Epoch [25][10/22]\tlr: 1.000e-05, eta: 0:23:53, time: 0.550, data_time: 0.290, memory: 4237, loss_rpn_cls: 0.3222, loss_rpn_bbox: 0.4060, loss_cls: 0.4321, acc: 81.6602, loss_bbox: 0.4157, loss: 1.5760, grad_norm: 4.3293\n",
      "2024-03-04 14:56:39,803 - mmdet - INFO - Epoch [25][20/22]\tlr: 1.000e-05, eta: 0:23:41, time: 0.258, data_time: 0.009, memory: 4237, loss_rpn_cls: 0.3463, loss_rpn_bbox: 0.3863, loss_cls: 0.3837, acc: 84.1797, loss_bbox: 0.3500, loss: 1.4664, grad_norm: 4.1956\n",
      "2024-03-04 14:56:45,833 - mmdet - INFO - Epoch [26][10/22]\tlr: 1.000e-05, eta: 0:23:44, time: 0.542, data_time: 0.289, memory: 4237, loss_rpn_cls: 0.3423, loss_rpn_bbox: 0.4236, loss_cls: 0.4185, acc: 82.4512, loss_bbox: 0.3903, loss: 1.5747, grad_norm: 4.3039\n",
      "2024-03-04 14:56:48,396 - mmdet - INFO - Epoch [26][20/22]\tlr: 1.000e-05, eta: 0:23:32, time: 0.256, data_time: 0.009, memory: 4237, loss_rpn_cls: 0.3338, loss_rpn_bbox: 0.3955, loss_cls: 0.3990, acc: 83.1543, loss_bbox: 0.3907, loss: 1.5191, grad_norm: 4.3282\n",
      "2024-03-04 14:56:54,501 - mmdet - INFO - Epoch [27][10/22]\tlr: 1.000e-05, eta: 0:23:35, time: 0.549, data_time: 0.300, memory: 4237, loss_rpn_cls: 0.3301, loss_rpn_bbox: 0.3880, loss_cls: 0.4103, acc: 82.4707, loss_bbox: 0.3811, loss: 1.5095, grad_norm: 4.4175\n",
      "2024-03-04 14:56:57,050 - mmdet - INFO - Epoch [27][20/22]\tlr: 1.000e-05, eta: 0:23:24, time: 0.255, data_time: 0.008, memory: 4237, loss_rpn_cls: 0.3510, loss_rpn_bbox: 0.3856, loss_cls: 0.4070, acc: 83.2422, loss_bbox: 0.3626, loss: 1.5062, grad_norm: 4.2891\n",
      "2024-03-04 14:56:57,657 - mmdet - INFO - Saving checkpoint at 27 epochs\n"
     ]
    },
    {
     "name": "stdout",
     "output_type": "stream",
     "text": [
      "[>>>>>>>>>>>>>>>>>>>>>>>>>>>>>>>>] 58/58, 13.8 task/s, elapsed: 4s, ETA:     0s"
     ]
    },
    {
     "name": "stderr",
     "output_type": "stream",
     "text": [
      "2024-03-04 14:57:15,304 - mmdet - INFO - \n",
      "+-------+------+------+--------+-------+\n",
      "| class | gts  | dets | recall | ap    |\n",
      "+-------+------+------+--------+-------+\n",
      "| grave | 3691 | 9461 | 0.132  | 0.080 |\n",
      "+-------+------+------+--------+-------+\n",
      "| mAP   |      |      |        | 0.080 |\n",
      "+-------+------+------+--------+-------+\n",
      "/gpfs/home/weitzk01/.conda/mmrotate_conda_env/lib/python3.8/site-packages/mmcv/__init__.py:20: UserWarning: On January 1, 2023, MMCV will release v2.0.0, in which it will remove components related to the training process and add a data transformation module. In addition, it will rename the package names mmcv to mmcv-lite and mmcv-full to mmcv. See https://github.com/open-mmlab/mmcv/blob/master/docs/en/compatibility.md for more details.\n",
      "  warnings.warn(\n",
      "/gpfs/home/weitzk01/.conda/mmrotate_conda_env/lib/python3.8/site-packages/mmcv/__init__.py:20: UserWarning: On January 1, 2023, MMCV will release v2.0.0, in which it will remove components related to the training process and add a data transformation module. In addition, it will rename the package names mmcv to mmcv-lite and mmcv-full to mmcv. See https://github.com/open-mmlab/mmcv/blob/master/docs/en/compatibility.md for more details.\n",
      "  warnings.warn(\n",
      "/gpfs/home/weitzk01/.conda/mmrotate_conda_env/lib/python3.8/site-packages/mmcv/__init__.py:20: UserWarning: On January 1, 2023, MMCV will release v2.0.0, in which it will remove components related to the training process and add a data transformation module. In addition, it will rename the package names mmcv to mmcv-lite and mmcv-full to mmcv. See https://github.com/open-mmlab/mmcv/blob/master/docs/en/compatibility.md for more details.\n",
      "  warnings.warn(\n",
      "/gpfs/home/weitzk01/.conda/mmrotate_conda_env/lib/python3.8/site-packages/mmcv/__init__.py:20: UserWarning: On January 1, 2023, MMCV will release v2.0.0, in which it will remove components related to the training process and add a data transformation module. In addition, it will rename the package names mmcv to mmcv-lite and mmcv-full to mmcv. See https://github.com/open-mmlab/mmcv/blob/master/docs/en/compatibility.md for more details.\n",
      "  warnings.warn(\n",
      "2024-03-04 14:57:15,407 - mmdet - INFO - Epoch(val) [27][58]\tmAP: 0.0804\n",
      "2024-03-04 14:57:20,976 - mmdet - INFO - Epoch [28][10/22]\tlr: 1.000e-05, eta: 0:23:26, time: 0.555, data_time: 0.303, memory: 4237, loss_rpn_cls: 0.3409, loss_rpn_bbox: 0.4339, loss_cls: 0.4386, acc: 80.9863, loss_bbox: 0.4281, loss: 1.6416, grad_norm: 4.3190\n",
      "2024-03-04 14:57:23,644 - mmdet - INFO - Epoch [28][20/22]\tlr: 1.000e-05, eta: 0:23:16, time: 0.267, data_time: 0.008, memory: 4237, loss_rpn_cls: 0.3164, loss_rpn_bbox: 0.3561, loss_cls: 0.3975, acc: 83.5742, loss_bbox: 0.3587, loss: 1.4286, grad_norm: 4.3154\n",
      "2024-03-04 14:57:29,736 - mmdet - INFO - Epoch [29][10/22]\tlr: 1.000e-05, eta: 0:23:18, time: 0.545, data_time: 0.291, memory: 4237, loss_rpn_cls: 0.3374, loss_rpn_bbox: 0.4023, loss_cls: 0.4186, acc: 82.1875, loss_bbox: 0.3899, loss: 1.5483, grad_norm: 4.6404\n",
      "2024-03-04 14:57:32,251 - mmdet - INFO - Epoch [29][20/22]\tlr: 1.000e-05, eta: 0:23:07, time: 0.251, data_time: 0.008, memory: 4237, loss_rpn_cls: 0.3345, loss_rpn_bbox: 0.4130, loss_cls: 0.4197, acc: 82.6270, loss_bbox: 0.3937, loss: 1.5608, grad_norm: 4.2029\n",
      "2024-03-04 14:57:38,298 - mmdet - INFO - Epoch [30][10/22]\tlr: 1.000e-05, eta: 0:23:09, time: 0.543, data_time: 0.297, memory: 4237, loss_rpn_cls: 0.3474, loss_rpn_bbox: 0.3132, loss_cls: 0.3705, acc: 85.7031, loss_bbox: 0.3205, loss: 1.3516, grad_norm: 4.2173\n",
      "2024-03-04 14:57:40,954 - mmdet - INFO - Epoch [30][20/22]\tlr: 1.000e-05, eta: 0:22:59, time: 0.266, data_time: 0.008, memory: 4237, loss_rpn_cls: 0.3219, loss_rpn_bbox: 0.4915, loss_cls: 0.4594, acc: 79.5215, loss_bbox: 0.4484, loss: 1.7212, grad_norm: 4.4212\n",
      "2024-03-04 14:57:41,552 - mmdet - INFO - Saving checkpoint at 30 epochs\n"
     ]
    },
    {
     "name": "stdout",
     "output_type": "stream",
     "text": [
      "[>>>>>>>>>>>>>>>>>>>>>>>>>>>>>>>>] 58/58, 13.3 task/s, elapsed: 4s, ETA:     0s"
     ]
    },
    {
     "name": "stderr",
     "output_type": "stream",
     "text": [
      "2024-03-04 14:58:00,457 - mmdet - INFO - \n",
      "+-------+------+------+--------+-------+\n",
      "| class | gts  | dets | recall | ap    |\n",
      "+-------+------+------+--------+-------+\n",
      "| grave | 3691 | 9450 | 0.127  | 0.080 |\n",
      "+-------+------+------+--------+-------+\n",
      "| mAP   |      |      |        | 0.080 |\n",
      "+-------+------+------+--------+-------+\n",
      "/gpfs/home/weitzk01/.conda/mmrotate_conda_env/lib/python3.8/site-packages/mmcv/__init__.py:20: UserWarning: On January 1, 2023, MMCV will release v2.0.0, in which it will remove components related to the training process and add a data transformation module. In addition, it will rename the package names mmcv to mmcv-lite and mmcv-full to mmcv. See https://github.com/open-mmlab/mmcv/blob/master/docs/en/compatibility.md for more details.\n",
      "  warnings.warn(\n",
      "/gpfs/home/weitzk01/.conda/mmrotate_conda_env/lib/python3.8/site-packages/mmcv/__init__.py:20: UserWarning: On January 1, 2023, MMCV will release v2.0.0, in which it will remove components related to the training process and add a data transformation module. In addition, it will rename the package names mmcv to mmcv-lite and mmcv-full to mmcv. See https://github.com/open-mmlab/mmcv/blob/master/docs/en/compatibility.md for more details.\n",
      "  warnings.warn(\n",
      "/gpfs/home/weitzk01/.conda/mmrotate_conda_env/lib/python3.8/site-packages/mmcv/__init__.py:20: UserWarning: On January 1, 2023, MMCV will release v2.0.0, in which it will remove components related to the training process and add a data transformation module. In addition, it will rename the package names mmcv to mmcv-lite and mmcv-full to mmcv. See https://github.com/open-mmlab/mmcv/blob/master/docs/en/compatibility.md for more details.\n",
      "  warnings.warn(\n",
      "/gpfs/home/weitzk01/.conda/mmrotate_conda_env/lib/python3.8/site-packages/mmcv/__init__.py:20: UserWarning: On January 1, 2023, MMCV will release v2.0.0, in which it will remove components related to the training process and add a data transformation module. In addition, it will rename the package names mmcv to mmcv-lite and mmcv-full to mmcv. See https://github.com/open-mmlab/mmcv/blob/master/docs/en/compatibility.md for more details.\n",
      "  warnings.warn(\n",
      "2024-03-04 14:58:00,570 - mmdet - INFO - Epoch(val) [30][58]\tmAP: 0.0799\n",
      "2024-03-04 14:58:06,318 - mmdet - INFO - Epoch [31][10/22]\tlr: 1.000e-05, eta: 0:23:02, time: 0.574, data_time: 0.316, memory: 4237, loss_rpn_cls: 0.3396, loss_rpn_bbox: 0.5060, loss_cls: 0.4209, acc: 82.4805, loss_bbox: 0.4262, loss: 1.6928, grad_norm: 4.6935\n",
      "2024-03-04 14:58:08,897 - mmdet - INFO - Epoch [31][20/22]\tlr: 1.000e-05, eta: 0:22:52, time: 0.258, data_time: 0.008, memory: 4237, loss_rpn_cls: 0.3302, loss_rpn_bbox: 0.3303, loss_cls: 0.4276, acc: 81.8164, loss_bbox: 0.3849, loss: 1.4731, grad_norm: 3.9159\n",
      "2024-03-04 14:58:15,253 - mmdet - INFO - Epoch [32][10/22]\tlr: 1.000e-05, eta: 0:22:54, time: 0.572, data_time: 0.324, memory: 4237, loss_rpn_cls: 0.3555, loss_rpn_bbox: 0.4713, loss_cls: 0.4232, acc: 82.2363, loss_bbox: 0.4159, loss: 1.6659, grad_norm: 4.3080\n",
      "2024-03-04 14:58:18,027 - mmdet - INFO - Epoch [32][20/22]\tlr: 1.000e-05, eta: 0:22:46, time: 0.278, data_time: 0.009, memory: 4237, loss_rpn_cls: 0.3192, loss_rpn_bbox: 0.3927, loss_cls: 0.4390, acc: 81.3574, loss_bbox: 0.4129, loss: 1.5639, grad_norm: 4.3886\n",
      "2024-03-04 14:58:24,171 - mmdet - INFO - Epoch [33][10/22]\tlr: 1.000e-05, eta: 0:22:47, time: 0.553, data_time: 0.300, memory: 4237, loss_rpn_cls: 0.3141, loss_rpn_bbox: 0.3942, loss_cls: 0.3986, acc: 83.2910, loss_bbox: 0.3658, loss: 1.4727, grad_norm: 4.5760\n",
      "2024-03-04 14:58:26,737 - mmdet - INFO - Epoch [33][20/22]\tlr: 1.000e-05, eta: 0:22:38, time: 0.257, data_time: 0.008, memory: 4237, loss_rpn_cls: 0.3411, loss_rpn_bbox: 0.4040, loss_cls: 0.4107, acc: 83.3105, loss_bbox: 0.3648, loss: 1.5206, grad_norm: 4.3278\n",
      "2024-03-04 14:58:27,394 - mmdet - INFO - Saving checkpoint at 33 epochs\n"
     ]
    },
    {
     "name": "stdout",
     "output_type": "stream",
     "text": [
      "[>>>>>>>>>>>>>>>>>>>>>>>>>>>>>>>>] 58/58, 12.6 task/s, elapsed: 5s, ETA:     0s"
     ]
    },
    {
     "name": "stderr",
     "output_type": "stream",
     "text": [
      "2024-03-04 14:58:46,064 - mmdet - INFO - \n",
      "+-------+------+------+--------+-------+\n",
      "| class | gts  | dets | recall | ap    |\n",
      "+-------+------+------+--------+-------+\n",
      "| grave | 3691 | 9413 | 0.129  | 0.076 |\n",
      "+-------+------+------+--------+-------+\n",
      "| mAP   |      |      |        | 0.076 |\n",
      "+-------+------+------+--------+-------+\n",
      "/gpfs/home/weitzk01/.conda/mmrotate_conda_env/lib/python3.8/site-packages/mmcv/__init__.py:20: UserWarning: On January 1, 2023, MMCV will release v2.0.0, in which it will remove components related to the training process and add a data transformation module. In addition, it will rename the package names mmcv to mmcv-lite and mmcv-full to mmcv. See https://github.com/open-mmlab/mmcv/blob/master/docs/en/compatibility.md for more details.\n",
      "  warnings.warn(\n",
      "/gpfs/home/weitzk01/.conda/mmrotate_conda_env/lib/python3.8/site-packages/mmcv/__init__.py:20: UserWarning: On January 1, 2023, MMCV will release v2.0.0, in which it will remove components related to the training process and add a data transformation module. In addition, it will rename the package names mmcv to mmcv-lite and mmcv-full to mmcv. See https://github.com/open-mmlab/mmcv/blob/master/docs/en/compatibility.md for more details.\n",
      "  warnings.warn(\n",
      "2024-03-04 14:58:46,147 - mmdet - INFO - Epoch(val) [33][58]\tmAP: 0.0755\n",
      "2024-03-04 14:58:51,751 - mmdet - INFO - Epoch [34][10/22]\tlr: 1.000e-05, eta: 0:22:39, time: 0.559, data_time: 0.300, memory: 4237, loss_rpn_cls: 0.3274, loss_rpn_bbox: 0.4255, loss_cls: 0.4212, acc: 82.2070, loss_bbox: 0.3693, loss: 1.5434, grad_norm: 4.1198\n",
      "2024-03-04 14:58:54,353 - mmdet - INFO - Epoch [34][20/22]\tlr: 1.000e-05, eta: 0:22:30, time: 0.260, data_time: 0.008, memory: 4237, loss_rpn_cls: 0.3490, loss_rpn_bbox: 0.4406, loss_cls: 0.4259, acc: 81.8652, loss_bbox: 0.4162, loss: 1.6317, grad_norm: 4.9320\n",
      "2024-03-04 14:59:00,544 - mmdet - INFO - Epoch [35][10/22]\tlr: 1.000e-05, eta: 0:22:31, time: 0.560, data_time: 0.305, memory: 4237, loss_rpn_cls: 0.2906, loss_rpn_bbox: 0.3633, loss_cls: 0.3810, acc: 84.4043, loss_bbox: 0.3602, loss: 1.3951, grad_norm: 4.4926\n",
      "2024-03-04 14:59:03,135 - mmdet - INFO - Epoch [35][20/22]\tlr: 1.000e-05, eta: 0:22:22, time: 0.259, data_time: 0.008, memory: 4237, loss_rpn_cls: 0.3777, loss_rpn_bbox: 0.4286, loss_cls: 0.4370, acc: 81.5918, loss_bbox: 0.4043, loss: 1.6475, grad_norm: 4.3555\n",
      "2024-03-04 14:59:09,599 - mmdet - INFO - Epoch [36][10/22]\tlr: 1.000e-05, eta: 0:22:24, time: 0.584, data_time: 0.337, memory: 4237, loss_rpn_cls: 0.3436, loss_rpn_bbox: 0.5131, loss_cls: 0.4220, acc: 82.5195, loss_bbox: 0.3993, loss: 1.6781, grad_norm: 4.9110\n",
      "2024-03-04 14:59:12,206 - mmdet - INFO - Epoch [36][20/22]\tlr: 1.000e-05, eta: 0:22:15, time: 0.261, data_time: 0.009, memory: 4237, loss_rpn_cls: 0.3225, loss_rpn_bbox: 0.3903, loss_cls: 0.4061, acc: 82.8125, loss_bbox: 0.3858, loss: 1.5047, grad_norm: 4.2666\n",
      "2024-03-04 14:59:12,807 - mmdet - INFO - Saving checkpoint at 36 epochs\n"
     ]
    },
    {
     "name": "stdout",
     "output_type": "stream",
     "text": [
      "[>>>>>>>>>>>>>>>>>>>>>>>>>>>>>>>>] 58/58, 13.0 task/s, elapsed: 4s, ETA:     0s"
     ]
    },
    {
     "name": "stderr",
     "output_type": "stream",
     "text": [
      "2024-03-04 14:59:31,211 - mmdet - INFO - \n",
      "+-------+------+------+--------+-------+\n",
      "| class | gts  | dets | recall | ap    |\n",
      "+-------+------+------+--------+-------+\n",
      "| grave | 3691 | 9419 | 0.128  | 0.075 |\n",
      "+-------+------+------+--------+-------+\n",
      "| mAP   |      |      |        | 0.075 |\n",
      "+-------+------+------+--------+-------+\n",
      "/gpfs/home/weitzk01/.conda/mmrotate_conda_env/lib/python3.8/site-packages/mmcv/__init__.py:20: UserWarning: On January 1, 2023, MMCV will release v2.0.0, in which it will remove components related to the training process and add a data transformation module. In addition, it will rename the package names mmcv to mmcv-lite and mmcv-full to mmcv. See https://github.com/open-mmlab/mmcv/blob/master/docs/en/compatibility.md for more details.\n",
      "  warnings.warn(\n",
      "/gpfs/home/weitzk01/.conda/mmrotate_conda_env/lib/python3.8/site-packages/mmcv/__init__.py:20: UserWarning: On January 1, 2023, MMCV will release v2.0.0, in which it will remove components related to the training process and add a data transformation module. In addition, it will rename the package names mmcv to mmcv-lite and mmcv-full to mmcv. See https://github.com/open-mmlab/mmcv/blob/master/docs/en/compatibility.md for more details.\n",
      "  warnings.warn(\n",
      "2024-03-04 14:59:31,287 - mmdet - INFO - Epoch(val) [36][58]\tmAP: 0.0753\n",
      "2024-03-04 14:59:36,975 - mmdet - INFO - Epoch [37][10/22]\tlr: 1.000e-05, eta: 0:22:16, time: 0.567, data_time: 0.317, memory: 4237, loss_rpn_cls: 0.3078, loss_rpn_bbox: 0.3488, loss_cls: 0.4182, acc: 82.8516, loss_bbox: 0.3832, loss: 1.4581, grad_norm: 3.4876\n",
      "2024-03-04 14:59:39,586 - mmdet - INFO - Epoch [37][20/22]\tlr: 1.000e-05, eta: 0:22:08, time: 0.261, data_time: 0.009, memory: 4237, loss_rpn_cls: 0.3550, loss_rpn_bbox: 0.4956, loss_cls: 0.4150, acc: 82.0312, loss_bbox: 0.3903, loss: 1.6558, grad_norm: 4.5542\n",
      "2024-03-04 14:59:45,779 - mmdet - INFO - Epoch [38][10/22]\tlr: 1.000e-05, eta: 0:22:08, time: 0.555, data_time: 0.292, memory: 4237, loss_rpn_cls: 0.3396, loss_rpn_bbox: 0.4224, loss_cls: 0.4006, acc: 83.6230, loss_bbox: 0.3736, loss: 1.5362, grad_norm: 4.3058\n",
      "2024-03-04 14:59:48,454 - mmdet - INFO - Epoch [38][20/22]\tlr: 1.000e-05, eta: 0:22:00, time: 0.268, data_time: 0.008, memory: 4237, loss_rpn_cls: 0.3416, loss_rpn_bbox: 0.4092, loss_cls: 0.4375, acc: 81.1133, loss_bbox: 0.4171, loss: 1.6055, grad_norm: 4.7792\n",
      "2024-03-04 14:59:54,673 - mmdet - INFO - Epoch [39][10/22]\tlr: 1.000e-05, eta: 0:22:00, time: 0.558, data_time: 0.307, memory: 4237, loss_rpn_cls: 0.3428, loss_rpn_bbox: 0.3510, loss_cls: 0.3680, acc: 85.2441, loss_bbox: 0.3078, loss: 1.3697, grad_norm: 4.2854\n",
      "2024-03-04 14:59:57,350 - mmdet - INFO - Epoch [39][20/22]\tlr: 1.000e-05, eta: 0:21:52, time: 0.268, data_time: 0.009, memory: 4237, loss_rpn_cls: 0.3646, loss_rpn_bbox: 0.5014, loss_cls: 0.4652, acc: 79.4922, loss_bbox: 0.4602, loss: 1.7914, grad_norm: 5.0831\n",
      "2024-03-04 14:59:57,953 - mmdet - INFO - Saving checkpoint at 39 epochs\n"
     ]
    },
    {
     "name": "stdout",
     "output_type": "stream",
     "text": [
      "[>>>>>>>>>>>>>>>>>>>>>>>>>>>>>>>>] 58/58, 13.9 task/s, elapsed: 4s, ETA:     0s"
     ]
    },
    {
     "name": "stderr",
     "output_type": "stream",
     "text": [
      "2024-03-04 15:00:15,685 - mmdet - INFO - \n",
      "+-------+------+------+--------+-------+\n",
      "| class | gts  | dets | recall | ap    |\n",
      "+-------+------+------+--------+-------+\n",
      "| grave | 3691 | 9375 | 0.132  | 0.076 |\n",
      "+-------+------+------+--------+-------+\n",
      "| mAP   |      |      |        | 0.076 |\n",
      "+-------+------+------+--------+-------+\n",
      "/gpfs/home/weitzk01/.conda/mmrotate_conda_env/lib/python3.8/site-packages/mmcv/__init__.py:20: UserWarning: On January 1, 2023, MMCV will release v2.0.0, in which it will remove components related to the training process and add a data transformation module. In addition, it will rename the package names mmcv to mmcv-lite and mmcv-full to mmcv. See https://github.com/open-mmlab/mmcv/blob/master/docs/en/compatibility.md for more details.\n",
      "  warnings.warn(\n",
      "2024-03-04 15:00:15,757 - mmdet - INFO - Epoch(val) [39][58]\tmAP: 0.0756\n",
      "2024-03-04 15:00:21,609 - mmdet - INFO - Epoch [40][10/22]\tlr: 1.000e-05, eta: 0:21:53, time: 0.584, data_time: 0.332, memory: 4237, loss_rpn_cls: 0.3126, loss_rpn_bbox: 0.4168, loss_cls: 0.4047, acc: 83.2031, loss_bbox: 0.3816, loss: 1.5157, grad_norm: 4.5818\n",
      "2024-03-04 15:00:24,211 - mmdet - INFO - Epoch [40][20/22]\tlr: 1.000e-05, eta: 0:21:45, time: 0.260, data_time: 0.008, memory: 4237, loss_rpn_cls: 0.3512, loss_rpn_bbox: 0.4242, loss_cls: 0.4503, acc: 80.6836, loss_bbox: 0.4184, loss: 1.6441, grad_norm: 4.6218\n",
      "2024-03-04 15:00:30,420 - mmdet - INFO - Epoch [41][10/22]\tlr: 1.000e-05, eta: 0:21:45, time: 0.560, data_time: 0.297, memory: 4237, loss_rpn_cls: 0.3550, loss_rpn_bbox: 0.4233, loss_cls: 0.4369, acc: 81.0352, loss_bbox: 0.4027, loss: 1.6179, grad_norm: 4.6011\n",
      "2024-03-04 15:00:33,159 - mmdet - INFO - Epoch [41][20/22]\tlr: 1.000e-05, eta: 0:21:38, time: 0.274, data_time: 0.010, memory: 4237, loss_rpn_cls: 0.3338, loss_rpn_bbox: 0.4687, loss_cls: 0.4184, acc: 82.1191, loss_bbox: 0.4197, loss: 1.6406, grad_norm: 4.1432\n",
      "2024-03-04 15:00:39,339 - mmdet - INFO - Epoch [42][10/22]\tlr: 1.000e-05, eta: 0:21:38, time: 0.558, data_time: 0.288, memory: 4237, loss_rpn_cls: 0.3461, loss_rpn_bbox: 0.4466, loss_cls: 0.4112, acc: 82.5293, loss_bbox: 0.4083, loss: 1.6123, grad_norm: 4.5016\n",
      "2024-03-04 15:00:41,895 - mmdet - INFO - Epoch [42][20/22]\tlr: 1.000e-05, eta: 0:21:30, time: 0.256, data_time: 0.008, memory: 4237, loss_rpn_cls: 0.3348, loss_rpn_bbox: 0.3977, loss_cls: 0.3851, acc: 84.4434, loss_bbox: 0.3508, loss: 1.4685, grad_norm: 3.9630\n",
      "2024-03-04 15:00:42,519 - mmdet - INFO - Saving checkpoint at 42 epochs\n"
     ]
    },
    {
     "name": "stdout",
     "output_type": "stream",
     "text": [
      "[>>>>>>>>>>>>>>>>>>>>>>>>>>>>>>>>] 58/58, 12.5 task/s, elapsed: 5s, ETA:     0s"
     ]
    },
    {
     "name": "stderr",
     "output_type": "stream",
     "text": [
      "2024-03-04 15:01:01,862 - mmdet - INFO - \n",
      "+-------+------+------+--------+-------+\n",
      "| class | gts  | dets | recall | ap    |\n",
      "+-------+------+------+--------+-------+\n",
      "| grave | 3691 | 9393 | 0.134  | 0.076 |\n",
      "+-------+------+------+--------+-------+\n",
      "| mAP   |      |      |        | 0.076 |\n",
      "+-------+------+------+--------+-------+\n",
      "/gpfs/home/weitzk01/.conda/mmrotate_conda_env/lib/python3.8/site-packages/mmcv/__init__.py:20: UserWarning: On January 1, 2023, MMCV will release v2.0.0, in which it will remove components related to the training process and add a data transformation module. In addition, it will rename the package names mmcv to mmcv-lite and mmcv-full to mmcv. See https://github.com/open-mmlab/mmcv/blob/master/docs/en/compatibility.md for more details.\n",
      "  warnings.warn(\n",
      "/gpfs/home/weitzk01/.conda/mmrotate_conda_env/lib/python3.8/site-packages/mmcv/__init__.py:20: UserWarning: On January 1, 2023, MMCV will release v2.0.0, in which it will remove components related to the training process and add a data transformation module. In addition, it will rename the package names mmcv to mmcv-lite and mmcv-full to mmcv. See https://github.com/open-mmlab/mmcv/blob/master/docs/en/compatibility.md for more details.\n",
      "  warnings.warn(\n",
      "/gpfs/home/weitzk01/.conda/mmrotate_conda_env/lib/python3.8/site-packages/mmcv/__init__.py:20: UserWarning: On January 1, 2023, MMCV will release v2.0.0, in which it will remove components related to the training process and add a data transformation module. In addition, it will rename the package names mmcv to mmcv-lite and mmcv-full to mmcv. See https://github.com/open-mmlab/mmcv/blob/master/docs/en/compatibility.md for more details.\n",
      "  warnings.warn(\n",
      "/gpfs/home/weitzk01/.conda/mmrotate_conda_env/lib/python3.8/site-packages/mmcv/__init__.py:20: UserWarning: On January 1, 2023, MMCV will release v2.0.0, in which it will remove components related to the training process and add a data transformation module. In addition, it will rename the package names mmcv to mmcv-lite and mmcv-full to mmcv. See https://github.com/open-mmlab/mmcv/blob/master/docs/en/compatibility.md for more details.\n",
      "  warnings.warn(\n",
      "2024-03-04 15:01:01,943 - mmdet - INFO - Epoch(val) [42][58]\tmAP: 0.0756\n",
      "2024-03-04 15:01:07,415 - mmdet - INFO - Epoch [43][10/22]\tlr: 1.000e-05, eta: 0:21:29, time: 0.546, data_time: 0.286, memory: 4237, loss_rpn_cls: 0.3528, loss_rpn_bbox: 0.4428, loss_cls: 0.4123, acc: 82.7637, loss_bbox: 0.3640, loss: 1.5719, grad_norm: 4.4274\n",
      "2024-03-04 15:01:10,082 - mmdet - INFO - Epoch [43][20/22]\tlr: 1.000e-05, eta: 0:21:21, time: 0.267, data_time: 0.008, memory: 4237, loss_rpn_cls: 0.3219, loss_rpn_bbox: 0.3838, loss_cls: 0.4201, acc: 82.0410, loss_bbox: 0.4074, loss: 1.5333, grad_norm: 4.3682\n",
      "2024-03-04 15:01:16,631 - mmdet - INFO - Epoch [44][10/22]\tlr: 1.000e-05, eta: 0:21:22, time: 0.594, data_time: 0.326, memory: 4237, loss_rpn_cls: 0.3263, loss_rpn_bbox: 0.4369, loss_cls: 0.3854, acc: 84.3164, loss_bbox: 0.3691, loss: 1.5177, grad_norm: 4.5843\n",
      "2024-03-04 15:01:19,261 - mmdet - INFO - Epoch [44][20/22]\tlr: 1.000e-05, eta: 0:21:15, time: 0.263, data_time: 0.008, memory: 4237, loss_rpn_cls: 0.3416, loss_rpn_bbox: 0.3954, loss_cls: 0.4213, acc: 82.0117, loss_bbox: 0.3798, loss: 1.5382, grad_norm: 4.0325\n",
      "2024-03-04 15:01:25,425 - mmdet - INFO - Epoch [45][10/22]\tlr: 1.000e-05, eta: 0:21:14, time: 0.553, data_time: 0.294, memory: 4237, loss_rpn_cls: 0.3433, loss_rpn_bbox: 0.3991, loss_cls: 0.4336, acc: 81.0156, loss_bbox: 0.4024, loss: 1.5783, grad_norm: 4.4584\n",
      "2024-03-04 15:01:27,964 - mmdet - INFO - Epoch [45][20/22]\tlr: 1.000e-05, eta: 0:21:06, time: 0.254, data_time: 0.008, memory: 4237, loss_rpn_cls: 0.3222, loss_rpn_bbox: 0.4338, loss_cls: 0.3889, acc: 84.1504, loss_bbox: 0.3739, loss: 1.5187, grad_norm: 4.0944\n",
      "2024-03-04 15:01:28,585 - mmdet - INFO - Saving checkpoint at 45 epochs\n"
     ]
    },
    {
     "name": "stdout",
     "output_type": "stream",
     "text": [
      "[>>>>>>>>>>>>>>>>>>>>>>>>>>>>>>>>] 58/58, 12.9 task/s, elapsed: 4s, ETA:     0s"
     ]
    },
    {
     "name": "stderr",
     "output_type": "stream",
     "text": [
      "2024-03-04 15:01:46,280 - mmdet - INFO - \n",
      "+-------+------+------+--------+-------+\n",
      "| class | gts  | dets | recall | ap    |\n",
      "+-------+------+------+--------+-------+\n",
      "| grave | 3691 | 9391 | 0.127  | 0.080 |\n",
      "+-------+------+------+--------+-------+\n",
      "| mAP   |      |      |        | 0.080 |\n",
      "+-------+------+------+--------+-------+\n",
      "/gpfs/home/weitzk01/.conda/mmrotate_conda_env/lib/python3.8/site-packages/mmcv/__init__.py:20: UserWarning: On January 1, 2023, MMCV will release v2.0.0, in which it will remove components related to the training process and add a data transformation module. In addition, it will rename the package names mmcv to mmcv-lite and mmcv-full to mmcv. See https://github.com/open-mmlab/mmcv/blob/master/docs/en/compatibility.md for more details.\n",
      "  warnings.warn(\n",
      "/gpfs/home/weitzk01/.conda/mmrotate_conda_env/lib/python3.8/site-packages/mmcv/__init__.py:20: UserWarning: On January 1, 2023, MMCV will release v2.0.0, in which it will remove components related to the training process and add a data transformation module. In addition, it will rename the package names mmcv to mmcv-lite and mmcv-full to mmcv. See https://github.com/open-mmlab/mmcv/blob/master/docs/en/compatibility.md for more details.\n",
      "  warnings.warn(\n",
      "/gpfs/home/weitzk01/.conda/mmrotate_conda_env/lib/python3.8/site-packages/mmcv/__init__.py:20: UserWarning: On January 1, 2023, MMCV will release v2.0.0, in which it will remove components related to the training process and add a data transformation module. In addition, it will rename the package names mmcv to mmcv-lite and mmcv-full to mmcv. See https://github.com/open-mmlab/mmcv/blob/master/docs/en/compatibility.md for more details.\n",
      "  warnings.warn(\n",
      "/gpfs/home/weitzk01/.conda/mmrotate_conda_env/lib/python3.8/site-packages/mmcv/__init__.py:20: UserWarning: On January 1, 2023, MMCV will release v2.0.0, in which it will remove components related to the training process and add a data transformation module. In addition, it will rename the package names mmcv to mmcv-lite and mmcv-full to mmcv. See https://github.com/open-mmlab/mmcv/blob/master/docs/en/compatibility.md for more details.\n",
      "  warnings.warn(\n",
      "2024-03-04 15:01:46,402 - mmdet - INFO - Epoch(val) [45][58]\tmAP: 0.0797\n",
      "2024-03-04 15:01:51,944 - mmdet - INFO - Epoch [46][10/22]\tlr: 1.000e-05, eta: 0:21:05, time: 0.553, data_time: 0.288, memory: 4237, loss_rpn_cls: 0.3210, loss_rpn_bbox: 0.4079, loss_cls: 0.4153, acc: 82.8613, loss_bbox: 0.3975, loss: 1.5417, grad_norm: 4.0842\n",
      "2024-03-04 15:01:54,534 - mmdet - INFO - Epoch [46][20/22]\tlr: 1.000e-05, eta: 0:20:58, time: 0.259, data_time: 0.009, memory: 4237, loss_rpn_cls: 0.3510, loss_rpn_bbox: 0.3920, loss_cls: 0.4043, acc: 83.2324, loss_bbox: 0.3791, loss: 1.5264, grad_norm: 4.3066\n",
      "2024-03-04 15:02:00,854 - mmdet - INFO - Epoch [47][10/22]\tlr: 1.000e-05, eta: 0:20:57, time: 0.568, data_time: 0.308, memory: 4237, loss_rpn_cls: 0.3531, loss_rpn_bbox: 0.4857, loss_cls: 0.4269, acc: 82.0703, loss_bbox: 0.3816, loss: 1.6473, grad_norm: 4.1872\n",
      "2024-03-04 15:02:03,504 - mmdet - INFO - Epoch [47][20/22]\tlr: 1.000e-05, eta: 0:20:50, time: 0.265, data_time: 0.009, memory: 4237, loss_rpn_cls: 0.3398, loss_rpn_bbox: 0.3736, loss_cls: 0.4264, acc: 81.6211, loss_bbox: 0.4220, loss: 1.5617, grad_norm: 4.6108\n",
      "2024-03-04 15:02:09,645 - mmdet - INFO - Epoch [48][10/22]\tlr: 1.000e-05, eta: 0:20:49, time: 0.552, data_time: 0.291, memory: 4237, loss_rpn_cls: 0.3286, loss_rpn_bbox: 0.3892, loss_cls: 0.4674, acc: 79.5312, loss_bbox: 0.4398, loss: 1.6250, grad_norm: 4.3668\n",
      "2024-03-04 15:02:12,249 - mmdet - INFO - Epoch [48][20/22]\tlr: 1.000e-05, eta: 0:20:42, time: 0.260, data_time: 0.009, memory: 4237, loss_rpn_cls: 0.3137, loss_rpn_bbox: 0.3662, loss_cls: 0.3794, acc: 84.3945, loss_bbox: 0.3655, loss: 1.4248, grad_norm: 4.4599\n",
      "2024-03-04 15:02:12,856 - mmdet - INFO - Saving checkpoint at 48 epochs\n"
     ]
    },
    {
     "name": "stdout",
     "output_type": "stream",
     "text": [
      "[>>>>>>>>>>>>>>>>>>>>>>>>>>>>>>>>] 58/58, 13.5 task/s, elapsed: 4s, ETA:     0s"
     ]
    },
    {
     "name": "stderr",
     "output_type": "stream",
     "text": [
      "2024-03-04 15:02:30,768 - mmdet - INFO - \n",
      "+-------+------+------+--------+-------+\n",
      "| class | gts  | dets | recall | ap    |\n",
      "+-------+------+------+--------+-------+\n",
      "| grave | 3691 | 9367 | 0.129  | 0.075 |\n",
      "+-------+------+------+--------+-------+\n",
      "| mAP   |      |      |        | 0.075 |\n",
      "+-------+------+------+--------+-------+\n",
      "/gpfs/home/weitzk01/.conda/mmrotate_conda_env/lib/python3.8/site-packages/mmcv/__init__.py:20: UserWarning: On January 1, 2023, MMCV will release v2.0.0, in which it will remove components related to the training process and add a data transformation module. In addition, it will rename the package names mmcv to mmcv-lite and mmcv-full to mmcv. See https://github.com/open-mmlab/mmcv/blob/master/docs/en/compatibility.md for more details.\n",
      "  warnings.warn(\n",
      "2024-03-04 15:02:30,824 - mmdet - INFO - Epoch(val) [48][58]\tmAP: 0.0753\n",
      "2024-03-04 15:02:36,509 - mmdet - INFO - Epoch [49][10/22]\tlr: 1.000e-05, eta: 0:20:41, time: 0.567, data_time: 0.290, memory: 4237, loss_rpn_cls: 0.3578, loss_rpn_bbox: 0.4318, loss_cls: 0.4253, acc: 81.9629, loss_bbox: 0.4085, loss: 1.6235, grad_norm: 4.5885\n",
      "2024-03-04 15:02:39,039 - mmdet - INFO - Epoch [49][20/22]\tlr: 1.000e-05, eta: 0:20:34, time: 0.253, data_time: 0.008, memory: 4237, loss_rpn_cls: 0.3191, loss_rpn_bbox: 0.3766, loss_cls: 0.3987, acc: 83.7500, loss_bbox: 0.3562, loss: 1.4506, grad_norm: 4.0916\n",
      "2024-03-04 15:02:45,471 - mmdet - INFO - Epoch [50][10/22]\tlr: 1.000e-05, eta: 0:20:33, time: 0.578, data_time: 0.307, memory: 4237, loss_rpn_cls: 0.3603, loss_rpn_bbox: 0.3967, loss_cls: 0.4352, acc: 81.3867, loss_bbox: 0.3974, loss: 1.5897, grad_norm: 4.9866\n",
      "2024-03-04 15:02:48,174 - mmdet - INFO - Epoch [50][20/22]\tlr: 1.000e-05, eta: 0:20:26, time: 0.270, data_time: 0.008, memory: 4237, loss_rpn_cls: 0.3158, loss_rpn_bbox: 0.4303, loss_cls: 0.4109, acc: 82.5488, loss_bbox: 0.4008, loss: 1.5578, grad_norm: 3.9612\n",
      "2024-03-04 15:02:54,288 - mmdet - INFO - Epoch [51][10/22]\tlr: 1.000e-05, eta: 0:20:25, time: 0.550, data_time: 0.288, memory: 4237, loss_rpn_cls: 0.3695, loss_rpn_bbox: 0.4315, loss_cls: 0.4411, acc: 81.1621, loss_bbox: 0.4161, loss: 1.6582, grad_norm: 4.8522\n",
      "2024-03-04 15:02:56,868 - mmdet - INFO - Epoch [51][20/22]\tlr: 1.000e-05, eta: 0:20:18, time: 0.258, data_time: 0.008, memory: 4237, loss_rpn_cls: 0.3307, loss_rpn_bbox: 0.3906, loss_cls: 0.3749, acc: 85.1367, loss_bbox: 0.3450, loss: 1.4412, grad_norm: 4.4328\n",
      "2024-03-04 15:02:57,466 - mmdet - INFO - Saving checkpoint at 51 epochs\n"
     ]
    },
    {
     "name": "stdout",
     "output_type": "stream",
     "text": [
      "[>>>>>>>>>>>>>>>>>>>>>>>>>>>>>>>>] 58/58, 12.7 task/s, elapsed: 5s, ETA:     0s"
     ]
    },
    {
     "name": "stderr",
     "output_type": "stream",
     "text": [
      "2024-03-04 15:03:15,521 - mmdet - INFO - \n",
      "+-------+------+------+--------+-------+\n",
      "| class | gts  | dets | recall | ap    |\n",
      "+-------+------+------+--------+-------+\n",
      "| grave | 3691 | 9364 | 0.130  | 0.075 |\n",
      "+-------+------+------+--------+-------+\n",
      "| mAP   |      |      |        | 0.075 |\n",
      "+-------+------+------+--------+-------+\n",
      "/gpfs/home/weitzk01/.conda/mmrotate_conda_env/lib/python3.8/site-packages/mmcv/__init__.py:20: UserWarning: On January 1, 2023, MMCV will release v2.0.0, in which it will remove components related to the training process and add a data transformation module. In addition, it will rename the package names mmcv to mmcv-lite and mmcv-full to mmcv. See https://github.com/open-mmlab/mmcv/blob/master/docs/en/compatibility.md for more details.\n",
      "  warnings.warn(\n",
      "/gpfs/home/weitzk01/.conda/mmrotate_conda_env/lib/python3.8/site-packages/mmcv/__init__.py:20: UserWarning: On January 1, 2023, MMCV will release v2.0.0, in which it will remove components related to the training process and add a data transformation module. In addition, it will rename the package names mmcv to mmcv-lite and mmcv-full to mmcv. See https://github.com/open-mmlab/mmcv/blob/master/docs/en/compatibility.md for more details.\n",
      "  warnings.warn(\n",
      "/gpfs/home/weitzk01/.conda/mmrotate_conda_env/lib/python3.8/site-packages/mmcv/__init__.py:20: UserWarning: On January 1, 2023, MMCV will release v2.0.0, in which it will remove components related to the training process and add a data transformation module. In addition, it will rename the package names mmcv to mmcv-lite and mmcv-full to mmcv. See https://github.com/open-mmlab/mmcv/blob/master/docs/en/compatibility.md for more details.\n",
      "  warnings.warn(\n",
      "/gpfs/home/weitzk01/.conda/mmrotate_conda_env/lib/python3.8/site-packages/mmcv/__init__.py:20: UserWarning: On January 1, 2023, MMCV will release v2.0.0, in which it will remove components related to the training process and add a data transformation module. In addition, it will rename the package names mmcv to mmcv-lite and mmcv-full to mmcv. See https://github.com/open-mmlab/mmcv/blob/master/docs/en/compatibility.md for more details.\n",
      "  warnings.warn(\n",
      "2024-03-04 15:03:15,621 - mmdet - INFO - Epoch(val) [51][58]\tmAP: 0.0754\n",
      "2024-03-04 15:03:21,315 - mmdet - INFO - Epoch [52][10/22]\tlr: 1.000e-05, eta: 0:20:17, time: 0.568, data_time: 0.297, memory: 4237, loss_rpn_cls: 0.3160, loss_rpn_bbox: 0.4101, loss_cls: 0.3959, acc: 83.6523, loss_bbox: 0.3723, loss: 1.4943, grad_norm: 4.8259\n",
      "2024-03-04 15:03:23,961 - mmdet - INFO - Epoch [52][20/22]\tlr: 1.000e-05, eta: 0:20:10, time: 0.265, data_time: 0.009, memory: 4237, loss_rpn_cls: 0.3606, loss_rpn_bbox: 0.3880, loss_cls: 0.4294, acc: 82.0898, loss_bbox: 0.3692, loss: 1.5473, grad_norm: 4.2603\n",
      "2024-03-04 15:03:30,165 - mmdet - INFO - Epoch [53][10/22]\tlr: 1.000e-05, eta: 0:20:09, time: 0.556, data_time: 0.297, memory: 4237, loss_rpn_cls: 0.3105, loss_rpn_bbox: 0.4002, loss_cls: 0.4214, acc: 82.1484, loss_bbox: 0.3914, loss: 1.5234, grad_norm: 4.3262\n",
      "2024-03-04 15:03:32,745 - mmdet - INFO - Epoch [53][20/22]\tlr: 1.000e-05, eta: 0:20:02, time: 0.258, data_time: 0.009, memory: 4237, loss_rpn_cls: 0.3487, loss_rpn_bbox: 0.4406, loss_cls: 0.4095, acc: 82.8418, loss_bbox: 0.3986, loss: 1.5975, grad_norm: 5.3307\n",
      "2024-03-04 15:03:39,112 - mmdet - INFO - Epoch [54][10/22]\tlr: 1.000e-05, eta: 0:20:01, time: 0.574, data_time: 0.306, memory: 4237, loss_rpn_cls: 0.3087, loss_rpn_bbox: 0.4424, loss_cls: 0.4019, acc: 83.6328, loss_bbox: 0.3794, loss: 1.5323, grad_norm: 4.1491\n",
      "2024-03-04 15:03:41,832 - mmdet - INFO - Epoch [54][20/22]\tlr: 1.000e-05, eta: 0:19:55, time: 0.272, data_time: 0.009, memory: 4237, loss_rpn_cls: 0.3656, loss_rpn_bbox: 0.4361, loss_cls: 0.4111, acc: 82.5684, loss_bbox: 0.3793, loss: 1.5921, grad_norm: 4.7367\n",
      "2024-03-04 15:03:42,445 - mmdet - INFO - Saving checkpoint at 54 epochs\n"
     ]
    },
    {
     "name": "stdout",
     "output_type": "stream",
     "text": [
      "[>>>>>>>>>>>>>>>>>>>>>>>>>>>>>>>>] 58/58, 13.0 task/s, elapsed: 4s, ETA:     0s"
     ]
    },
    {
     "name": "stderr",
     "output_type": "stream",
     "text": [
      "2024-03-04 15:04:00,705 - mmdet - INFO - \n",
      "+-------+------+------+--------+-------+\n",
      "| class | gts  | dets | recall | ap    |\n",
      "+-------+------+------+--------+-------+\n",
      "| grave | 3691 | 9340 | 0.133  | 0.076 |\n",
      "+-------+------+------+--------+-------+\n",
      "| mAP   |      |      |        | 0.076 |\n",
      "+-------+------+------+--------+-------+\n",
      "/gpfs/home/weitzk01/.conda/mmrotate_conda_env/lib/python3.8/site-packages/mmcv/__init__.py:20: UserWarning: On January 1, 2023, MMCV will release v2.0.0, in which it will remove components related to the training process and add a data transformation module. In addition, it will rename the package names mmcv to mmcv-lite and mmcv-full to mmcv. See https://github.com/open-mmlab/mmcv/blob/master/docs/en/compatibility.md for more details.\n",
      "  warnings.warn(\n",
      "/gpfs/home/weitzk01/.conda/mmrotate_conda_env/lib/python3.8/site-packages/mmcv/__init__.py:20: UserWarning: On January 1, 2023, MMCV will release v2.0.0, in which it will remove components related to the training process and add a data transformation module. In addition, it will rename the package names mmcv to mmcv-lite and mmcv-full to mmcv. See https://github.com/open-mmlab/mmcv/blob/master/docs/en/compatibility.md for more details.\n",
      "  warnings.warn(\n",
      "/gpfs/home/weitzk01/.conda/mmrotate_conda_env/lib/python3.8/site-packages/mmcv/__init__.py:20: UserWarning: On January 1, 2023, MMCV will release v2.0.0, in which it will remove components related to the training process and add a data transformation module. In addition, it will rename the package names mmcv to mmcv-lite and mmcv-full to mmcv. See https://github.com/open-mmlab/mmcv/blob/master/docs/en/compatibility.md for more details.\n",
      "  warnings.warn(\n",
      "/gpfs/home/weitzk01/.conda/mmrotate_conda_env/lib/python3.8/site-packages/mmcv/__init__.py:20: UserWarning: On January 1, 2023, MMCV will release v2.0.0, in which it will remove components related to the training process and add a data transformation module. In addition, it will rename the package names mmcv to mmcv-lite and mmcv-full to mmcv. See https://github.com/open-mmlab/mmcv/blob/master/docs/en/compatibility.md for more details.\n",
      "  warnings.warn(\n",
      "2024-03-04 15:04:00,799 - mmdet - INFO - Epoch(val) [54][58]\tmAP: 0.0759\n",
      "2024-03-04 15:04:06,727 - mmdet - INFO - Epoch [55][10/22]\tlr: 1.000e-05, eta: 0:19:54, time: 0.591, data_time: 0.330, memory: 4237, loss_rpn_cls: 0.3528, loss_rpn_bbox: 0.4073, loss_cls: 0.3968, acc: 83.5547, loss_bbox: 0.3709, loss: 1.5277, grad_norm: 5.1100\n",
      "2024-03-04 15:04:09,416 - mmdet - INFO - Epoch [55][20/22]\tlr: 1.000e-05, eta: 0:19:48, time: 0.269, data_time: 0.009, memory: 4237, loss_rpn_cls: 0.3308, loss_rpn_bbox: 0.4009, loss_cls: 0.4240, acc: 82.4805, loss_bbox: 0.4013, loss: 1.5569, grad_norm: 4.5008\n",
      "2024-03-04 15:04:15,635 - mmdet - INFO - Epoch [56][10/22]\tlr: 1.000e-05, eta: 0:19:46, time: 0.559, data_time: 0.298, memory: 4237, loss_rpn_cls: 0.3555, loss_rpn_bbox: 0.4247, loss_cls: 0.4439, acc: 80.7324, loss_bbox: 0.4341, loss: 1.6581, grad_norm: 5.0840\n",
      "2024-03-04 15:04:18,265 - mmdet - INFO - Epoch [56][20/22]\tlr: 1.000e-05, eta: 0:19:39, time: 0.263, data_time: 0.009, memory: 4237, loss_rpn_cls: 0.3107, loss_rpn_bbox: 0.3178, loss_cls: 0.3743, acc: 85.0000, loss_bbox: 0.3335, loss: 1.3362, grad_norm: 3.8081\n",
      "2024-03-04 15:04:24,318 - mmdet - INFO - Epoch [57][10/22]\tlr: 1.000e-05, eta: 0:19:37, time: 0.545, data_time: 0.284, memory: 4237, loss_rpn_cls: 0.3326, loss_rpn_bbox: 0.4314, loss_cls: 0.4108, acc: 82.8906, loss_bbox: 0.4052, loss: 1.5799, grad_norm: 4.4556\n",
      "2024-03-04 15:04:26,940 - mmdet - INFO - Epoch [57][20/22]\tlr: 1.000e-05, eta: 0:19:31, time: 0.262, data_time: 0.008, memory: 4237, loss_rpn_cls: 0.3354, loss_rpn_bbox: 0.4146, loss_cls: 0.4345, acc: 80.9766, loss_bbox: 0.4105, loss: 1.5951, grad_norm: 4.9413\n",
      "2024-03-04 15:04:27,553 - mmdet - INFO - Saving checkpoint at 57 epochs\n"
     ]
    },
    {
     "name": "stdout",
     "output_type": "stream",
     "text": [
      "[>>>>>>>>>>>>>>>>>>>>>>>>>>>>>>>>] 58/58, 12.7 task/s, elapsed: 5s, ETA:     0s"
     ]
    },
    {
     "name": "stderr",
     "output_type": "stream",
     "text": [
      "2024-03-04 15:04:46,224 - mmdet - INFO - \n",
      "+-------+------+------+--------+-------+\n",
      "| class | gts  | dets | recall | ap    |\n",
      "+-------+------+------+--------+-------+\n",
      "| grave | 3691 | 9337 | 0.132  | 0.070 |\n",
      "+-------+------+------+--------+-------+\n",
      "| mAP   |      |      |        | 0.070 |\n",
      "+-------+------+------+--------+-------+\n",
      "/gpfs/home/weitzk01/.conda/mmrotate_conda_env/lib/python3.8/site-packages/mmcv/__init__.py:20: UserWarning: On January 1, 2023, MMCV will release v2.0.0, in which it will remove components related to the training process and add a data transformation module. In addition, it will rename the package names mmcv to mmcv-lite and mmcv-full to mmcv. See https://github.com/open-mmlab/mmcv/blob/master/docs/en/compatibility.md for more details.\n",
      "  warnings.warn(\n",
      "/gpfs/home/weitzk01/.conda/mmrotate_conda_env/lib/python3.8/site-packages/mmcv/__init__.py:20: UserWarning: On January 1, 2023, MMCV will release v2.0.0, in which it will remove components related to the training process and add a data transformation module. In addition, it will rename the package names mmcv to mmcv-lite and mmcv-full to mmcv. See https://github.com/open-mmlab/mmcv/blob/master/docs/en/compatibility.md for more details.\n",
      "  warnings.warn(\n",
      "/gpfs/home/weitzk01/.conda/mmrotate_conda_env/lib/python3.8/site-packages/mmcv/__init__.py:20: UserWarning: On January 1, 2023, MMCV will release v2.0.0, in which it will remove components related to the training process and add a data transformation module. In addition, it will rename the package names mmcv to mmcv-lite and mmcv-full to mmcv. See https://github.com/open-mmlab/mmcv/blob/master/docs/en/compatibility.md for more details.\n",
      "  warnings.warn(\n",
      "/gpfs/home/weitzk01/.conda/mmrotate_conda_env/lib/python3.8/site-packages/mmcv/__init__.py:20: UserWarning: On January 1, 2023, MMCV will release v2.0.0, in which it will remove components related to the training process and add a data transformation module. In addition, it will rename the package names mmcv to mmcv-lite and mmcv-full to mmcv. See https://github.com/open-mmlab/mmcv/blob/master/docs/en/compatibility.md for more details.\n",
      "  warnings.warn(\n",
      "2024-03-04 15:04:46,340 - mmdet - INFO - Epoch(val) [57][58]\tmAP: 0.0699\n",
      "2024-03-04 15:04:51,885 - mmdet - INFO - Epoch [58][10/22]\tlr: 1.000e-05, eta: 0:19:29, time: 0.553, data_time: 0.293, memory: 4237, loss_rpn_cls: 0.3296, loss_rpn_bbox: 0.3666, loss_cls: 0.3659, acc: 85.2637, loss_bbox: 0.3236, loss: 1.3856, grad_norm: 4.1655\n",
      "2024-03-04 15:04:54,477 - mmdet - INFO - Epoch [58][20/22]\tlr: 1.000e-05, eta: 0:19:23, time: 0.259, data_time: 0.009, memory: 4237, loss_rpn_cls: 0.3304, loss_rpn_bbox: 0.4423, loss_cls: 0.4642, acc: 79.9805, loss_bbox: 0.4399, loss: 1.6769, grad_norm: 4.4109\n",
      "2024-03-04 15:05:00,895 - mmdet - INFO - Epoch [59][10/22]\tlr: 1.000e-05, eta: 0:19:21, time: 0.577, data_time: 0.314, memory: 4237, loss_rpn_cls: 0.3569, loss_rpn_bbox: 0.3813, loss_cls: 0.3529, acc: 86.3281, loss_bbox: 0.2904, loss: 1.3815, grad_norm: 4.9254\n",
      "2024-03-04 15:05:03,472 - mmdet - INFO - Epoch [59][20/22]\tlr: 1.000e-05, eta: 0:19:15, time: 0.258, data_time: 0.009, memory: 4237, loss_rpn_cls: 0.3303, loss_rpn_bbox: 0.4459, loss_cls: 0.4588, acc: 79.7461, loss_bbox: 0.4578, loss: 1.6928, grad_norm: 4.4770\n",
      "2024-03-04 15:05:09,695 - mmdet - INFO - Epoch [60][10/22]\tlr: 1.000e-05, eta: 0:19:13, time: 0.559, data_time: 0.293, memory: 4237, loss_rpn_cls: 0.3600, loss_rpn_bbox: 0.4820, loss_cls: 0.4544, acc: 80.8203, loss_bbox: 0.4297, loss: 1.7262, grad_norm: 4.3970\n",
      "2024-03-04 15:05:12,244 - mmdet - INFO - Epoch [60][20/22]\tlr: 1.000e-05, eta: 0:19:07, time: 0.255, data_time: 0.008, memory: 4237, loss_rpn_cls: 0.3170, loss_rpn_bbox: 0.3806, loss_cls: 0.3996, acc: 83.1445, loss_bbox: 0.3726, loss: 1.4698, grad_norm: 4.8686\n",
      "2024-03-04 15:05:12,856 - mmdet - INFO - Saving checkpoint at 60 epochs\n"
     ]
    },
    {
     "name": "stdout",
     "output_type": "stream",
     "text": [
      "[>>>>>>>>>>>>>>>>>>>>>>>>>>>>>>>>] 58/58, 13.0 task/s, elapsed: 4s, ETA:     0s"
     ]
    },
    {
     "name": "stderr",
     "output_type": "stream",
     "text": [
      "2024-03-04 15:05:31,589 - mmdet - INFO - \n",
      "+-------+------+------+--------+-------+\n",
      "| class | gts  | dets | recall | ap    |\n",
      "+-------+------+------+--------+-------+\n",
      "| grave | 3691 | 9332 | 0.130  | 0.075 |\n",
      "+-------+------+------+--------+-------+\n",
      "| mAP   |      |      |        | 0.075 |\n",
      "+-------+------+------+--------+-------+\n",
      "/gpfs/home/weitzk01/.conda/mmrotate_conda_env/lib/python3.8/site-packages/mmcv/__init__.py:20: UserWarning: On January 1, 2023, MMCV will release v2.0.0, in which it will remove components related to the training process and add a data transformation module. In addition, it will rename the package names mmcv to mmcv-lite and mmcv-full to mmcv. See https://github.com/open-mmlab/mmcv/blob/master/docs/en/compatibility.md for more details.\n",
      "  warnings.warn(\n",
      "/gpfs/home/weitzk01/.conda/mmrotate_conda_env/lib/python3.8/site-packages/mmcv/__init__.py:20: UserWarning: On January 1, 2023, MMCV will release v2.0.0, in which it will remove components related to the training process and add a data transformation module. In addition, it will rename the package names mmcv to mmcv-lite and mmcv-full to mmcv. See https://github.com/open-mmlab/mmcv/blob/master/docs/en/compatibility.md for more details.\n",
      "  warnings.warn(\n",
      "/gpfs/home/weitzk01/.conda/mmrotate_conda_env/lib/python3.8/site-packages/mmcv/__init__.py:20: UserWarning: On January 1, 2023, MMCV will release v2.0.0, in which it will remove components related to the training process and add a data transformation module. In addition, it will rename the package names mmcv to mmcv-lite and mmcv-full to mmcv. See https://github.com/open-mmlab/mmcv/blob/master/docs/en/compatibility.md for more details.\n",
      "  warnings.warn(\n",
      "/gpfs/home/weitzk01/.conda/mmrotate_conda_env/lib/python3.8/site-packages/mmcv/__init__.py:20: UserWarning: On January 1, 2023, MMCV will release v2.0.0, in which it will remove components related to the training process and add a data transformation module. In addition, it will rename the package names mmcv to mmcv-lite and mmcv-full to mmcv. See https://github.com/open-mmlab/mmcv/blob/master/docs/en/compatibility.md for more details.\n",
      "  warnings.warn(\n",
      "2024-03-04 15:05:31,686 - mmdet - INFO - Epoch(val) [60][58]\tmAP: 0.0753\n",
      "2024-03-04 15:05:37,277 - mmdet - INFO - Epoch [61][10/22]\tlr: 1.000e-05, eta: 0:19:05, time: 0.558, data_time: 0.296, memory: 4237, loss_rpn_cls: 0.3057, loss_rpn_bbox: 0.3439, loss_cls: 0.3912, acc: 83.3691, loss_bbox: 0.3757, loss: 1.4166, grad_norm: 4.8369\n",
      "2024-03-04 15:05:39,839 - mmdet - INFO - Epoch [61][20/22]\tlr: 1.000e-05, eta: 0:18:58, time: 0.256, data_time: 0.008, memory: 4237, loss_rpn_cls: 0.3658, loss_rpn_bbox: 0.4456, loss_cls: 0.4156, acc: 82.7637, loss_bbox: 0.3829, loss: 1.6099, grad_norm: 4.5793\n",
      "2024-03-04 15:05:46,144 - mmdet - INFO - Epoch [62][10/22]\tlr: 1.000e-05, eta: 0:18:56, time: 0.566, data_time: 0.299, memory: 4237, loss_rpn_cls: 0.3497, loss_rpn_bbox: 0.4439, loss_cls: 0.4301, acc: 81.9141, loss_bbox: 0.4151, loss: 1.6388, grad_norm: 4.8617\n",
      "2024-03-04 15:05:48,694 - mmdet - INFO - Epoch [62][20/22]\tlr: 1.000e-05, eta: 0:18:50, time: 0.255, data_time: 0.008, memory: 4237, loss_rpn_cls: 0.3250, loss_rpn_bbox: 0.3789, loss_cls: 0.4037, acc: 83.2812, loss_bbox: 0.4066, loss: 1.5143, grad_norm: 4.3612\n",
      "2024-03-04 15:05:54,746 - mmdet - INFO - Epoch [63][10/22]\tlr: 1.000e-05, eta: 0:18:48, time: 0.540, data_time: 0.283, memory: 4237, loss_rpn_cls: 0.3455, loss_rpn_bbox: 0.3980, loss_cls: 0.4312, acc: 81.5430, loss_bbox: 0.3992, loss: 1.5738, grad_norm: 4.4218\n",
      "2024-03-04 15:05:57,301 - mmdet - INFO - Epoch [63][20/22]\tlr: 1.000e-05, eta: 0:18:41, time: 0.256, data_time: 0.009, memory: 4237, loss_rpn_cls: 0.3241, loss_rpn_bbox: 0.3631, loss_cls: 0.3935, acc: 83.9355, loss_bbox: 0.3414, loss: 1.4221, grad_norm: 4.8194\n",
      "2024-03-04 15:05:57,895 - mmdet - INFO - Saving checkpoint at 63 epochs\n"
     ]
    },
    {
     "name": "stdout",
     "output_type": "stream",
     "text": [
      "[>>>>>>>>>>>>>>>>>>>>>>>>>>>>>>>>] 58/58, 13.1 task/s, elapsed: 4s, ETA:     0s"
     ]
    },
    {
     "name": "stderr",
     "output_type": "stream",
     "text": [
      "2024-03-04 15:06:15,671 - mmdet - INFO - \n",
      "+-------+------+------+--------+-------+\n",
      "| class | gts  | dets | recall | ap    |\n",
      "+-------+------+------+--------+-------+\n",
      "| grave | 3691 | 9323 | 0.130  | 0.075 |\n",
      "+-------+------+------+--------+-------+\n",
      "| mAP   |      |      |        | 0.075 |\n",
      "+-------+------+------+--------+-------+\n",
      "/gpfs/home/weitzk01/.conda/mmrotate_conda_env/lib/python3.8/site-packages/mmcv/__init__.py:20: UserWarning: On January 1, 2023, MMCV will release v2.0.0, in which it will remove components related to the training process and add a data transformation module. In addition, it will rename the package names mmcv to mmcv-lite and mmcv-full to mmcv. See https://github.com/open-mmlab/mmcv/blob/master/docs/en/compatibility.md for more details.\n",
      "  warnings.warn(\n",
      "/gpfs/home/weitzk01/.conda/mmrotate_conda_env/lib/python3.8/site-packages/mmcv/__init__.py:20: UserWarning: On January 1, 2023, MMCV will release v2.0.0, in which it will remove components related to the training process and add a data transformation module. In addition, it will rename the package names mmcv to mmcv-lite and mmcv-full to mmcv. See https://github.com/open-mmlab/mmcv/blob/master/docs/en/compatibility.md for more details.\n",
      "  warnings.warn(\n",
      "2024-03-04 15:06:15,760 - mmdet - INFO - Epoch(val) [63][58]\tmAP: 0.0755\n",
      "2024-03-04 15:06:21,498 - mmdet - INFO - Epoch [64][10/22]\tlr: 1.000e-05, eta: 0:18:40, time: 0.573, data_time: 0.308, memory: 4237, loss_rpn_cls: 0.3414, loss_rpn_bbox: 0.4259, loss_cls: 0.4063, acc: 83.0469, loss_bbox: 0.3993, loss: 1.5728, grad_norm: 4.3448\n",
      "2024-03-04 15:06:24,184 - mmdet - INFO - Epoch [64][20/22]\tlr: 1.000e-05, eta: 0:18:34, time: 0.269, data_time: 0.008, memory: 4237, loss_rpn_cls: 0.3334, loss_rpn_bbox: 0.4164, loss_cls: 0.4087, acc: 82.8027, loss_bbox: 0.3787, loss: 1.5371, grad_norm: 4.6576\n",
      "2024-03-04 15:06:30,469 - mmdet - INFO - Epoch [65][10/22]\tlr: 1.000e-05, eta: 0:18:32, time: 0.568, data_time: 0.303, memory: 4237, loss_rpn_cls: 0.3189, loss_rpn_bbox: 0.3400, loss_cls: 0.3974, acc: 82.9590, loss_bbox: 0.3613, loss: 1.4175, grad_norm: 4.1361\n",
      "2024-03-04 15:06:33,244 - mmdet - INFO - Epoch [65][20/22]\tlr: 1.000e-05, eta: 0:18:26, time: 0.278, data_time: 0.008, memory: 4237, loss_rpn_cls: 0.3301, loss_rpn_bbox: 0.4155, loss_cls: 0.4304, acc: 81.7578, loss_bbox: 0.3840, loss: 1.5601, grad_norm: 4.6519\n",
      "2024-03-04 15:06:39,376 - mmdet - INFO - Epoch [66][10/22]\tlr: 1.000e-05, eta: 0:18:24, time: 0.551, data_time: 0.300, memory: 4237, loss_rpn_cls: 0.3245, loss_rpn_bbox: 0.3681, loss_cls: 0.4018, acc: 83.9746, loss_bbox: 0.3615, loss: 1.4559, grad_norm: 3.8609\n",
      "2024-03-04 15:06:42,047 - mmdet - INFO - Epoch [66][20/22]\tlr: 1.000e-05, eta: 0:18:18, time: 0.267, data_time: 0.008, memory: 4237, loss_rpn_cls: 0.3522, loss_rpn_bbox: 0.4633, loss_cls: 0.4364, acc: 80.9473, loss_bbox: 0.4122, loss: 1.6642, grad_norm: 4.5388\n",
      "2024-03-04 15:06:42,659 - mmdet - INFO - Saving checkpoint at 66 epochs\n"
     ]
    },
    {
     "name": "stdout",
     "output_type": "stream",
     "text": [
      "[>>>>>>>>>>>>>>>>>>>>>>>>>>>>>>>>] 58/58, 13.2 task/s, elapsed: 4s, ETA:     0s"
     ]
    },
    {
     "name": "stderr",
     "output_type": "stream",
     "text": [
      "2024-03-04 15:07:01,332 - mmdet - INFO - \n",
      "+-------+------+------+--------+-------+\n",
      "| class | gts  | dets | recall | ap    |\n",
      "+-------+------+------+--------+-------+\n",
      "| grave | 3691 | 9319 | 0.131  | 0.072 |\n",
      "+-------+------+------+--------+-------+\n",
      "| mAP   |      |      |        | 0.072 |\n",
      "+-------+------+------+--------+-------+\n",
      "/gpfs/home/weitzk01/.conda/mmrotate_conda_env/lib/python3.8/site-packages/mmcv/__init__.py:20: UserWarning: On January 1, 2023, MMCV will release v2.0.0, in which it will remove components related to the training process and add a data transformation module. In addition, it will rename the package names mmcv to mmcv-lite and mmcv-full to mmcv. See https://github.com/open-mmlab/mmcv/blob/master/docs/en/compatibility.md for more details.\n",
      "  warnings.warn(\n",
      "/gpfs/home/weitzk01/.conda/mmrotate_conda_env/lib/python3.8/site-packages/mmcv/__init__.py:20: UserWarning: On January 1, 2023, MMCV will release v2.0.0, in which it will remove components related to the training process and add a data transformation module. In addition, it will rename the package names mmcv to mmcv-lite and mmcv-full to mmcv. See https://github.com/open-mmlab/mmcv/blob/master/docs/en/compatibility.md for more details.\n",
      "  warnings.warn(\n",
      "/gpfs/home/weitzk01/.conda/mmrotate_conda_env/lib/python3.8/site-packages/mmcv/__init__.py:20: UserWarning: On January 1, 2023, MMCV will release v2.0.0, in which it will remove components related to the training process and add a data transformation module. In addition, it will rename the package names mmcv to mmcv-lite and mmcv-full to mmcv. See https://github.com/open-mmlab/mmcv/blob/master/docs/en/compatibility.md for more details.\n",
      "  warnings.warn(\n",
      "/gpfs/home/weitzk01/.conda/mmrotate_conda_env/lib/python3.8/site-packages/mmcv/__init__.py:20: UserWarning: On January 1, 2023, MMCV will release v2.0.0, in which it will remove components related to the training process and add a data transformation module. In addition, it will rename the package names mmcv to mmcv-lite and mmcv-full to mmcv. See https://github.com/open-mmlab/mmcv/blob/master/docs/en/compatibility.md for more details.\n",
      "  warnings.warn(\n",
      "2024-03-04 15:07:01,439 - mmdet - INFO - Epoch(val) [66][58]\tmAP: 0.0716\n",
      "2024-03-04 15:07:07,037 - mmdet - INFO - Epoch [67][10/22]\tlr: 1.000e-05, eta: 0:18:16, time: 0.558, data_time: 0.301, memory: 4237, loss_rpn_cls: 0.3610, loss_rpn_bbox: 0.4436, loss_cls: 0.4093, acc: 82.5879, loss_bbox: 0.3806, loss: 1.5945, grad_norm: 4.4399\n",
      "2024-03-04 15:07:09,732 - mmdet - INFO - Epoch [67][20/22]\tlr: 1.000e-05, eta: 0:18:10, time: 0.269, data_time: 0.008, memory: 4237, loss_rpn_cls: 0.3293, loss_rpn_bbox: 0.3649, loss_cls: 0.4583, acc: 80.1367, loss_bbox: 0.4559, loss: 1.6084, grad_norm: 4.5744\n",
      "2024-03-04 15:07:15,944 - mmdet - INFO - Epoch [68][10/22]\tlr: 1.000e-05, eta: 0:18:08, time: 0.560, data_time: 0.293, memory: 4237, loss_rpn_cls: 0.3229, loss_rpn_bbox: 0.3229, loss_cls: 0.3872, acc: 85.0195, loss_bbox: 0.3251, loss: 1.3581, grad_norm: 4.3546\n",
      "2024-03-04 15:07:18,672 - mmdet - INFO - Epoch [68][20/22]\tlr: 1.000e-05, eta: 0:18:02, time: 0.273, data_time: 0.008, memory: 4237, loss_rpn_cls: 0.3127, loss_rpn_bbox: 0.4466, loss_cls: 0.4294, acc: 80.6934, loss_bbox: 0.4017, loss: 1.5904, grad_norm: 3.9675\n",
      "2024-03-04 15:07:25,083 - mmdet - INFO - Epoch [69][10/22]\tlr: 1.000e-05, eta: 0:18:00, time: 0.576, data_time: 0.314, memory: 4237, loss_rpn_cls: 0.3565, loss_rpn_bbox: 0.4483, loss_cls: 0.4311, acc: 81.6504, loss_bbox: 0.4422, loss: 1.6781, grad_norm: 4.5775\n",
      "2024-03-04 15:07:27,793 - mmdet - INFO - Epoch [69][20/22]\tlr: 1.000e-05, eta: 0:17:54, time: 0.271, data_time: 0.008, memory: 4237, loss_rpn_cls: 0.3137, loss_rpn_bbox: 0.3898, loss_cls: 0.4172, acc: 82.0996, loss_bbox: 0.3806, loss: 1.5013, grad_norm: 4.1024\n",
      "2024-03-04 15:07:28,383 - mmdet - INFO - Saving checkpoint at 69 epochs\n"
     ]
    },
    {
     "name": "stdout",
     "output_type": "stream",
     "text": [
      "[>>>>>>>>>>>>>>>>>>>>>>>>>>>>>>>>] 58/58, 13.7 task/s, elapsed: 4s, ETA:     0s"
     ]
    },
    {
     "name": "stderr",
     "output_type": "stream",
     "text": [
      "2024-03-04 15:07:46,698 - mmdet - INFO - \n",
      "+-------+------+------+--------+-------+\n",
      "| class | gts  | dets | recall | ap    |\n",
      "+-------+------+------+--------+-------+\n",
      "| grave | 3691 | 9300 | 0.130  | 0.073 |\n",
      "+-------+------+------+--------+-------+\n",
      "| mAP   |      |      |        | 0.073 |\n",
      "+-------+------+------+--------+-------+\n",
      "/gpfs/home/weitzk01/.conda/mmrotate_conda_env/lib/python3.8/site-packages/mmcv/__init__.py:20: UserWarning: On January 1, 2023, MMCV will release v2.0.0, in which it will remove components related to the training process and add a data transformation module. In addition, it will rename the package names mmcv to mmcv-lite and mmcv-full to mmcv. See https://github.com/open-mmlab/mmcv/blob/master/docs/en/compatibility.md for more details.\n",
      "  warnings.warn(\n",
      "/gpfs/home/weitzk01/.conda/mmrotate_conda_env/lib/python3.8/site-packages/mmcv/__init__.py:20: UserWarning: On January 1, 2023, MMCV will release v2.0.0, in which it will remove components related to the training process and add a data transformation module. In addition, it will rename the package names mmcv to mmcv-lite and mmcv-full to mmcv. See https://github.com/open-mmlab/mmcv/blob/master/docs/en/compatibility.md for more details.\n",
      "  warnings.warn(\n",
      "/gpfs/home/weitzk01/.conda/mmrotate_conda_env/lib/python3.8/site-packages/mmcv/__init__.py:20: UserWarning: On January 1, 2023, MMCV will release v2.0.0, in which it will remove components related to the training process and add a data transformation module. In addition, it will rename the package names mmcv to mmcv-lite and mmcv-full to mmcv. See https://github.com/open-mmlab/mmcv/blob/master/docs/en/compatibility.md for more details.\n",
      "  warnings.warn(\n",
      "/gpfs/home/weitzk01/.conda/mmrotate_conda_env/lib/python3.8/site-packages/mmcv/__init__.py:20: UserWarning: On January 1, 2023, MMCV will release v2.0.0, in which it will remove components related to the training process and add a data transformation module. In addition, it will rename the package names mmcv to mmcv-lite and mmcv-full to mmcv. See https://github.com/open-mmlab/mmcv/blob/master/docs/en/compatibility.md for more details.\n",
      "  warnings.warn(\n",
      "2024-03-04 15:07:46,799 - mmdet - INFO - Epoch(val) [69][58]\tmAP: 0.0729\n",
      "2024-03-04 15:07:52,466 - mmdet - INFO - Epoch [70][10/22]\tlr: 1.000e-05, eta: 0:17:52, time: 0.565, data_time: 0.312, memory: 4237, loss_rpn_cls: 0.3387, loss_rpn_bbox: 0.3941, loss_cls: 0.4022, acc: 83.9648, loss_bbox: 0.3518, loss: 1.4867, grad_norm: 4.4815\n",
      "2024-03-04 15:07:55,207 - mmdet - INFO - Epoch [70][20/22]\tlr: 1.000e-05, eta: 0:17:46, time: 0.274, data_time: 0.008, memory: 4237, loss_rpn_cls: 0.3319, loss_rpn_bbox: 0.4365, loss_cls: 0.4080, acc: 82.8125, loss_bbox: 0.3749, loss: 1.5513, grad_norm: 3.8780\n",
      "2024-03-04 15:08:01,623 - mmdet - INFO - Epoch [71][10/22]\tlr: 1.000e-05, eta: 0:17:44, time: 0.575, data_time: 0.315, memory: 4237, loss_rpn_cls: 0.3502, loss_rpn_bbox: 0.4247, loss_cls: 0.4134, acc: 82.9883, loss_bbox: 0.3999, loss: 1.5883, grad_norm: 4.8561\n",
      "2024-03-04 15:08:04,280 - mmdet - INFO - Epoch [71][20/22]\tlr: 1.000e-05, eta: 0:17:39, time: 0.266, data_time: 0.008, memory: 4237, loss_rpn_cls: 0.3116, loss_rpn_bbox: 0.3059, loss_cls: 0.4050, acc: 83.3301, loss_bbox: 0.3474, loss: 1.3698, grad_norm: 4.4329\n",
      "2024-03-04 15:08:10,504 - mmdet - INFO - Epoch [72][10/22]\tlr: 1.000e-05, eta: 0:17:36, time: 0.559, data_time: 0.304, memory: 4237, loss_rpn_cls: 0.3305, loss_rpn_bbox: 0.4217, loss_cls: 0.4025, acc: 82.9980, loss_bbox: 0.3804, loss: 1.5350, grad_norm: 4.3588\n",
      "2024-03-04 15:08:13,120 - mmdet - INFO - Epoch [72][20/22]\tlr: 1.000e-05, eta: 0:17:30, time: 0.262, data_time: 0.008, memory: 4237, loss_rpn_cls: 0.3358, loss_rpn_bbox: 0.4369, loss_cls: 0.4172, acc: 82.6953, loss_bbox: 0.3798, loss: 1.5697, grad_norm: 4.3718\n",
      "2024-03-04 15:08:13,738 - mmdet - INFO - Saving checkpoint at 72 epochs\n"
     ]
    },
    {
     "name": "stdout",
     "output_type": "stream",
     "text": [
      "[>>>>>>>>>>>>>>>>>>>>>>>>>>>>>>>>] 58/58, 12.1 task/s, elapsed: 5s, ETA:     0s"
     ]
    },
    {
     "name": "stderr",
     "output_type": "stream",
     "text": [
      "2024-03-04 15:08:32,660 - mmdet - INFO - \n",
      "+-------+------+------+--------+-------+\n",
      "| class | gts  | dets | recall | ap    |\n",
      "+-------+------+------+--------+-------+\n",
      "| grave | 3691 | 9280 | 0.130  | 0.071 |\n",
      "+-------+------+------+--------+-------+\n",
      "| mAP   |      |      |        | 0.071 |\n",
      "+-------+------+------+--------+-------+\n",
      "/gpfs/home/weitzk01/.conda/mmrotate_conda_env/lib/python3.8/site-packages/mmcv/__init__.py:20: UserWarning: On January 1, 2023, MMCV will release v2.0.0, in which it will remove components related to the training process and add a data transformation module. In addition, it will rename the package names mmcv to mmcv-lite and mmcv-full to mmcv. See https://github.com/open-mmlab/mmcv/blob/master/docs/en/compatibility.md for more details.\n",
      "  warnings.warn(\n",
      "/gpfs/home/weitzk01/.conda/mmrotate_conda_env/lib/python3.8/site-packages/mmcv/__init__.py:20: UserWarning: On January 1, 2023, MMCV will release v2.0.0, in which it will remove components related to the training process and add a data transformation module. In addition, it will rename the package names mmcv to mmcv-lite and mmcv-full to mmcv. See https://github.com/open-mmlab/mmcv/blob/master/docs/en/compatibility.md for more details.\n",
      "  warnings.warn(\n",
      "/gpfs/home/weitzk01/.conda/mmrotate_conda_env/lib/python3.8/site-packages/mmcv/__init__.py:20: UserWarning: On January 1, 2023, MMCV will release v2.0.0, in which it will remove components related to the training process and add a data transformation module. In addition, it will rename the package names mmcv to mmcv-lite and mmcv-full to mmcv. See https://github.com/open-mmlab/mmcv/blob/master/docs/en/compatibility.md for more details.\n",
      "  warnings.warn(\n",
      "/gpfs/home/weitzk01/.conda/mmrotate_conda_env/lib/python3.8/site-packages/mmcv/__init__.py:20: UserWarning: On January 1, 2023, MMCV will release v2.0.0, in which it will remove components related to the training process and add a data transformation module. In addition, it will rename the package names mmcv to mmcv-lite and mmcv-full to mmcv. See https://github.com/open-mmlab/mmcv/blob/master/docs/en/compatibility.md for more details.\n",
      "  warnings.warn(\n",
      "2024-03-04 15:08:32,742 - mmdet - INFO - Epoch(val) [72][58]\tmAP: 0.0713\n",
      "2024-03-04 15:08:38,078 - mmdet - INFO - Epoch [73][10/22]\tlr: 1.000e-05, eta: 0:17:27, time: 0.532, data_time: 0.282, memory: 4237, loss_rpn_cls: 0.3459, loss_rpn_bbox: 0.4220, loss_cls: 0.4193, acc: 82.2070, loss_bbox: 0.3811, loss: 1.5683, grad_norm: 4.3071\n",
      "2024-03-04 15:08:40,587 - mmdet - INFO - Epoch [73][20/22]\tlr: 1.000e-05, eta: 0:17:22, time: 0.251, data_time: 0.008, memory: 4237, loss_rpn_cls: 0.3191, loss_rpn_bbox: 0.4079, loss_cls: 0.4127, acc: 83.0176, loss_bbox: 0.3842, loss: 1.5240, grad_norm: 4.3858\n",
      "2024-03-04 15:08:46,800 - mmdet - INFO - Epoch [74][10/22]\tlr: 1.000e-05, eta: 0:17:19, time: 0.558, data_time: 0.300, memory: 4237, loss_rpn_cls: 0.3280, loss_rpn_bbox: 0.4548, loss_cls: 0.4336, acc: 81.2988, loss_bbox: 0.4358, loss: 1.6521, grad_norm: 4.1960\n",
      "2024-03-04 15:08:49,468 - mmdet - INFO - Epoch [74][20/22]\tlr: 1.000e-05, eta: 0:17:13, time: 0.267, data_time: 0.008, memory: 4237, loss_rpn_cls: 0.3263, loss_rpn_bbox: 0.3461, loss_cls: 0.3785, acc: 84.6484, loss_bbox: 0.3290, loss: 1.3798, grad_norm: 4.5960\n",
      "2024-03-04 15:08:55,545 - mmdet - INFO - Epoch [75][10/22]\tlr: 1.000e-05, eta: 0:17:11, time: 0.546, data_time: 0.288, memory: 4237, loss_rpn_cls: 0.3297, loss_rpn_bbox: 0.4251, loss_cls: 0.4177, acc: 82.3633, loss_bbox: 0.3705, loss: 1.5430, grad_norm: 4.6550\n",
      "2024-03-04 15:08:58,200 - mmdet - INFO - Epoch [75][20/22]\tlr: 1.000e-05, eta: 0:17:05, time: 0.266, data_time: 0.009, memory: 4237, loss_rpn_cls: 0.3451, loss_rpn_bbox: 0.4113, loss_cls: 0.4195, acc: 82.6367, loss_bbox: 0.3624, loss: 1.5383, grad_norm: 4.3197\n",
      "2024-03-04 15:08:58,865 - mmdet - INFO - Saving checkpoint at 75 epochs\n"
     ]
    },
    {
     "name": "stdout",
     "output_type": "stream",
     "text": [
      "[>>>>>>>>>>>>>>>>>>>>>>>>>>>>>>>>] 58/58, 12.8 task/s, elapsed: 5s, ETA:     0s"
     ]
    },
    {
     "name": "stderr",
     "output_type": "stream",
     "text": [
      "2024-03-04 15:09:16,787 - mmdet - INFO - \n",
      "+-------+------+------+--------+-------+\n",
      "| class | gts  | dets | recall | ap    |\n",
      "+-------+------+------+--------+-------+\n",
      "| grave | 3691 | 9261 | 0.129  | 0.071 |\n",
      "+-------+------+------+--------+-------+\n",
      "| mAP   |      |      |        | 0.071 |\n",
      "+-------+------+------+--------+-------+\n",
      "2024-03-04 15:09:16,854 - mmdet - INFO - Epoch(val) [75][58]\tmAP: 0.0713\n",
      "2024-03-04 15:09:22,741 - mmdet - INFO - Epoch [76][10/22]\tlr: 1.000e-05, eta: 0:17:03, time: 0.587, data_time: 0.324, memory: 4237, loss_rpn_cls: 0.3568, loss_rpn_bbox: 0.4598, loss_cls: 0.4226, acc: 82.1777, loss_bbox: 0.4162, loss: 1.6553, grad_norm: 4.5378\n",
      "2024-03-04 15:09:25,303 - mmdet - INFO - Epoch [76][20/22]\tlr: 1.000e-05, eta: 0:16:57, time: 0.256, data_time: 0.008, memory: 4237, loss_rpn_cls: 0.3128, loss_rpn_bbox: 0.3707, loss_cls: 0.4029, acc: 83.1543, loss_bbox: 0.3624, loss: 1.4488, grad_norm: 4.2957\n",
      "2024-03-04 15:09:31,627 - mmdet - INFO - Epoch [77][10/22]\tlr: 1.000e-05, eta: 0:16:55, time: 0.571, data_time: 0.329, memory: 4237, loss_rpn_cls: 0.3117, loss_rpn_bbox: 0.3796, loss_cls: 0.3966, acc: 82.9004, loss_bbox: 0.3814, loss: 1.4693, grad_norm: 5.0369\n",
      "2024-03-04 15:09:34,149 - mmdet - INFO - Epoch [77][20/22]\tlr: 1.000e-05, eta: 0:16:49, time: 0.252, data_time: 0.008, memory: 4237, loss_rpn_cls: 0.3511, loss_rpn_bbox: 0.4414, loss_cls: 0.4461, acc: 81.0547, loss_bbox: 0.4562, loss: 1.6948, grad_norm: 3.9640\n",
      "2024-03-04 15:09:40,615 - mmdet - INFO - Epoch [78][10/22]\tlr: 1.000e-05, eta: 0:16:47, time: 0.584, data_time: 0.325, memory: 4237, loss_rpn_cls: 0.3100, loss_rpn_bbox: 0.4336, loss_cls: 0.4143, acc: 82.6270, loss_bbox: 0.4021, loss: 1.5600, grad_norm: 3.7905\n",
      "2024-03-04 15:09:43,328 - mmdet - INFO - Epoch [78][20/22]\tlr: 1.000e-05, eta: 0:16:41, time: 0.271, data_time: 0.008, memory: 4237, loss_rpn_cls: 0.3363, loss_rpn_bbox: 0.3658, loss_cls: 0.4212, acc: 82.0117, loss_bbox: 0.3843, loss: 1.5076, grad_norm: 5.2315\n",
      "2024-03-04 15:09:43,960 - mmdet - INFO - Saving checkpoint at 78 epochs\n"
     ]
    },
    {
     "name": "stdout",
     "output_type": "stream",
     "text": [
      "[>>>>>>>>>>>>>>>>>>>>>>>>>>>>>>>>] 58/58, 13.1 task/s, elapsed: 4s, ETA:     0s"
     ]
    },
    {
     "name": "stderr",
     "output_type": "stream",
     "text": [
      "2024-03-04 15:10:01,713 - mmdet - INFO - \n",
      "+-------+------+------+--------+-------+\n",
      "| class | gts  | dets | recall | ap    |\n",
      "+-------+------+------+--------+-------+\n",
      "| grave | 3691 | 9289 | 0.134  | 0.076 |\n",
      "+-------+------+------+--------+-------+\n",
      "| mAP   |      |      |        | 0.076 |\n",
      "+-------+------+------+--------+-------+\n",
      "/gpfs/home/weitzk01/.conda/mmrotate_conda_env/lib/python3.8/site-packages/mmcv/__init__.py:20: UserWarning: On January 1, 2023, MMCV will release v2.0.0, in which it will remove components related to the training process and add a data transformation module. In addition, it will rename the package names mmcv to mmcv-lite and mmcv-full to mmcv. See https://github.com/open-mmlab/mmcv/blob/master/docs/en/compatibility.md for more details.\n",
      "  warnings.warn(\n",
      "/gpfs/home/weitzk01/.conda/mmrotate_conda_env/lib/python3.8/site-packages/mmcv/__init__.py:20: UserWarning: On January 1, 2023, MMCV will release v2.0.0, in which it will remove components related to the training process and add a data transformation module. In addition, it will rename the package names mmcv to mmcv-lite and mmcv-full to mmcv. See https://github.com/open-mmlab/mmcv/blob/master/docs/en/compatibility.md for more details.\n",
      "  warnings.warn(\n",
      "2024-03-04 15:10:01,776 - mmdet - INFO - Epoch(val) [78][58]\tmAP: 0.0758\n",
      "2024-03-04 15:10:07,465 - mmdet - INFO - Epoch [79][10/22]\tlr: 1.000e-05, eta: 0:16:39, time: 0.568, data_time: 0.306, memory: 4237, loss_rpn_cls: 0.3202, loss_rpn_bbox: 0.4181, loss_cls: 0.4353, acc: 81.2695, loss_bbox: 0.4293, loss: 1.6029, grad_norm: 4.3152\n",
      "2024-03-04 15:10:10,253 - mmdet - INFO - Epoch [79][20/22]\tlr: 1.000e-05, eta: 0:16:34, time: 0.279, data_time: 0.008, memory: 4237, loss_rpn_cls: 0.3268, loss_rpn_bbox: 0.3829, loss_cls: 0.3657, acc: 85.7715, loss_bbox: 0.3090, loss: 1.3845, grad_norm: 4.6381\n",
      "2024-03-04 15:10:16,601 - mmdet - INFO - Epoch [80][10/22]\tlr: 1.000e-05, eta: 0:16:31, time: 0.572, data_time: 0.305, memory: 4237, loss_rpn_cls: 0.3161, loss_rpn_bbox: 0.4325, loss_cls: 0.4231, acc: 81.8750, loss_bbox: 0.4042, loss: 1.5758, grad_norm: 4.9136\n",
      "2024-03-04 15:10:19,302 - mmdet - INFO - Epoch [80][20/22]\tlr: 1.000e-05, eta: 0:16:26, time: 0.270, data_time: 0.008, memory: 4237, loss_rpn_cls: 0.3318, loss_rpn_bbox: 0.4061, loss_cls: 0.4028, acc: 83.5254, loss_bbox: 0.3876, loss: 1.5283, grad_norm: 4.3389\n",
      "2024-03-04 15:10:25,399 - mmdet - INFO - Epoch [81][10/22]\tlr: 1.000e-05, eta: 0:16:23, time: 0.547, data_time: 0.291, memory: 4237, loss_rpn_cls: 0.3393, loss_rpn_bbox: 0.3665, loss_cls: 0.3674, acc: 85.6641, loss_bbox: 0.3424, loss: 1.4155, grad_norm: 4.0822\n",
      "2024-03-04 15:10:28,096 - mmdet - INFO - Epoch [81][20/22]\tlr: 1.000e-05, eta: 0:16:17, time: 0.270, data_time: 0.011, memory: 4237, loss_rpn_cls: 0.3579, loss_rpn_bbox: 0.4507, loss_cls: 0.4534, acc: 79.9316, loss_bbox: 0.4369, loss: 1.6989, grad_norm: 4.6766\n",
      "2024-03-04 15:10:28,732 - mmdet - INFO - Saving checkpoint at 81 epochs\n"
     ]
    },
    {
     "name": "stdout",
     "output_type": "stream",
     "text": [
      "[>>>>>>>>>>>>>>>>>>>>>>>>>>>>>>>>] 58/58, 13.1 task/s, elapsed: 4s, ETA:     0s"
     ]
    },
    {
     "name": "stderr",
     "output_type": "stream",
     "text": [
      "2024-03-04 15:10:46,053 - mmdet - INFO - \n",
      "+-------+------+------+--------+-------+\n",
      "| class | gts  | dets | recall | ap    |\n",
      "+-------+------+------+--------+-------+\n",
      "| grave | 3691 | 9260 | 0.134  | 0.076 |\n",
      "+-------+------+------+--------+-------+\n",
      "| mAP   |      |      |        | 0.076 |\n",
      "+-------+------+------+--------+-------+\n",
      "/gpfs/home/weitzk01/.conda/mmrotate_conda_env/lib/python3.8/site-packages/mmcv/__init__.py:20: UserWarning: On January 1, 2023, MMCV will release v2.0.0, in which it will remove components related to the training process and add a data transformation module. In addition, it will rename the package names mmcv to mmcv-lite and mmcv-full to mmcv. See https://github.com/open-mmlab/mmcv/blob/master/docs/en/compatibility.md for more details.\n",
      "  warnings.warn(\n",
      "/gpfs/home/weitzk01/.conda/mmrotate_conda_env/lib/python3.8/site-packages/mmcv/__init__.py:20: UserWarning: On January 1, 2023, MMCV will release v2.0.0, in which it will remove components related to the training process and add a data transformation module. In addition, it will rename the package names mmcv to mmcv-lite and mmcv-full to mmcv. See https://github.com/open-mmlab/mmcv/blob/master/docs/en/compatibility.md for more details.\n",
      "  warnings.warn(\n",
      "2024-03-04 15:10:46,129 - mmdet - INFO - Epoch(val) [81][58]\tmAP: 0.0759\n",
      "2024-03-04 15:10:51,755 - mmdet - INFO - Epoch [82][10/22]\tlr: 1.000e-05, eta: 0:16:15, time: 0.561, data_time: 0.296, memory: 4237, loss_rpn_cls: 0.3202, loss_rpn_bbox: 0.3665, loss_cls: 0.4237, acc: 82.4512, loss_bbox: 0.3941, loss: 1.5045, grad_norm: 3.9383\n",
      "2024-03-04 15:10:54,308 - mmdet - INFO - Epoch [82][20/22]\tlr: 1.000e-05, eta: 0:16:09, time: 0.255, data_time: 0.009, memory: 4237, loss_rpn_cls: 0.3352, loss_rpn_bbox: 0.4432, loss_cls: 0.3985, acc: 83.1641, loss_bbox: 0.3816, loss: 1.5584, grad_norm: 4.9975\n",
      "2024-03-04 15:11:00,310 - mmdet - INFO - Epoch [83][10/22]\tlr: 1.000e-05, eta: 0:16:06, time: 0.532, data_time: 0.282, memory: 4237, loss_rpn_cls: 0.3401, loss_rpn_bbox: 0.3950, loss_cls: 0.4122, acc: 83.1543, loss_bbox: 0.3774, loss: 1.5246, grad_norm: 4.8653\n",
      "2024-03-04 15:11:02,976 - mmdet - INFO - Epoch [83][20/22]\tlr: 1.000e-05, eta: 0:16:01, time: 0.267, data_time: 0.008, memory: 4237, loss_rpn_cls: 0.3043, loss_rpn_bbox: 0.3942, loss_cls: 0.4051, acc: 82.8125, loss_bbox: 0.3775, loss: 1.4812, grad_norm: 3.8683\n",
      "2024-03-04 15:11:09,111 - mmdet - INFO - Epoch [84][10/22]\tlr: 1.000e-05, eta: 0:15:58, time: 0.550, data_time: 0.295, memory: 4237, loss_rpn_cls: 0.3481, loss_rpn_bbox: 0.3618, loss_cls: 0.3926, acc: 84.2773, loss_bbox: 0.3421, loss: 1.4446, grad_norm: 4.6674\n",
      "2024-03-04 15:11:11,733 - mmdet - INFO - Epoch [84][20/22]\tlr: 1.000e-05, eta: 0:15:52, time: 0.262, data_time: 0.008, memory: 4237, loss_rpn_cls: 0.3343, loss_rpn_bbox: 0.4369, loss_cls: 0.4478, acc: 80.3809, loss_bbox: 0.4372, loss: 1.6562, grad_norm: 5.1392\n",
      "2024-03-04 15:11:12,341 - mmdet - INFO - Saving checkpoint at 84 epochs\n"
     ]
    },
    {
     "name": "stdout",
     "output_type": "stream",
     "text": [
      "[>>>>>>>>>>>>>>>>>>>>>>>>>>>>>>>>] 58/58, 13.2 task/s, elapsed: 4s, ETA:     0s"
     ]
    },
    {
     "name": "stderr",
     "output_type": "stream",
     "text": [
      "2024-03-04 15:11:29,035 - mmdet - INFO - \n",
      "+-------+------+------+--------+-------+\n",
      "| class | gts  | dets | recall | ap    |\n",
      "+-------+------+------+--------+-------+\n",
      "| grave | 3691 | 9222 | 0.131  | 0.070 |\n",
      "+-------+------+------+--------+-------+\n",
      "| mAP   |      |      |        | 0.070 |\n",
      "+-------+------+------+--------+-------+\n",
      "/gpfs/home/weitzk01/.conda/mmrotate_conda_env/lib/python3.8/site-packages/mmcv/__init__.py:20: UserWarning: On January 1, 2023, MMCV will release v2.0.0, in which it will remove components related to the training process and add a data transformation module. In addition, it will rename the package names mmcv to mmcv-lite and mmcv-full to mmcv. See https://github.com/open-mmlab/mmcv/blob/master/docs/en/compatibility.md for more details.\n",
      "  warnings.warn(\n",
      "/gpfs/home/weitzk01/.conda/mmrotate_conda_env/lib/python3.8/site-packages/mmcv/__init__.py:20: UserWarning: On January 1, 2023, MMCV will release v2.0.0, in which it will remove components related to the training process and add a data transformation module. In addition, it will rename the package names mmcv to mmcv-lite and mmcv-full to mmcv. See https://github.com/open-mmlab/mmcv/blob/master/docs/en/compatibility.md for more details.\n",
      "  warnings.warn(\n",
      "/gpfs/home/weitzk01/.conda/mmrotate_conda_env/lib/python3.8/site-packages/mmcv/__init__.py:20: UserWarning: On January 1, 2023, MMCV will release v2.0.0, in which it will remove components related to the training process and add a data transformation module. In addition, it will rename the package names mmcv to mmcv-lite and mmcv-full to mmcv. See https://github.com/open-mmlab/mmcv/blob/master/docs/en/compatibility.md for more details.\n",
      "  warnings.warn(\n",
      "2024-03-04 15:11:29,119 - mmdet - INFO - Epoch(val) [84][58]\tmAP: 0.0701\n",
      "2024-03-04 15:11:34,731 - mmdet - INFO - Epoch [85][10/22]\tlr: 1.000e-05, eta: 0:15:49, time: 0.560, data_time: 0.303, memory: 4237, loss_rpn_cls: 0.3443, loss_rpn_bbox: 0.4228, loss_cls: 0.4247, acc: 82.0117, loss_bbox: 0.3784, loss: 1.5701, grad_norm: 5.5938\n",
      "2024-03-04 15:11:37,298 - mmdet - INFO - Epoch [85][20/22]\tlr: 1.000e-05, eta: 0:15:44, time: 0.257, data_time: 0.009, memory: 4237, loss_rpn_cls: 0.3294, loss_rpn_bbox: 0.4399, loss_cls: 0.4046, acc: 83.2520, loss_bbox: 0.3962, loss: 1.5701, grad_norm: 3.7263\n",
      "2024-03-04 15:11:43,611 - mmdet - INFO - Epoch [86][10/22]\tlr: 1.000e-05, eta: 0:15:41, time: 0.568, data_time: 0.312, memory: 4237, loss_rpn_cls: 0.3070, loss_rpn_bbox: 0.3807, loss_cls: 0.3848, acc: 84.0527, loss_bbox: 0.3663, loss: 1.4387, grad_norm: 4.0997\n",
      "2024-03-04 15:11:46,289 - mmdet - INFO - Epoch [86][20/22]\tlr: 1.000e-05, eta: 0:15:36, time: 0.268, data_time: 0.009, memory: 4237, loss_rpn_cls: 0.3353, loss_rpn_bbox: 0.3939, loss_cls: 0.4306, acc: 81.7871, loss_bbox: 0.3969, loss: 1.5567, grad_norm: 4.3915\n",
      "2024-03-04 15:11:52,384 - mmdet - INFO - Epoch [87][10/22]\tlr: 1.000e-05, eta: 0:15:33, time: 0.547, data_time: 0.280, memory: 4237, loss_rpn_cls: 0.3571, loss_rpn_bbox: 0.4360, loss_cls: 0.4612, acc: 79.5996, loss_bbox: 0.4622, loss: 1.7164, grad_norm: 4.4351\n",
      "2024-03-04 15:11:55,098 - mmdet - INFO - Epoch [87][20/22]\tlr: 1.000e-05, eta: 0:15:28, time: 0.271, data_time: 0.008, memory: 4237, loss_rpn_cls: 0.3037, loss_rpn_bbox: 0.3921, loss_cls: 0.3931, acc: 83.9941, loss_bbox: 0.3672, loss: 1.4561, grad_norm: 4.0472\n",
      "2024-03-04 15:11:55,697 - mmdet - INFO - Saving checkpoint at 87 epochs\n"
     ]
    },
    {
     "name": "stdout",
     "output_type": "stream",
     "text": [
      "[>>>>>>>>>>>>>>>>>>>>>>>>>>>>>>>>] 58/58, 13.0 task/s, elapsed: 4s, ETA:     0s"
     ]
    },
    {
     "name": "stderr",
     "output_type": "stream",
     "text": [
      "2024-03-04 15:12:12,474 - mmdet - INFO - \n",
      "+-------+------+------+--------+-------+\n",
      "| class | gts  | dets | recall | ap    |\n",
      "+-------+------+------+--------+-------+\n",
      "| grave | 3691 | 9245 | 0.132  | 0.070 |\n",
      "+-------+------+------+--------+-------+\n",
      "| mAP   |      |      |        | 0.070 |\n",
      "+-------+------+------+--------+-------+\n",
      "/gpfs/home/weitzk01/.conda/mmrotate_conda_env/lib/python3.8/site-packages/mmcv/__init__.py:20: UserWarning: On January 1, 2023, MMCV will release v2.0.0, in which it will remove components related to the training process and add a data transformation module. In addition, it will rename the package names mmcv to mmcv-lite and mmcv-full to mmcv. See https://github.com/open-mmlab/mmcv/blob/master/docs/en/compatibility.md for more details.\n",
      "  warnings.warn(\n",
      "/gpfs/home/weitzk01/.conda/mmrotate_conda_env/lib/python3.8/site-packages/mmcv/__init__.py:20: UserWarning: On January 1, 2023, MMCV will release v2.0.0, in which it will remove components related to the training process and add a data transformation module. In addition, it will rename the package names mmcv to mmcv-lite and mmcv-full to mmcv. See https://github.com/open-mmlab/mmcv/blob/master/docs/en/compatibility.md for more details.\n",
      "  warnings.warn(\n",
      "/gpfs/home/weitzk01/.conda/mmrotate_conda_env/lib/python3.8/site-packages/mmcv/__init__.py:20: UserWarning: On January 1, 2023, MMCV will release v2.0.0, in which it will remove components related to the training process and add a data transformation module. In addition, it will rename the package names mmcv to mmcv-lite and mmcv-full to mmcv. See https://github.com/open-mmlab/mmcv/blob/master/docs/en/compatibility.md for more details.\n",
      "  warnings.warn(\n",
      "/gpfs/home/weitzk01/.conda/mmrotate_conda_env/lib/python3.8/site-packages/mmcv/__init__.py:20: UserWarning: On January 1, 2023, MMCV will release v2.0.0, in which it will remove components related to the training process and add a data transformation module. In addition, it will rename the package names mmcv to mmcv-lite and mmcv-full to mmcv. See https://github.com/open-mmlab/mmcv/blob/master/docs/en/compatibility.md for more details.\n",
      "  warnings.warn(\n",
      "2024-03-04 15:12:12,602 - mmdet - INFO - Epoch(val) [87][58]\tmAP: 0.0697\n",
      "2024-03-04 15:12:18,243 - mmdet - INFO - Epoch [88][10/22]\tlr: 1.000e-05, eta: 0:15:25, time: 0.563, data_time: 0.299, memory: 4237, loss_rpn_cls: 0.3227, loss_rpn_bbox: 0.4057, loss_cls: 0.3850, acc: 84.2969, loss_bbox: 0.3422, loss: 1.4556, grad_norm: 4.2990\n",
      "2024-03-04 15:12:20,935 - mmdet - INFO - Epoch [88][20/22]\tlr: 1.000e-05, eta: 0:15:20, time: 0.269, data_time: 0.008, memory: 4237, loss_rpn_cls: 0.3268, loss_rpn_bbox: 0.4385, loss_cls: 0.4637, acc: 79.6094, loss_bbox: 0.4836, loss: 1.7125, grad_norm: 5.1018\n",
      "2024-03-04 15:12:27,097 - mmdet - INFO - Epoch [89][10/22]\tlr: 1.000e-05, eta: 0:15:17, time: 0.553, data_time: 0.287, memory: 4237, loss_rpn_cls: 0.3452, loss_rpn_bbox: 0.4661, loss_cls: 0.4520, acc: 80.4199, loss_bbox: 0.4305, loss: 1.6939, grad_norm: 5.0368\n",
      "2024-03-04 15:12:29,649 - mmdet - INFO - Epoch [89][20/22]\tlr: 1.000e-05, eta: 0:15:11, time: 0.255, data_time: 0.009, memory: 4237, loss_rpn_cls: 0.3315, loss_rpn_bbox: 0.4301, loss_cls: 0.4024, acc: 83.3594, loss_bbox: 0.3662, loss: 1.5303, grad_norm: 4.8725\n",
      "2024-03-04 15:12:35,829 - mmdet - INFO - Epoch [90][10/22]\tlr: 1.000e-05, eta: 0:15:08, time: 0.555, data_time: 0.306, memory: 4237, loss_rpn_cls: 0.3195, loss_rpn_bbox: 0.3570, loss_cls: 0.4129, acc: 82.6074, loss_bbox: 0.3664, loss: 1.4558, grad_norm: 4.2382\n",
      "2024-03-04 15:12:38,389 - mmdet - INFO - Epoch [90][20/22]\tlr: 1.000e-05, eta: 0:15:03, time: 0.256, data_time: 0.009, memory: 4237, loss_rpn_cls: 0.3424, loss_rpn_bbox: 0.5236, loss_cls: 0.4249, acc: 82.0020, loss_bbox: 0.4546, loss: 1.7455, grad_norm: 5.2730\n",
      "2024-03-04 15:12:39,000 - mmdet - INFO - Saving checkpoint at 90 epochs\n"
     ]
    },
    {
     "name": "stdout",
     "output_type": "stream",
     "text": [
      "[>>>>>>>>>>>>>>>>>>>>>>>>>>>>>>>>] 58/58, 12.2 task/s, elapsed: 5s, ETA:     0s"
     ]
    },
    {
     "name": "stderr",
     "output_type": "stream",
     "text": [
      "2024-03-04 15:12:56,715 - mmdet - INFO - \n",
      "+-------+------+------+--------+-------+\n",
      "| class | gts  | dets | recall | ap    |\n",
      "+-------+------+------+--------+-------+\n",
      "| grave | 3691 | 9262 | 0.134  | 0.070 |\n",
      "+-------+------+------+--------+-------+\n",
      "| mAP   |      |      |        | 0.070 |\n",
      "+-------+------+------+--------+-------+\n",
      "/gpfs/home/weitzk01/.conda/mmrotate_conda_env/lib/python3.8/site-packages/mmcv/__init__.py:20: UserWarning: On January 1, 2023, MMCV will release v2.0.0, in which it will remove components related to the training process and add a data transformation module. In addition, it will rename the package names mmcv to mmcv-lite and mmcv-full to mmcv. See https://github.com/open-mmlab/mmcv/blob/master/docs/en/compatibility.md for more details.\n",
      "  warnings.warn(\n",
      "/gpfs/home/weitzk01/.conda/mmrotate_conda_env/lib/python3.8/site-packages/mmcv/__init__.py:20: UserWarning: On January 1, 2023, MMCV will release v2.0.0, in which it will remove components related to the training process and add a data transformation module. In addition, it will rename the package names mmcv to mmcv-lite and mmcv-full to mmcv. See https://github.com/open-mmlab/mmcv/blob/master/docs/en/compatibility.md for more details.\n",
      "  warnings.warn(\n",
      "/gpfs/home/weitzk01/.conda/mmrotate_conda_env/lib/python3.8/site-packages/mmcv/__init__.py:20: UserWarning: On January 1, 2023, MMCV will release v2.0.0, in which it will remove components related to the training process and add a data transformation module. In addition, it will rename the package names mmcv to mmcv-lite and mmcv-full to mmcv. See https://github.com/open-mmlab/mmcv/blob/master/docs/en/compatibility.md for more details.\n",
      "  warnings.warn(\n",
      "/gpfs/home/weitzk01/.conda/mmrotate_conda_env/lib/python3.8/site-packages/mmcv/__init__.py:20: UserWarning: On January 1, 2023, MMCV will release v2.0.0, in which it will remove components related to the training process and add a data transformation module. In addition, it will rename the package names mmcv to mmcv-lite and mmcv-full to mmcv. See https://github.com/open-mmlab/mmcv/blob/master/docs/en/compatibility.md for more details.\n",
      "  warnings.warn(\n",
      "2024-03-04 15:12:56,819 - mmdet - INFO - Epoch(val) [90][58]\tmAP: 0.0704\n",
      "2024-03-04 15:13:02,407 - mmdet - INFO - Epoch [91][10/22]\tlr: 1.000e-05, eta: 0:15:00, time: 0.557, data_time: 0.304, memory: 4237, loss_rpn_cls: 0.3304, loss_rpn_bbox: 0.4010, loss_cls: 0.4282, acc: 81.6309, loss_bbox: 0.4255, loss: 1.5850, grad_norm: 5.0457\n",
      "2024-03-04 15:13:05,017 - mmdet - INFO - Epoch [91][20/22]\tlr: 1.000e-05, eta: 0:14:55, time: 0.261, data_time: 0.009, memory: 4237, loss_rpn_cls: 0.3339, loss_rpn_bbox: 0.4326, loss_cls: 0.4164, acc: 82.4902, loss_bbox: 0.4193, loss: 1.6022, grad_norm: 4.6894\n",
      "2024-03-04 15:13:11,189 - mmdet - INFO - Epoch [92][10/22]\tlr: 1.000e-05, eta: 0:14:52, time: 0.554, data_time: 0.296, memory: 4237, loss_rpn_cls: 0.3440, loss_rpn_bbox: 0.3793, loss_cls: 0.4214, acc: 82.2949, loss_bbox: 0.4236, loss: 1.5684, grad_norm: 4.4155\n",
      "2024-03-04 15:13:13,837 - mmdet - INFO - Epoch [92][20/22]\tlr: 1.000e-05, eta: 0:14:47, time: 0.265, data_time: 0.009, memory: 4237, loss_rpn_cls: 0.3339, loss_rpn_bbox: 0.4331, loss_cls: 0.4103, acc: 82.6270, loss_bbox: 0.3624, loss: 1.5397, grad_norm: 4.8678\n",
      "2024-03-04 15:13:20,102 - mmdet - INFO - Epoch [93][10/22]\tlr: 1.000e-05, eta: 0:14:43, time: 0.562, data_time: 0.309, memory: 4237, loss_rpn_cls: 0.3634, loss_rpn_bbox: 0.4688, loss_cls: 0.4106, acc: 82.8320, loss_bbox: 0.4000, loss: 1.6429, grad_norm: 5.2163\n",
      "2024-03-04 15:13:22,784 - mmdet - INFO - Epoch [93][20/22]\tlr: 1.000e-05, eta: 0:14:39, time: 0.268, data_time: 0.009, memory: 4237, loss_rpn_cls: 0.2818, loss_rpn_bbox: 0.3456, loss_cls: 0.4116, acc: 82.8906, loss_bbox: 0.3838, loss: 1.4228, grad_norm: 5.6375\n",
      "2024-03-04 15:13:23,409 - mmdet - INFO - Saving checkpoint at 93 epochs\n"
     ]
    },
    {
     "name": "stdout",
     "output_type": "stream",
     "text": [
      "[>>>>>>>>>>>>>>>>>>>>>>>>>>>>>>>>] 58/58, 12.8 task/s, elapsed: 5s, ETA:     0s"
     ]
    },
    {
     "name": "stderr",
     "output_type": "stream",
     "text": [
      "2024-03-04 15:13:42,870 - mmdet - INFO - \n",
      "+-------+------+------+--------+-------+\n",
      "| class | gts  | dets | recall | ap    |\n",
      "+-------+------+------+--------+-------+\n",
      "| grave | 3691 | 9187 | 0.133  | 0.076 |\n",
      "+-------+------+------+--------+-------+\n",
      "| mAP   |      |      |        | 0.076 |\n",
      "+-------+------+------+--------+-------+\n",
      "2024-03-04 15:13:42,926 - mmdet - INFO - Epoch(val) [93][58]\tmAP: 0.0757\n",
      "2024-03-04 15:13:48,723 - mmdet - INFO - Epoch [94][10/22]\tlr: 1.000e-05, eta: 0:14:36, time: 0.578, data_time: 0.321, memory: 4237, loss_rpn_cls: 0.3422, loss_rpn_bbox: 0.4531, loss_cls: 0.4124, acc: 82.8223, loss_bbox: 0.4020, loss: 1.6096, grad_norm: 4.2724\n",
      "2024-03-04 15:13:51,285 - mmdet - INFO - Epoch [94][20/22]\tlr: 1.000e-05, eta: 0:14:30, time: 0.256, data_time: 0.008, memory: 4237, loss_rpn_cls: 0.3258, loss_rpn_bbox: 0.3488, loss_cls: 0.4177, acc: 82.3535, loss_bbox: 0.3847, loss: 1.4770, grad_norm: 5.2905\n",
      "2024-03-04 15:13:57,378 - mmdet - INFO - Epoch [95][10/22]\tlr: 1.000e-05, eta: 0:14:27, time: 0.548, data_time: 0.288, memory: 4237, loss_rpn_cls: 0.3413, loss_rpn_bbox: 0.3992, loss_cls: 0.4375, acc: 81.0352, loss_bbox: 0.4297, loss: 1.6077, grad_norm: 5.1939\n",
      "2024-03-04 15:13:59,933 - mmdet - INFO - Epoch [95][20/22]\tlr: 1.000e-05, eta: 0:14:22, time: 0.256, data_time: 0.008, memory: 4237, loss_rpn_cls: 0.3308, loss_rpn_bbox: 0.4169, loss_cls: 0.4013, acc: 83.3594, loss_bbox: 0.3433, loss: 1.4923, grad_norm: 4.7491\n",
      "2024-03-04 15:14:06,353 - mmdet - INFO - Epoch [96][10/22]\tlr: 1.000e-05, eta: 0:14:19, time: 0.581, data_time: 0.312, memory: 4237, loss_rpn_cls: 0.3626, loss_rpn_bbox: 0.5383, loss_cls: 0.4553, acc: 80.4688, loss_bbox: 0.4494, loss: 1.8056, grad_norm: 4.7714\n",
      "2024-03-04 15:14:08,906 - mmdet - INFO - Epoch [96][20/22]\tlr: 1.000e-05, eta: 0:14:14, time: 0.255, data_time: 0.008, memory: 4237, loss_rpn_cls: 0.3198, loss_rpn_bbox: 0.3303, loss_cls: 0.3848, acc: 83.9941, loss_bbox: 0.3720, loss: 1.4069, grad_norm: 4.9519\n",
      "2024-03-04 15:14:09,547 - mmdet - INFO - Saving checkpoint at 96 epochs\n"
     ]
    },
    {
     "name": "stdout",
     "output_type": "stream",
     "text": [
      "[>>>>>>>>>>>>>>>>>>>>>>>>>>>>>>>>] 58/58, 12.7 task/s, elapsed: 5s, ETA:     0s"
     ]
    },
    {
     "name": "stderr",
     "output_type": "stream",
     "text": [
      "2024-03-04 15:14:28,425 - mmdet - INFO - \n",
      "+-------+------+------+--------+-------+\n",
      "| class | gts  | dets | recall | ap    |\n",
      "+-------+------+------+--------+-------+\n",
      "| grave | 3691 | 9186 | 0.133  | 0.070 |\n",
      "+-------+------+------+--------+-------+\n",
      "| mAP   |      |      |        | 0.070 |\n",
      "+-------+------+------+--------+-------+\n",
      "/gpfs/home/weitzk01/.conda/mmrotate_conda_env/lib/python3.8/site-packages/mmcv/__init__.py:20: UserWarning: On January 1, 2023, MMCV will release v2.0.0, in which it will remove components related to the training process and add a data transformation module. In addition, it will rename the package names mmcv to mmcv-lite and mmcv-full to mmcv. See https://github.com/open-mmlab/mmcv/blob/master/docs/en/compatibility.md for more details.\n",
      "  warnings.warn(\n",
      "/gpfs/home/weitzk01/.conda/mmrotate_conda_env/lib/python3.8/site-packages/mmcv/__init__.py:20: UserWarning: On January 1, 2023, MMCV will release v2.0.0, in which it will remove components related to the training process and add a data transformation module. In addition, it will rename the package names mmcv to mmcv-lite and mmcv-full to mmcv. See https://github.com/open-mmlab/mmcv/blob/master/docs/en/compatibility.md for more details.\n",
      "  warnings.warn(\n",
      "2024-03-04 15:14:28,511 - mmdet - INFO - Epoch(val) [96][58]\tmAP: 0.0698\n",
      "2024-03-04 15:14:34,184 - mmdet - INFO - Epoch [97][10/22]\tlr: 1.000e-05, eta: 0:14:11, time: 0.566, data_time: 0.306, memory: 4237, loss_rpn_cls: 0.3463, loss_rpn_bbox: 0.3808, loss_cls: 0.4101, acc: 82.9980, loss_bbox: 0.3760, loss: 1.5132, grad_norm: 4.7240\n",
      "2024-03-04 15:14:36,788 - mmdet - INFO - Epoch [97][20/22]\tlr: 1.000e-05, eta: 0:14:06, time: 0.260, data_time: 0.008, memory: 4237, loss_rpn_cls: 0.3222, loss_rpn_bbox: 0.4500, loss_cls: 0.4252, acc: 81.8945, loss_bbox: 0.4285, loss: 1.6259, grad_norm: 4.6602\n",
      "2024-03-04 15:14:42,802 - mmdet - INFO - Epoch [98][10/22]\tlr: 1.000e-05, eta: 0:14:02, time: 0.539, data_time: 0.284, memory: 4237, loss_rpn_cls: 0.3331, loss_rpn_bbox: 0.3729, loss_cls: 0.4187, acc: 81.8359, loss_bbox: 0.4052, loss: 1.5299, grad_norm: 4.6994\n",
      "2024-03-04 15:14:45,415 - mmdet - INFO - Epoch [98][20/22]\tlr: 1.000e-05, eta: 0:13:57, time: 0.261, data_time: 0.009, memory: 4237, loss_rpn_cls: 0.3127, loss_rpn_bbox: 0.4538, loss_cls: 0.4064, acc: 83.6719, loss_bbox: 0.3810, loss: 1.5540, grad_norm: 4.5589\n",
      "2024-03-04 15:14:51,390 - mmdet - INFO - Epoch [99][10/22]\tlr: 1.000e-05, eta: 0:13:54, time: 0.535, data_time: 0.281, memory: 4237, loss_rpn_cls: 0.3316, loss_rpn_bbox: 0.4130, loss_cls: 0.4329, acc: 81.3867, loss_bbox: 0.4182, loss: 1.5957, grad_norm: 5.5403\n",
      "2024-03-04 15:14:54,051 - mmdet - INFO - Epoch [99][20/22]\tlr: 1.000e-05, eta: 0:13:49, time: 0.266, data_time: 0.008, memory: 4237, loss_rpn_cls: 0.3320, loss_rpn_bbox: 0.4147, loss_cls: 0.4048, acc: 83.7012, loss_bbox: 0.3765, loss: 1.5280, grad_norm: 4.6629\n",
      "2024-03-04 15:14:54,671 - mmdet - INFO - Saving checkpoint at 99 epochs\n"
     ]
    },
    {
     "name": "stdout",
     "output_type": "stream",
     "text": [
      "[>>>>>>>>>>>>>>>>>>>>>>>>>>>>>>>>] 58/58, 13.4 task/s, elapsed: 4s, ETA:     0s"
     ]
    },
    {
     "name": "stderr",
     "output_type": "stream",
     "text": [
      "2024-03-04 15:15:12,110 - mmdet - INFO - \n",
      "+-------+------+------+--------+-------+\n",
      "| class | gts  | dets | recall | ap    |\n",
      "+-------+------+------+--------+-------+\n",
      "| grave | 3691 | 9184 | 0.133  | 0.068 |\n",
      "+-------+------+------+--------+-------+\n",
      "| mAP   |      |      |        | 0.068 |\n",
      "+-------+------+------+--------+-------+\n",
      "/gpfs/home/weitzk01/.conda/mmrotate_conda_env/lib/python3.8/site-packages/mmcv/__init__.py:20: UserWarning: On January 1, 2023, MMCV will release v2.0.0, in which it will remove components related to the training process and add a data transformation module. In addition, it will rename the package names mmcv to mmcv-lite and mmcv-full to mmcv. See https://github.com/open-mmlab/mmcv/blob/master/docs/en/compatibility.md for more details.\n",
      "  warnings.warn(\n",
      "/gpfs/home/weitzk01/.conda/mmrotate_conda_env/lib/python3.8/site-packages/mmcv/__init__.py:20: UserWarning: On January 1, 2023, MMCV will release v2.0.0, in which it will remove components related to the training process and add a data transformation module. In addition, it will rename the package names mmcv to mmcv-lite and mmcv-full to mmcv. See https://github.com/open-mmlab/mmcv/blob/master/docs/en/compatibility.md for more details.\n",
      "  warnings.warn(\n",
      "/gpfs/home/weitzk01/.conda/mmrotate_conda_env/lib/python3.8/site-packages/mmcv/__init__.py:20: UserWarning: On January 1, 2023, MMCV will release v2.0.0, in which it will remove components related to the training process and add a data transformation module. In addition, it will rename the package names mmcv to mmcv-lite and mmcv-full to mmcv. See https://github.com/open-mmlab/mmcv/blob/master/docs/en/compatibility.md for more details.\n",
      "  warnings.warn(\n",
      "/gpfs/home/weitzk01/.conda/mmrotate_conda_env/lib/python3.8/site-packages/mmcv/__init__.py:20: UserWarning: On January 1, 2023, MMCV will release v2.0.0, in which it will remove components related to the training process and add a data transformation module. In addition, it will rename the package names mmcv to mmcv-lite and mmcv-full to mmcv. See https://github.com/open-mmlab/mmcv/blob/master/docs/en/compatibility.md for more details.\n",
      "  warnings.warn(\n",
      "2024-03-04 15:15:12,239 - mmdet - INFO - Epoch(val) [99][58]\tmAP: 0.0680\n",
      "2024-03-04 15:15:17,940 - mmdet - INFO - Epoch [100][10/22]\tlr: 1.000e-05, eta: 0:13:46, time: 0.569, data_time: 0.299, memory: 4237, loss_rpn_cls: 0.3548, loss_rpn_bbox: 0.4471, loss_cls: 0.4160, acc: 82.3145, loss_bbox: 0.4019, loss: 1.6197, grad_norm: 4.6750\n",
      "2024-03-04 15:15:20,663 - mmdet - INFO - Epoch [100][20/22]\tlr: 1.000e-05, eta: 0:13:41, time: 0.272, data_time: 0.009, memory: 4237, loss_rpn_cls: 0.3071, loss_rpn_bbox: 0.3664, loss_cls: 0.4087, acc: 82.8711, loss_bbox: 0.4085, loss: 1.4908, grad_norm: 4.1632\n",
      "2024-03-04 15:15:27,373 - mmdet - INFO - Epoch [101][10/22]\tlr: 1.000e-05, eta: 0:13:38, time: 0.608, data_time: 0.329, memory: 4237, loss_rpn_cls: 0.3135, loss_rpn_bbox: 0.3603, loss_cls: 0.4052, acc: 82.6270, loss_bbox: 0.4002, loss: 1.4793, grad_norm: 5.2061\n",
      "2024-03-04 15:15:29,976 - mmdet - INFO - Epoch [101][20/22]\tlr: 1.000e-05, eta: 0:13:33, time: 0.260, data_time: 0.009, memory: 4237, loss_rpn_cls: 0.3447, loss_rpn_bbox: 0.3917, loss_cls: 0.4270, acc: 82.1387, loss_bbox: 0.3997, loss: 1.5632, grad_norm: 4.1849\n",
      "2024-03-04 15:15:36,413 - mmdet - INFO - Epoch [102][10/22]\tlr: 1.000e-05, eta: 0:13:30, time: 0.580, data_time: 0.317, memory: 4237, loss_rpn_cls: 0.2968, loss_rpn_bbox: 0.3327, loss_cls: 0.3774, acc: 85.0879, loss_bbox: 0.3563, loss: 1.3631, grad_norm: 4.2691\n",
      "2024-03-04 15:15:39,042 - mmdet - INFO - Epoch [102][20/22]\tlr: 1.000e-05, eta: 0:13:25, time: 0.263, data_time: 0.009, memory: 4237, loss_rpn_cls: 0.3787, loss_rpn_bbox: 0.4731, loss_cls: 0.4556, acc: 80.1465, loss_bbox: 0.4322, loss: 1.7396, grad_norm: 4.4677\n",
      "2024-03-04 15:15:39,667 - mmdet - INFO - Saving checkpoint at 102 epochs\n"
     ]
    },
    {
     "name": "stdout",
     "output_type": "stream",
     "text": [
      "[>>>>>>>>>>>>>>>>>>>>>>>>>>>>>>>>] 58/58, 13.1 task/s, elapsed: 4s, ETA:     0s"
     ]
    },
    {
     "name": "stderr",
     "output_type": "stream",
     "text": [
      "2024-03-04 15:15:56,671 - mmdet - INFO - \n",
      "+-------+------+------+--------+-------+\n",
      "| class | gts  | dets | recall | ap    |\n",
      "+-------+------+------+--------+-------+\n",
      "| grave | 3691 | 9165 | 0.130  | 0.070 |\n",
      "+-------+------+------+--------+-------+\n",
      "| mAP   |      |      |        | 0.070 |\n",
      "+-------+------+------+--------+-------+\n",
      "/gpfs/home/weitzk01/.conda/mmrotate_conda_env/lib/python3.8/site-packages/mmcv/__init__.py:20: UserWarning: On January 1, 2023, MMCV will release v2.0.0, in which it will remove components related to the training process and add a data transformation module. In addition, it will rename the package names mmcv to mmcv-lite and mmcv-full to mmcv. See https://github.com/open-mmlab/mmcv/blob/master/docs/en/compatibility.md for more details.\n",
      "  warnings.warn(\n",
      "/gpfs/home/weitzk01/.conda/mmrotate_conda_env/lib/python3.8/site-packages/mmcv/__init__.py:20: UserWarning: On January 1, 2023, MMCV will release v2.0.0, in which it will remove components related to the training process and add a data transformation module. In addition, it will rename the package names mmcv to mmcv-lite and mmcv-full to mmcv. See https://github.com/open-mmlab/mmcv/blob/master/docs/en/compatibility.md for more details.\n",
      "  warnings.warn(\n",
      "/gpfs/home/weitzk01/.conda/mmrotate_conda_env/lib/python3.8/site-packages/mmcv/__init__.py:20: UserWarning: On January 1, 2023, MMCV will release v2.0.0, in which it will remove components related to the training process and add a data transformation module. In addition, it will rename the package names mmcv to mmcv-lite and mmcv-full to mmcv. See https://github.com/open-mmlab/mmcv/blob/master/docs/en/compatibility.md for more details.\n",
      "  warnings.warn(\n",
      "/gpfs/home/weitzk01/.conda/mmrotate_conda_env/lib/python3.8/site-packages/mmcv/__init__.py:20: UserWarning: On January 1, 2023, MMCV will release v2.0.0, in which it will remove components related to the training process and add a data transformation module. In addition, it will rename the package names mmcv to mmcv-lite and mmcv-full to mmcv. See https://github.com/open-mmlab/mmcv/blob/master/docs/en/compatibility.md for more details.\n",
      "  warnings.warn(\n",
      "2024-03-04 15:15:56,761 - mmdet - INFO - Epoch(val) [102][58]\tmAP: 0.0696\n",
      "2024-03-04 15:16:02,508 - mmdet - INFO - Epoch [103][10/22]\tlr: 1.000e-05, eta: 0:13:22, time: 0.573, data_time: 0.297, memory: 4237, loss_rpn_cls: 0.3078, loss_rpn_bbox: 0.3782, loss_cls: 0.4247, acc: 81.8262, loss_bbox: 0.4101, loss: 1.5209, grad_norm: 4.7311\n",
      "2024-03-04 15:16:05,052 - mmdet - INFO - Epoch [103][20/22]\tlr: 1.000e-05, eta: 0:13:17, time: 0.254, data_time: 0.009, memory: 4237, loss_rpn_cls: 0.3376, loss_rpn_bbox: 0.3886, loss_cls: 0.4011, acc: 83.7207, loss_bbox: 0.3899, loss: 1.5171, grad_norm: 4.8229\n",
      "2024-03-04 15:16:11,246 - mmdet - INFO - Epoch [104][10/22]\tlr: 1.000e-05, eta: 0:13:14, time: 0.557, data_time: 0.306, memory: 4237, loss_rpn_cls: 0.3362, loss_rpn_bbox: 0.3931, loss_cls: 0.3990, acc: 83.4668, loss_bbox: 0.3554, loss: 1.4835, grad_norm: 4.6014\n",
      "2024-03-04 15:16:13,884 - mmdet - INFO - Epoch [104][20/22]\tlr: 1.000e-05, eta: 0:13:09, time: 0.264, data_time: 0.009, memory: 4237, loss_rpn_cls: 0.3020, loss_rpn_bbox: 0.4279, loss_cls: 0.4179, acc: 82.5098, loss_bbox: 0.4073, loss: 1.5550, grad_norm: 4.6034\n",
      "2024-03-04 15:16:20,128 - mmdet - INFO - Epoch [105][10/22]\tlr: 1.000e-05, eta: 0:13:05, time: 0.561, data_time: 0.309, memory: 4237, loss_rpn_cls: 0.3165, loss_rpn_bbox: 0.3961, loss_cls: 0.3956, acc: 83.4473, loss_bbox: 0.3675, loss: 1.4757, grad_norm: 4.8355\n",
      "2024-03-04 15:16:22,748 - mmdet - INFO - Epoch [105][20/22]\tlr: 1.000e-05, eta: 0:13:01, time: 0.262, data_time: 0.008, memory: 4237, loss_rpn_cls: 0.3259, loss_rpn_bbox: 0.3961, loss_cls: 0.4360, acc: 81.4746, loss_bbox: 0.4230, loss: 1.5811, grad_norm: 4.5273\n",
      "2024-03-04 15:16:23,357 - mmdet - INFO - Saving checkpoint at 105 epochs\n"
     ]
    },
    {
     "name": "stdout",
     "output_type": "stream",
     "text": [
      "[>>>>>>>>>>>>>>>>>>>>>>>>>>>>>>>>] 58/58, 13.2 task/s, elapsed: 4s, ETA:     0s"
     ]
    },
    {
     "name": "stderr",
     "output_type": "stream",
     "text": [
      "2024-03-04 15:16:41,716 - mmdet - INFO - \n",
      "+-------+------+------+--------+-------+\n",
      "| class | gts  | dets | recall | ap    |\n",
      "+-------+------+------+--------+-------+\n",
      "| grave | 3691 | 9141 | 0.130  | 0.070 |\n",
      "+-------+------+------+--------+-------+\n",
      "| mAP   |      |      |        | 0.070 |\n",
      "+-------+------+------+--------+-------+\n",
      "/gpfs/home/weitzk01/.conda/mmrotate_conda_env/lib/python3.8/site-packages/mmcv/__init__.py:20: UserWarning: On January 1, 2023, MMCV will release v2.0.0, in which it will remove components related to the training process and add a data transformation module. In addition, it will rename the package names mmcv to mmcv-lite and mmcv-full to mmcv. See https://github.com/open-mmlab/mmcv/blob/master/docs/en/compatibility.md for more details.\n",
      "  warnings.warn(\n",
      "/gpfs/home/weitzk01/.conda/mmrotate_conda_env/lib/python3.8/site-packages/mmcv/__init__.py:20: UserWarning: On January 1, 2023, MMCV will release v2.0.0, in which it will remove components related to the training process and add a data transformation module. In addition, it will rename the package names mmcv to mmcv-lite and mmcv-full to mmcv. See https://github.com/open-mmlab/mmcv/blob/master/docs/en/compatibility.md for more details.\n",
      "  warnings.warn(\n",
      "/gpfs/home/weitzk01/.conda/mmrotate_conda_env/lib/python3.8/site-packages/mmcv/__init__.py:20: UserWarning: On January 1, 2023, MMCV will release v2.0.0, in which it will remove components related to the training process and add a data transformation module. In addition, it will rename the package names mmcv to mmcv-lite and mmcv-full to mmcv. See https://github.com/open-mmlab/mmcv/blob/master/docs/en/compatibility.md for more details.\n",
      "  warnings.warn(\n",
      "/gpfs/home/weitzk01/.conda/mmrotate_conda_env/lib/python3.8/site-packages/mmcv/__init__.py:20: UserWarning: On January 1, 2023, MMCV will release v2.0.0, in which it will remove components related to the training process and add a data transformation module. In addition, it will rename the package names mmcv to mmcv-lite and mmcv-full to mmcv. See https://github.com/open-mmlab/mmcv/blob/master/docs/en/compatibility.md for more details.\n",
      "  warnings.warn(\n",
      "2024-03-04 15:16:41,804 - mmdet - INFO - Epoch(val) [105][58]\tmAP: 0.0698\n",
      "2024-03-04 15:16:47,515 - mmdet - INFO - Epoch [106][10/22]\tlr: 1.000e-05, eta: 0:12:57, time: 0.570, data_time: 0.291, memory: 4237, loss_rpn_cls: 0.3315, loss_rpn_bbox: 0.4250, loss_cls: 0.3933, acc: 83.8574, loss_bbox: 0.3588, loss: 1.5085, grad_norm: 4.3131\n",
      "2024-03-04 15:16:50,180 - mmdet - INFO - Epoch [106][20/22]\tlr: 1.000e-05, eta: 0:12:53, time: 0.267, data_time: 0.008, memory: 4237, loss_rpn_cls: 0.3391, loss_rpn_bbox: 0.3938, loss_cls: 0.4354, acc: 81.4746, loss_bbox: 0.4039, loss: 1.5722, grad_norm: 4.5589\n",
      "2024-03-04 15:16:56,427 - mmdet - INFO - Epoch [107][10/22]\tlr: 1.000e-05, eta: 0:12:49, time: 0.561, data_time: 0.305, memory: 4237, loss_rpn_cls: 0.3277, loss_rpn_bbox: 0.4075, loss_cls: 0.4199, acc: 82.2754, loss_bbox: 0.4078, loss: 1.5629, grad_norm: 4.7106\n",
      "2024-03-04 15:16:58,926 - mmdet - INFO - Epoch [107][20/22]\tlr: 1.000e-05, eta: 0:12:44, time: 0.250, data_time: 0.008, memory: 4237, loss_rpn_cls: 0.3254, loss_rpn_bbox: 0.3931, loss_cls: 0.4227, acc: 82.5586, loss_bbox: 0.4240, loss: 1.5651, grad_norm: 5.1184\n",
      "2024-03-04 15:17:05,093 - mmdet - INFO - Epoch [108][10/22]\tlr: 1.000e-05, eta: 0:12:41, time: 0.554, data_time: 0.298, memory: 4237, loss_rpn_cls: 0.3609, loss_rpn_bbox: 0.5054, loss_cls: 0.4347, acc: 81.5430, loss_bbox: 0.4244, loss: 1.7254, grad_norm: 4.9602\n",
      "2024-03-04 15:17:07,680 - mmdet - INFO - Epoch [108][20/22]\tlr: 1.000e-05, eta: 0:12:36, time: 0.259, data_time: 0.009, memory: 4237, loss_rpn_cls: 0.3133, loss_rpn_bbox: 0.3556, loss_cls: 0.4023, acc: 83.1250, loss_bbox: 0.3637, loss: 1.4349, grad_norm: 4.6390\n",
      "2024-03-04 15:17:08,275 - mmdet - INFO - Saving checkpoint at 108 epochs\n"
     ]
    },
    {
     "name": "stdout",
     "output_type": "stream",
     "text": [
      "[>>>>>>>>>>>>>>>>>>>>>>>>>>>>>>>>] 58/58, 13.4 task/s, elapsed: 4s, ETA:     0s"
     ]
    },
    {
     "name": "stderr",
     "output_type": "stream",
     "text": [
      "2024-03-04 15:17:26,324 - mmdet - INFO - \n",
      "+-------+------+------+--------+-------+\n",
      "| class | gts  | dets | recall | ap    |\n",
      "+-------+------+------+--------+-------+\n",
      "| grave | 3691 | 9144 | 0.132  | 0.070 |\n",
      "+-------+------+------+--------+-------+\n",
      "| mAP   |      |      |        | 0.070 |\n",
      "+-------+------+------+--------+-------+\n",
      "/gpfs/home/weitzk01/.conda/mmrotate_conda_env/lib/python3.8/site-packages/mmcv/__init__.py:20: UserWarning: On January 1, 2023, MMCV will release v2.0.0, in which it will remove components related to the training process and add a data transformation module. In addition, it will rename the package names mmcv to mmcv-lite and mmcv-full to mmcv. See https://github.com/open-mmlab/mmcv/blob/master/docs/en/compatibility.md for more details.\n",
      "  warnings.warn(\n",
      "/gpfs/home/weitzk01/.conda/mmrotate_conda_env/lib/python3.8/site-packages/mmcv/__init__.py:20: UserWarning: On January 1, 2023, MMCV will release v2.0.0, in which it will remove components related to the training process and add a data transformation module. In addition, it will rename the package names mmcv to mmcv-lite and mmcv-full to mmcv. See https://github.com/open-mmlab/mmcv/blob/master/docs/en/compatibility.md for more details.\n",
      "  warnings.warn(\n",
      "/gpfs/home/weitzk01/.conda/mmrotate_conda_env/lib/python3.8/site-packages/mmcv/__init__.py:20: UserWarning: On January 1, 2023, MMCV will release v2.0.0, in which it will remove components related to the training process and add a data transformation module. In addition, it will rename the package names mmcv to mmcv-lite and mmcv-full to mmcv. See https://github.com/open-mmlab/mmcv/blob/master/docs/en/compatibility.md for more details.\n",
      "  warnings.warn(\n",
      "/gpfs/home/weitzk01/.conda/mmrotate_conda_env/lib/python3.8/site-packages/mmcv/__init__.py:20: UserWarning: On January 1, 2023, MMCV will release v2.0.0, in which it will remove components related to the training process and add a data transformation module. In addition, it will rename the package names mmcv to mmcv-lite and mmcv-full to mmcv. See https://github.com/open-mmlab/mmcv/blob/master/docs/en/compatibility.md for more details.\n",
      "  warnings.warn(\n",
      "2024-03-04 15:17:26,421 - mmdet - INFO - Epoch(val) [108][58]\tmAP: 0.0701\n",
      "2024-03-04 15:17:32,106 - mmdet - INFO - Epoch [109][10/22]\tlr: 1.000e-05, eta: 0:12:33, time: 0.567, data_time: 0.306, memory: 4237, loss_rpn_cls: 0.3099, loss_rpn_bbox: 0.4107, loss_cls: 0.4205, acc: 81.7676, loss_bbox: 0.3904, loss: 1.5315, grad_norm: 4.8182\n",
      "2024-03-04 15:17:34,642 - mmdet - INFO - Epoch [109][20/22]\tlr: 1.000e-05, eta: 0:12:28, time: 0.254, data_time: 0.008, memory: 4237, loss_rpn_cls: 0.3341, loss_rpn_bbox: 0.4164, loss_cls: 0.4085, acc: 83.0664, loss_bbox: 0.4016, loss: 1.5605, grad_norm: 4.8870\n",
      "2024-03-04 15:17:41,211 - mmdet - INFO - Epoch [110][10/22]\tlr: 1.000e-05, eta: 0:12:25, time: 0.594, data_time: 0.335, memory: 4237, loss_rpn_cls: 0.3566, loss_rpn_bbox: 0.4007, loss_cls: 0.4018, acc: 83.4863, loss_bbox: 0.3766, loss: 1.5358, grad_norm: 4.5467\n",
      "2024-03-04 15:17:43,816 - mmdet - INFO - Epoch [110][20/22]\tlr: 1.000e-05, eta: 0:12:20, time: 0.261, data_time: 0.008, memory: 4237, loss_rpn_cls: 0.3127, loss_rpn_bbox: 0.3874, loss_cls: 0.4333, acc: 81.5820, loss_bbox: 0.4457, loss: 1.5791, grad_norm: 4.6795\n",
      "2024-03-04 15:17:49,887 - mmdet - INFO - Epoch [111][10/22]\tlr: 1.000e-05, eta: 0:12:16, time: 0.543, data_time: 0.281, memory: 4237, loss_rpn_cls: 0.3263, loss_rpn_bbox: 0.4013, loss_cls: 0.4292, acc: 81.6016, loss_bbox: 0.4199, loss: 1.5767, grad_norm: 4.0955\n",
      "2024-03-04 15:17:52,504 - mmdet - INFO - Epoch [111][20/22]\tlr: 1.000e-05, eta: 0:12:12, time: 0.262, data_time: 0.008, memory: 4237, loss_rpn_cls: 0.2918, loss_rpn_bbox: 0.4015, loss_cls: 0.4095, acc: 82.5000, loss_bbox: 0.4083, loss: 1.5110, grad_norm: 4.7877\n",
      "2024-03-04 15:17:53,112 - mmdet - INFO - Saving checkpoint at 111 epochs\n"
     ]
    },
    {
     "name": "stdout",
     "output_type": "stream",
     "text": [
      "[>>>>>>>>>>>>>>>>>>>>>>>>>>>>>>>>] 58/58, 12.8 task/s, elapsed: 5s, ETA:     0s"
     ]
    },
    {
     "name": "stderr",
     "output_type": "stream",
     "text": [
      "2024-03-04 15:18:11,431 - mmdet - INFO - \n",
      "+-------+------+------+--------+-------+\n",
      "| class | gts  | dets | recall | ap    |\n",
      "+-------+------+------+--------+-------+\n",
      "| grave | 3691 | 9110 | 0.133  | 0.070 |\n",
      "+-------+------+------+--------+-------+\n",
      "| mAP   |      |      |        | 0.070 |\n",
      "+-------+------+------+--------+-------+\n",
      "/gpfs/home/weitzk01/.conda/mmrotate_conda_env/lib/python3.8/site-packages/mmcv/__init__.py:20: UserWarning: On January 1, 2023, MMCV will release v2.0.0, in which it will remove components related to the training process and add a data transformation module. In addition, it will rename the package names mmcv to mmcv-lite and mmcv-full to mmcv. See https://github.com/open-mmlab/mmcv/blob/master/docs/en/compatibility.md for more details.\n",
      "  warnings.warn(\n",
      "2024-03-04 15:18:11,495 - mmdet - INFO - Epoch(val) [111][58]\tmAP: 0.0703\n",
      "2024-03-04 15:18:16,999 - mmdet - INFO - Epoch [112][10/22]\tlr: 1.000e-05, eta: 0:12:08, time: 0.549, data_time: 0.293, memory: 4237, loss_rpn_cls: 0.3266, loss_rpn_bbox: 0.4085, loss_cls: 0.4208, acc: 82.6270, loss_bbox: 0.4081, loss: 1.5639, grad_norm: 4.6640\n",
      "2024-03-04 15:18:19,613 - mmdet - INFO - Epoch [112][20/22]\tlr: 1.000e-05, eta: 0:12:03, time: 0.261, data_time: 0.009, memory: 4237, loss_rpn_cls: 0.3346, loss_rpn_bbox: 0.4489, loss_cls: 0.4261, acc: 81.9336, loss_bbox: 0.3959, loss: 1.6054, grad_norm: 5.1251\n",
      "2024-03-04 15:18:25,866 - mmdet - INFO - Epoch [113][10/22]\tlr: 1.000e-05, eta: 0:12:00, time: 0.565, data_time: 0.304, memory: 4237, loss_rpn_cls: 0.3598, loss_rpn_bbox: 0.5032, loss_cls: 0.4033, acc: 82.9688, loss_bbox: 0.3873, loss: 1.6536, grad_norm: 5.5206\n",
      "2024-03-04 15:18:28,430 - mmdet - INFO - Epoch [113][20/22]\tlr: 1.000e-05, eta: 0:11:55, time: 0.256, data_time: 0.008, memory: 4237, loss_rpn_cls: 0.3123, loss_rpn_bbox: 0.3553, loss_cls: 0.4239, acc: 82.3828, loss_bbox: 0.4135, loss: 1.5049, grad_norm: 4.9767\n",
      "2024-03-04 15:18:34,537 - mmdet - INFO - Epoch [114][10/22]\tlr: 1.000e-05, eta: 0:11:51, time: 0.547, data_time: 0.286, memory: 4237, loss_rpn_cls: 0.3267, loss_rpn_bbox: 0.4436, loss_cls: 0.4389, acc: 81.3281, loss_bbox: 0.4458, loss: 1.6550, grad_norm: 4.6383\n",
      "2024-03-04 15:18:37,125 - mmdet - INFO - Epoch [114][20/22]\tlr: 1.000e-05, eta: 0:11:47, time: 0.259, data_time: 0.008, memory: 4237, loss_rpn_cls: 0.3029, loss_rpn_bbox: 0.3797, loss_cls: 0.3775, acc: 84.5898, loss_bbox: 0.3405, loss: 1.4005, grad_norm: 5.1668\n",
      "2024-03-04 15:18:37,754 - mmdet - INFO - Saving checkpoint at 114 epochs\n"
     ]
    },
    {
     "name": "stdout",
     "output_type": "stream",
     "text": [
      "[>>>>>>>>>>>>>>>>>>>>>>>>>>>>>>>>] 58/58, 11.9 task/s, elapsed: 5s, ETA:     0s"
     ]
    },
    {
     "name": "stderr",
     "output_type": "stream",
     "text": [
      "2024-03-04 15:18:56,813 - mmdet - INFO - \n",
      "+-------+------+------+--------+-------+\n",
      "| class | gts  | dets | recall | ap    |\n",
      "+-------+------+------+--------+-------+\n",
      "| grave | 3691 | 9116 | 0.132  | 0.076 |\n",
      "+-------+------+------+--------+-------+\n",
      "| mAP   |      |      |        | 0.076 |\n",
      "+-------+------+------+--------+-------+\n",
      "/gpfs/home/weitzk01/.conda/mmrotate_conda_env/lib/python3.8/site-packages/mmcv/__init__.py:20: UserWarning: On January 1, 2023, MMCV will release v2.0.0, in which it will remove components related to the training process and add a data transformation module. In addition, it will rename the package names mmcv to mmcv-lite and mmcv-full to mmcv. See https://github.com/open-mmlab/mmcv/blob/master/docs/en/compatibility.md for more details.\n",
      "  warnings.warn(\n",
      "/gpfs/home/weitzk01/.conda/mmrotate_conda_env/lib/python3.8/site-packages/mmcv/__init__.py:20: UserWarning: On January 1, 2023, MMCV will release v2.0.0, in which it will remove components related to the training process and add a data transformation module. In addition, it will rename the package names mmcv to mmcv-lite and mmcv-full to mmcv. See https://github.com/open-mmlab/mmcv/blob/master/docs/en/compatibility.md for more details.\n",
      "  warnings.warn(\n",
      "/gpfs/home/weitzk01/.conda/mmrotate_conda_env/lib/python3.8/site-packages/mmcv/__init__.py:20: UserWarning: On January 1, 2023, MMCV will release v2.0.0, in which it will remove components related to the training process and add a data transformation module. In addition, it will rename the package names mmcv to mmcv-lite and mmcv-full to mmcv. See https://github.com/open-mmlab/mmcv/blob/master/docs/en/compatibility.md for more details.\n",
      "  warnings.warn(\n",
      "/gpfs/home/weitzk01/.conda/mmrotate_conda_env/lib/python3.8/site-packages/mmcv/__init__.py:20: UserWarning: On January 1, 2023, MMCV will release v2.0.0, in which it will remove components related to the training process and add a data transformation module. In addition, it will rename the package names mmcv to mmcv-lite and mmcv-full to mmcv. See https://github.com/open-mmlab/mmcv/blob/master/docs/en/compatibility.md for more details.\n",
      "  warnings.warn(\n",
      "2024-03-04 15:18:56,916 - mmdet - INFO - Epoch(val) [114][58]\tmAP: 0.0758\n",
      "2024-03-04 15:19:02,525 - mmdet - INFO - Epoch [115][10/22]\tlr: 1.000e-05, eta: 0:11:43, time: 0.560, data_time: 0.300, memory: 4237, loss_rpn_cls: 0.3303, loss_rpn_bbox: 0.4065, loss_cls: 0.4495, acc: 80.1758, loss_bbox: 0.4362, loss: 1.6225, grad_norm: 5.3773\n",
      "2024-03-04 15:19:05,125 - mmdet - INFO - Epoch [115][20/22]\tlr: 1.000e-05, eta: 0:11:38, time: 0.260, data_time: 0.009, memory: 4237, loss_rpn_cls: 0.3376, loss_rpn_bbox: 0.3686, loss_cls: 0.4117, acc: 83.1836, loss_bbox: 0.3766, loss: 1.4946, grad_norm: 4.2925\n",
      "2024-03-04 15:19:11,531 - mmdet - INFO - Epoch [116][10/22]\tlr: 1.000e-05, eta: 0:11:35, time: 0.578, data_time: 0.319, memory: 4237, loss_rpn_cls: 0.3551, loss_rpn_bbox: 0.4398, loss_cls: 0.4406, acc: 81.2109, loss_bbox: 0.4202, loss: 1.6556, grad_norm: 5.2728\n",
      "2024-03-04 15:19:14,043 - mmdet - INFO - Epoch [116][20/22]\tlr: 1.000e-05, eta: 0:11:30, time: 0.251, data_time: 0.009, memory: 4237, loss_rpn_cls: 0.3222, loss_rpn_bbox: 0.3923, loss_cls: 0.3972, acc: 83.6914, loss_bbox: 0.3836, loss: 1.4952, grad_norm: 4.6926\n",
      "2024-03-04 15:19:20,471 - mmdet - INFO - Epoch [117][10/22]\tlr: 1.000e-05, eta: 0:11:27, time: 0.579, data_time: 0.307, memory: 4237, loss_rpn_cls: 0.3172, loss_rpn_bbox: 0.4046, loss_cls: 0.4057, acc: 82.8223, loss_bbox: 0.3828, loss: 1.5104, grad_norm: 4.6986\n",
      "2024-03-04 15:19:23,068 - mmdet - INFO - Epoch [117][20/22]\tlr: 1.000e-05, eta: 0:11:22, time: 0.260, data_time: 0.009, memory: 4237, loss_rpn_cls: 0.3412, loss_rpn_bbox: 0.4500, loss_cls: 0.4078, acc: 83.0664, loss_bbox: 0.3866, loss: 1.5855, grad_norm: 5.7828\n",
      "2024-03-04 15:19:23,715 - mmdet - INFO - Saving checkpoint at 117 epochs\n"
     ]
    },
    {
     "name": "stdout",
     "output_type": "stream",
     "text": [
      "[>>>>>>>>>>>>>>>>>>>>>>>>>>>>>>>>] 58/58, 13.3 task/s, elapsed: 4s, ETA:     0s"
     ]
    },
    {
     "name": "stderr",
     "output_type": "stream",
     "text": [
      "2024-03-04 15:19:42,514 - mmdet - INFO - \n",
      "+-------+------+------+--------+-------+\n",
      "| class | gts  | dets | recall | ap    |\n",
      "+-------+------+------+--------+-------+\n",
      "| grave | 3691 | 9094 | 0.132  | 0.076 |\n",
      "+-------+------+------+--------+-------+\n",
      "| mAP   |      |      |        | 0.076 |\n",
      "+-------+------+------+--------+-------+\n",
      "/gpfs/home/weitzk01/.conda/mmrotate_conda_env/lib/python3.8/site-packages/mmcv/__init__.py:20: UserWarning: On January 1, 2023, MMCV will release v2.0.0, in which it will remove components related to the training process and add a data transformation module. In addition, it will rename the package names mmcv to mmcv-lite and mmcv-full to mmcv. See https://github.com/open-mmlab/mmcv/blob/master/docs/en/compatibility.md for more details.\n",
      "  warnings.warn(\n",
      "/gpfs/home/weitzk01/.conda/mmrotate_conda_env/lib/python3.8/site-packages/mmcv/__init__.py:20: UserWarning: On January 1, 2023, MMCV will release v2.0.0, in which it will remove components related to the training process and add a data transformation module. In addition, it will rename the package names mmcv to mmcv-lite and mmcv-full to mmcv. See https://github.com/open-mmlab/mmcv/blob/master/docs/en/compatibility.md for more details.\n",
      "  warnings.warn(\n",
      "/gpfs/home/weitzk01/.conda/mmrotate_conda_env/lib/python3.8/site-packages/mmcv/__init__.py:20: UserWarning: On January 1, 2023, MMCV will release v2.0.0, in which it will remove components related to the training process and add a data transformation module. In addition, it will rename the package names mmcv to mmcv-lite and mmcv-full to mmcv. See https://github.com/open-mmlab/mmcv/blob/master/docs/en/compatibility.md for more details.\n",
      "  warnings.warn(\n",
      "/gpfs/home/weitzk01/.conda/mmrotate_conda_env/lib/python3.8/site-packages/mmcv/__init__.py:20: UserWarning: On January 1, 2023, MMCV will release v2.0.0, in which it will remove components related to the training process and add a data transformation module. In addition, it will rename the package names mmcv to mmcv-lite and mmcv-full to mmcv. See https://github.com/open-mmlab/mmcv/blob/master/docs/en/compatibility.md for more details.\n",
      "  warnings.warn(\n",
      "2024-03-04 15:19:42,608 - mmdet - INFO - Epoch(val) [117][58]\tmAP: 0.0758\n",
      "2024-03-04 15:19:48,410 - mmdet - INFO - Epoch [118][10/22]\tlr: 1.000e-05, eta: 0:11:19, time: 0.578, data_time: 0.304, memory: 4237, loss_rpn_cls: 0.3130, loss_rpn_bbox: 0.3718, loss_cls: 0.3925, acc: 83.7988, loss_bbox: 0.3697, loss: 1.4470, grad_norm: 5.3923\n",
      "2024-03-04 15:19:51,119 - mmdet - INFO - Epoch [118][20/22]\tlr: 1.000e-05, eta: 0:11:14, time: 0.271, data_time: 0.008, memory: 4237, loss_rpn_cls: 0.3459, loss_rpn_bbox: 0.4309, loss_cls: 0.4150, acc: 82.5879, loss_bbox: 0.4169, loss: 1.6088, grad_norm: 4.2658\n",
      "2024-03-04 15:19:57,165 - mmdet - INFO - Epoch [119][10/22]\tlr: 1.000e-05, eta: 0:11:10, time: 0.543, data_time: 0.288, memory: 4237, loss_rpn_cls: 0.3537, loss_rpn_bbox: 0.4266, loss_cls: 0.4192, acc: 82.4512, loss_bbox: 0.4169, loss: 1.6165, grad_norm: 4.6903\n",
      "2024-03-04 15:19:59,771 - mmdet - INFO - Epoch [119][20/22]\tlr: 1.000e-05, eta: 0:11:06, time: 0.261, data_time: 0.009, memory: 4237, loss_rpn_cls: 0.3506, loss_rpn_bbox: 0.4071, loss_cls: 0.4325, acc: 81.4746, loss_bbox: 0.4055, loss: 1.5957, grad_norm: 4.3739\n",
      "2024-03-04 15:20:05,985 - mmdet - INFO - Epoch [120][10/22]\tlr: 1.000e-05, eta: 0:11:02, time: 0.558, data_time: 0.300, memory: 4237, loss_rpn_cls: 0.3095, loss_rpn_bbox: 0.3810, loss_cls: 0.3820, acc: 84.4727, loss_bbox: 0.3596, loss: 1.4322, grad_norm: 4.4739\n",
      "2024-03-04 15:20:08,578 - mmdet - INFO - Epoch [120][20/22]\tlr: 1.000e-05, eta: 0:10:58, time: 0.259, data_time: 0.009, memory: 4237, loss_rpn_cls: 0.3358, loss_rpn_bbox: 0.4826, loss_cls: 0.4272, acc: 81.8164, loss_bbox: 0.3976, loss: 1.6433, grad_norm: 4.9826\n",
      "2024-03-04 15:20:09,209 - mmdet - INFO - Saving checkpoint at 120 epochs\n"
     ]
    },
    {
     "name": "stdout",
     "output_type": "stream",
     "text": [
      "[>>>>>>>>>>>>>>>>>>>>>>>>>>>>>>>>] 58/58, 13.5 task/s, elapsed: 4s, ETA:     0s"
     ]
    },
    {
     "name": "stderr",
     "output_type": "stream",
     "text": [
      "2024-03-04 15:20:27,510 - mmdet - INFO - \n",
      "+-------+------+------+--------+-------+\n",
      "| class | gts  | dets | recall | ap    |\n",
      "+-------+------+------+--------+-------+\n",
      "| grave | 3691 | 9097 | 0.133  | 0.076 |\n",
      "+-------+------+------+--------+-------+\n",
      "| mAP   |      |      |        | 0.076 |\n",
      "+-------+------+------+--------+-------+\n",
      "/gpfs/home/weitzk01/.conda/mmrotate_conda_env/lib/python3.8/site-packages/mmcv/__init__.py:20: UserWarning: On January 1, 2023, MMCV will release v2.0.0, in which it will remove components related to the training process and add a data transformation module. In addition, it will rename the package names mmcv to mmcv-lite and mmcv-full to mmcv. See https://github.com/open-mmlab/mmcv/blob/master/docs/en/compatibility.md for more details.\n",
      "  warnings.warn(\n",
      "/gpfs/home/weitzk01/.conda/mmrotate_conda_env/lib/python3.8/site-packages/mmcv/__init__.py:20: UserWarning: On January 1, 2023, MMCV will release v2.0.0, in which it will remove components related to the training process and add a data transformation module. In addition, it will rename the package names mmcv to mmcv-lite and mmcv-full to mmcv. See https://github.com/open-mmlab/mmcv/blob/master/docs/en/compatibility.md for more details.\n",
      "  warnings.warn(\n",
      "2024-03-04 15:20:27,609 - mmdet - INFO - Epoch(val) [120][58]\tmAP: 0.0757\n",
      "2024-03-04 15:20:33,492 - mmdet - INFO - Epoch [121][10/22]\tlr: 1.000e-05, eta: 0:10:54, time: 0.587, data_time: 0.318, memory: 4237, loss_rpn_cls: 0.3031, loss_rpn_bbox: 0.3951, loss_cls: 0.4370, acc: 81.5430, loss_bbox: 0.4253, loss: 1.5605, grad_norm: 4.9914\n",
      "2024-03-04 15:20:36,107 - mmdet - INFO - Epoch [121][20/22]\tlr: 1.000e-05, eta: 0:10:50, time: 0.262, data_time: 0.009, memory: 4237, loss_rpn_cls: 0.3593, loss_rpn_bbox: 0.4721, loss_cls: 0.3980, acc: 83.2324, loss_bbox: 0.3677, loss: 1.5971, grad_norm: 4.9604\n",
      "2024-03-04 15:20:42,370 - mmdet - INFO - Epoch [122][10/22]\tlr: 1.000e-05, eta: 0:10:46, time: 0.565, data_time: 0.303, memory: 4237, loss_rpn_cls: 0.3194, loss_rpn_bbox: 0.4078, loss_cls: 0.4246, acc: 82.0898, loss_bbox: 0.4385, loss: 1.5904, grad_norm: 4.6109\n",
      "2024-03-04 15:20:45,113 - mmdet - INFO - Epoch [122][20/22]\tlr: 1.000e-05, eta: 0:10:41, time: 0.274, data_time: 0.009, memory: 4237, loss_rpn_cls: 0.3352, loss_rpn_bbox: 0.3880, loss_cls: 0.4055, acc: 82.8906, loss_bbox: 0.3634, loss: 1.4921, grad_norm: 5.0351\n",
      "2024-03-04 15:20:51,431 - mmdet - INFO - Epoch [123][10/22]\tlr: 1.000e-05, eta: 0:10:38, time: 0.570, data_time: 0.299, memory: 4237, loss_rpn_cls: 0.3391, loss_rpn_bbox: 0.4201, loss_cls: 0.4237, acc: 82.4316, loss_bbox: 0.3997, loss: 1.5825, grad_norm: 4.2534\n",
      "2024-03-04 15:20:54,144 - mmdet - INFO - Epoch [123][20/22]\tlr: 1.000e-05, eta: 0:10:33, time: 0.271, data_time: 0.009, memory: 4237, loss_rpn_cls: 0.3145, loss_rpn_bbox: 0.3713, loss_cls: 0.4347, acc: 81.1523, loss_bbox: 0.4006, loss: 1.5212, grad_norm: 5.4344\n",
      "2024-03-04 15:20:54,759 - mmdet - INFO - Saving checkpoint at 123 epochs\n"
     ]
    },
    {
     "name": "stdout",
     "output_type": "stream",
     "text": [
      "[>>>>>>>>>>>>>>>>>>>>>>>>>>>>>>>>] 58/58, 13.0 task/s, elapsed: 4s, ETA:     0s"
     ]
    },
    {
     "name": "stderr",
     "output_type": "stream",
     "text": [
      "2024-03-04 15:21:13,944 - mmdet - INFO - \n",
      "+-------+------+------+--------+-------+\n",
      "| class | gts  | dets | recall | ap    |\n",
      "+-------+------+------+--------+-------+\n",
      "| grave | 3691 | 9081 | 0.133  | 0.078 |\n",
      "+-------+------+------+--------+-------+\n",
      "| mAP   |      |      |        | 0.078 |\n",
      "+-------+------+------+--------+-------+\n",
      "2024-03-04 15:21:13,998 - mmdet - INFO - Epoch(val) [123][58]\tmAP: 0.0784\n",
      "2024-03-04 15:21:19,748 - mmdet - INFO - Epoch [124][10/22]\tlr: 1.000e-05, eta: 0:10:30, time: 0.574, data_time: 0.304, memory: 4237, loss_rpn_cls: 0.3385, loss_rpn_bbox: 0.4373, loss_cls: 0.4115, acc: 82.8613, loss_bbox: 0.3786, loss: 1.5658, grad_norm: 5.1734\n",
      "2024-03-04 15:21:22,345 - mmdet - INFO - Epoch [124][20/22]\tlr: 1.000e-05, eta: 0:10:25, time: 0.260, data_time: 0.009, memory: 4237, loss_rpn_cls: 0.3322, loss_rpn_bbox: 0.4050, loss_cls: 0.3994, acc: 83.7402, loss_bbox: 0.3874, loss: 1.5240, grad_norm: 4.8698\n",
      "2024-03-04 15:21:28,508 - mmdet - INFO - Epoch [125][10/22]\tlr: 1.000e-05, eta: 0:10:21, time: 0.554, data_time: 0.292, memory: 4237, loss_rpn_cls: 0.3173, loss_rpn_bbox: 0.3433, loss_cls: 0.3909, acc: 84.1309, loss_bbox: 0.3668, loss: 1.4182, grad_norm: 4.3211\n",
      "2024-03-04 15:21:31,237 - mmdet - INFO - Epoch [125][20/22]\tlr: 1.000e-05, eta: 0:10:17, time: 0.273, data_time: 0.008, memory: 4237, loss_rpn_cls: 0.3292, loss_rpn_bbox: 0.4752, loss_cls: 0.4261, acc: 81.6211, loss_bbox: 0.4157, loss: 1.6463, grad_norm: 4.8464\n",
      "2024-03-04 15:21:37,360 - mmdet - INFO - Epoch [126][10/22]\tlr: 1.000e-05, eta: 0:10:13, time: 0.549, data_time: 0.292, memory: 4237, loss_rpn_cls: 0.3165, loss_rpn_bbox: 0.3944, loss_cls: 0.4387, acc: 81.1621, loss_bbox: 0.4363, loss: 1.5859, grad_norm: 4.1700\n",
      "2024-03-04 15:21:40,003 - mmdet - INFO - Epoch [126][20/22]\tlr: 1.000e-05, eta: 0:10:09, time: 0.264, data_time: 0.009, memory: 4237, loss_rpn_cls: 0.3494, loss_rpn_bbox: 0.4316, loss_cls: 0.4106, acc: 83.0078, loss_bbox: 0.3796, loss: 1.5712, grad_norm: 4.7610\n",
      "2024-03-04 15:21:40,606 - mmdet - INFO - Saving checkpoint at 126 epochs\n"
     ]
    },
    {
     "name": "stdout",
     "output_type": "stream",
     "text": [
      "[>>>>>>>>>>>>>>>>>>>>>>>>>>>>>>>>] 58/58, 13.4 task/s, elapsed: 4s, ETA:     0s"
     ]
    },
    {
     "name": "stderr",
     "output_type": "stream",
     "text": [
      "2024-03-04 15:21:58,827 - mmdet - INFO - \n",
      "+-------+------+------+--------+-------+\n",
      "| class | gts  | dets | recall | ap    |\n",
      "+-------+------+------+--------+-------+\n",
      "| grave | 3691 | 9084 | 0.132  | 0.076 |\n",
      "+-------+------+------+--------+-------+\n",
      "| mAP   |      |      |        | 0.076 |\n",
      "+-------+------+------+--------+-------+\n",
      "/gpfs/home/weitzk01/.conda/mmrotate_conda_env/lib/python3.8/site-packages/mmcv/__init__.py:20: UserWarning: On January 1, 2023, MMCV will release v2.0.0, in which it will remove components related to the training process and add a data transformation module. In addition, it will rename the package names mmcv to mmcv-lite and mmcv-full to mmcv. See https://github.com/open-mmlab/mmcv/blob/master/docs/en/compatibility.md for more details.\n",
      "  warnings.warn(\n",
      "/gpfs/home/weitzk01/.conda/mmrotate_conda_env/lib/python3.8/site-packages/mmcv/__init__.py:20: UserWarning: On January 1, 2023, MMCV will release v2.0.0, in which it will remove components related to the training process and add a data transformation module. In addition, it will rename the package names mmcv to mmcv-lite and mmcv-full to mmcv. See https://github.com/open-mmlab/mmcv/blob/master/docs/en/compatibility.md for more details.\n",
      "  warnings.warn(\n",
      "/gpfs/home/weitzk01/.conda/mmrotate_conda_env/lib/python3.8/site-packages/mmcv/__init__.py:20: UserWarning: On January 1, 2023, MMCV will release v2.0.0, in which it will remove components related to the training process and add a data transformation module. In addition, it will rename the package names mmcv to mmcv-lite and mmcv-full to mmcv. See https://github.com/open-mmlab/mmcv/blob/master/docs/en/compatibility.md for more details.\n",
      "  warnings.warn(\n",
      "/gpfs/home/weitzk01/.conda/mmrotate_conda_env/lib/python3.8/site-packages/mmcv/__init__.py:20: UserWarning: On January 1, 2023, MMCV will release v2.0.0, in which it will remove components related to the training process and add a data transformation module. In addition, it will rename the package names mmcv to mmcv-lite and mmcv-full to mmcv. See https://github.com/open-mmlab/mmcv/blob/master/docs/en/compatibility.md for more details.\n",
      "  warnings.warn(\n",
      "2024-03-04 15:21:58,939 - mmdet - INFO - Epoch(val) [126][58]\tmAP: 0.0758\n",
      "2024-03-04 15:22:04,501 - mmdet - INFO - Epoch [127][10/22]\tlr: 1.000e-05, eta: 0:10:05, time: 0.555, data_time: 0.292, memory: 4237, loss_rpn_cls: 0.3159, loss_rpn_bbox: 0.4136, loss_cls: 0.4220, acc: 82.0801, loss_bbox: 0.3974, loss: 1.5489, grad_norm: 4.1875\n",
      "2024-03-04 15:22:07,052 - mmdet - INFO - Epoch [127][20/22]\tlr: 1.000e-05, eta: 0:10:00, time: 0.255, data_time: 0.009, memory: 4237, loss_rpn_cls: 0.3280, loss_rpn_bbox: 0.4065, loss_cls: 0.4289, acc: 81.9434, loss_bbox: 0.4420, loss: 1.6054, grad_norm: 5.5331\n",
      "2024-03-04 15:22:13,372 - mmdet - INFO - Epoch [128][10/22]\tlr: 1.000e-05, eta: 0:09:57, time: 0.571, data_time: 0.309, memory: 4237, loss_rpn_cls: 0.3384, loss_rpn_bbox: 0.4473, loss_cls: 0.4347, acc: 81.2695, loss_bbox: 0.4235, loss: 1.6439, grad_norm: 4.7013\n",
      "2024-03-04 15:22:15,912 - mmdet - INFO - Epoch [128][20/22]\tlr: 1.000e-05, eta: 0:09:52, time: 0.254, data_time: 0.009, memory: 4237, loss_rpn_cls: 0.3258, loss_rpn_bbox: 0.3457, loss_cls: 0.4094, acc: 82.8906, loss_bbox: 0.3751, loss: 1.4560, grad_norm: 4.8484\n",
      "2024-03-04 15:22:22,082 - mmdet - INFO - Epoch [129][10/22]\tlr: 1.000e-05, eta: 0:09:48, time: 0.557, data_time: 0.303, memory: 4237, loss_rpn_cls: 0.3382, loss_rpn_bbox: 0.3969, loss_cls: 0.4256, acc: 81.9141, loss_bbox: 0.3917, loss: 1.5525, grad_norm: 5.0033\n",
      "2024-03-04 15:22:24,754 - mmdet - INFO - Epoch [129][20/22]\tlr: 1.000e-05, eta: 0:09:44, time: 0.267, data_time: 0.009, memory: 4237, loss_rpn_cls: 0.3203, loss_rpn_bbox: 0.4317, loss_cls: 0.3961, acc: 83.2812, loss_bbox: 0.3611, loss: 1.5093, grad_norm: 5.0768\n",
      "2024-03-04 15:22:25,376 - mmdet - INFO - Saving checkpoint at 129 epochs\n"
     ]
    },
    {
     "name": "stdout",
     "output_type": "stream",
     "text": [
      "[>>>>>>>>>>>>>>>>>>>>>>>>>>>>>>>>] 58/58, 12.5 task/s, elapsed: 5s, ETA:     0s"
     ]
    },
    {
     "name": "stderr",
     "output_type": "stream",
     "text": [
      "2024-03-04 15:22:43,188 - mmdet - INFO - \n",
      "+-------+------+------+--------+-------+\n",
      "| class | gts  | dets | recall | ap    |\n",
      "+-------+------+------+--------+-------+\n",
      "| grave | 3691 | 9060 | 0.135  | 0.076 |\n",
      "+-------+------+------+--------+-------+\n",
      "| mAP   |      |      |        | 0.076 |\n",
      "+-------+------+------+--------+-------+\n",
      "/gpfs/home/weitzk01/.conda/mmrotate_conda_env/lib/python3.8/site-packages/mmcv/__init__.py:20: UserWarning: On January 1, 2023, MMCV will release v2.0.0, in which it will remove components related to the training process and add a data transformation module. In addition, it will rename the package names mmcv to mmcv-lite and mmcv-full to mmcv. See https://github.com/open-mmlab/mmcv/blob/master/docs/en/compatibility.md for more details.\n",
      "  warnings.warn(\n",
      "/gpfs/home/weitzk01/.conda/mmrotate_conda_env/lib/python3.8/site-packages/mmcv/__init__.py:20: UserWarning: On January 1, 2023, MMCV will release v2.0.0, in which it will remove components related to the training process and add a data transformation module. In addition, it will rename the package names mmcv to mmcv-lite and mmcv-full to mmcv. See https://github.com/open-mmlab/mmcv/blob/master/docs/en/compatibility.md for more details.\n",
      "  warnings.warn(\n",
      "/gpfs/home/weitzk01/.conda/mmrotate_conda_env/lib/python3.8/site-packages/mmcv/__init__.py:20: UserWarning: On January 1, 2023, MMCV will release v2.0.0, in which it will remove components related to the training process and add a data transformation module. In addition, it will rename the package names mmcv to mmcv-lite and mmcv-full to mmcv. See https://github.com/open-mmlab/mmcv/blob/master/docs/en/compatibility.md for more details.\n",
      "  warnings.warn(\n",
      "/gpfs/home/weitzk01/.conda/mmrotate_conda_env/lib/python3.8/site-packages/mmcv/__init__.py:20: UserWarning: On January 1, 2023, MMCV will release v2.0.0, in which it will remove components related to the training process and add a data transformation module. In addition, it will rename the package names mmcv to mmcv-lite and mmcv-full to mmcv. See https://github.com/open-mmlab/mmcv/blob/master/docs/en/compatibility.md for more details.\n",
      "  warnings.warn(\n",
      "2024-03-04 15:22:43,277 - mmdet - INFO - Epoch(val) [129][58]\tmAP: 0.0761\n",
      "2024-03-04 15:22:48,938 - mmdet - INFO - Epoch [130][10/22]\tlr: 1.000e-05, eta: 0:09:40, time: 0.565, data_time: 0.304, memory: 4237, loss_rpn_cls: 0.3499, loss_rpn_bbox: 0.4038, loss_cls: 0.3890, acc: 84.3457, loss_bbox: 0.3737, loss: 1.5164, grad_norm: 4.8093\n",
      "2024-03-04 15:22:51,520 - mmdet - INFO - Epoch [130][20/22]\tlr: 1.000e-05, eta: 0:09:36, time: 0.258, data_time: 0.008, memory: 4237, loss_rpn_cls: 0.3480, loss_rpn_bbox: 0.4568, loss_cls: 0.4287, acc: 81.9336, loss_bbox: 0.3931, loss: 1.6266, grad_norm: 5.5218\n",
      "2024-03-04 15:22:57,567 - mmdet - INFO - Epoch [131][10/22]\tlr: 1.000e-05, eta: 0:09:32, time: 0.542, data_time: 0.291, memory: 4237, loss_rpn_cls: 0.3453, loss_rpn_bbox: 0.3883, loss_cls: 0.3927, acc: 83.8574, loss_bbox: 0.3918, loss: 1.5181, grad_norm: 4.8642\n",
      "2024-03-04 15:23:00,190 - mmdet - INFO - Epoch [131][20/22]\tlr: 1.000e-05, eta: 0:09:27, time: 0.262, data_time: 0.009, memory: 4237, loss_rpn_cls: 0.3075, loss_rpn_bbox: 0.4141, loss_cls: 0.4352, acc: 81.5234, loss_bbox: 0.4213, loss: 1.5780, grad_norm: 4.4606\n",
      "2024-03-04 15:23:06,340 - mmdet - INFO - Epoch [132][10/22]\tlr: 1.000e-05, eta: 0:09:24, time: 0.553, data_time: 0.294, memory: 4237, loss_rpn_cls: 0.3539, loss_rpn_bbox: 0.4717, loss_cls: 0.4156, acc: 82.5977, loss_bbox: 0.3961, loss: 1.6373, grad_norm: 5.2827\n",
      "2024-03-04 15:23:08,925 - mmdet - INFO - Epoch [132][20/22]\tlr: 1.000e-05, eta: 0:09:19, time: 0.258, data_time: 0.009, memory: 4237, loss_rpn_cls: 0.3067, loss_rpn_bbox: 0.3866, loss_cls: 0.4260, acc: 81.9434, loss_bbox: 0.4272, loss: 1.5465, grad_norm: 5.1220\n",
      "2024-03-04 15:23:09,536 - mmdet - INFO - Saving checkpoint at 132 epochs\n"
     ]
    },
    {
     "name": "stdout",
     "output_type": "stream",
     "text": [
      "[>>>>>>>>>>>>>>>>>>>>>>>>>>>>>>>>] 58/58, 13.3 task/s, elapsed: 4s, ETA:     0s"
     ]
    },
    {
     "name": "stderr",
     "output_type": "stream",
     "text": [
      "2024-03-04 15:23:26,374 - mmdet - INFO - \n",
      "+-------+------+------+--------+-------+\n",
      "| class | gts  | dets | recall | ap    |\n",
      "+-------+------+------+--------+-------+\n",
      "| grave | 3691 | 9086 | 0.130  | 0.075 |\n",
      "+-------+------+------+--------+-------+\n",
      "| mAP   |      |      |        | 0.075 |\n",
      "+-------+------+------+--------+-------+\n",
      "/gpfs/home/weitzk01/.conda/mmrotate_conda_env/lib/python3.8/site-packages/mmcv/__init__.py:20: UserWarning: On January 1, 2023, MMCV will release v2.0.0, in which it will remove components related to the training process and add a data transformation module. In addition, it will rename the package names mmcv to mmcv-lite and mmcv-full to mmcv. See https://github.com/open-mmlab/mmcv/blob/master/docs/en/compatibility.md for more details.\n",
      "  warnings.warn(\n",
      "/gpfs/home/weitzk01/.conda/mmrotate_conda_env/lib/python3.8/site-packages/mmcv/__init__.py:20: UserWarning: On January 1, 2023, MMCV will release v2.0.0, in which it will remove components related to the training process and add a data transformation module. In addition, it will rename the package names mmcv to mmcv-lite and mmcv-full to mmcv. See https://github.com/open-mmlab/mmcv/blob/master/docs/en/compatibility.md for more details.\n",
      "  warnings.warn(\n",
      "/gpfs/home/weitzk01/.conda/mmrotate_conda_env/lib/python3.8/site-packages/mmcv/__init__.py:20: UserWarning: On January 1, 2023, MMCV will release v2.0.0, in which it will remove components related to the training process and add a data transformation module. In addition, it will rename the package names mmcv to mmcv-lite and mmcv-full to mmcv. See https://github.com/open-mmlab/mmcv/blob/master/docs/en/compatibility.md for more details.\n",
      "  warnings.warn(\n",
      "/gpfs/home/weitzk01/.conda/mmrotate_conda_env/lib/python3.8/site-packages/mmcv/__init__.py:20: UserWarning: On January 1, 2023, MMCV will release v2.0.0, in which it will remove components related to the training process and add a data transformation module. In addition, it will rename the package names mmcv to mmcv-lite and mmcv-full to mmcv. See https://github.com/open-mmlab/mmcv/blob/master/docs/en/compatibility.md for more details.\n",
      "  warnings.warn(\n",
      "2024-03-04 15:23:26,482 - mmdet - INFO - Epoch(val) [132][58]\tmAP: 0.0755\n",
      "2024-03-04 15:23:32,438 - mmdet - INFO - Epoch [133][10/22]\tlr: 1.000e-05, eta: 0:09:15, time: 0.594, data_time: 0.332, memory: 4237, loss_rpn_cls: 0.3208, loss_rpn_bbox: 0.3632, loss_cls: 0.4270, acc: 82.0020, loss_bbox: 0.4303, loss: 1.5414, grad_norm: 5.4406\n",
      "2024-03-04 15:23:35,003 - mmdet - INFO - Epoch [133][20/22]\tlr: 1.000e-05, eta: 0:09:11, time: 0.257, data_time: 0.008, memory: 4237, loss_rpn_cls: 0.3251, loss_rpn_bbox: 0.4224, loss_cls: 0.4117, acc: 82.8027, loss_bbox: 0.3945, loss: 1.5538, grad_norm: 4.3569\n",
      "2024-03-04 15:23:41,489 - mmdet - INFO - Epoch [134][10/22]\tlr: 1.000e-05, eta: 0:09:07, time: 0.586, data_time: 0.338, memory: 4237, loss_rpn_cls: 0.3078, loss_rpn_bbox: 0.3868, loss_cls: 0.3788, acc: 84.8145, loss_bbox: 0.3600, loss: 1.4335, grad_norm: 5.0190\n",
      "2024-03-04 15:23:44,148 - mmdet - INFO - Epoch [134][20/22]\tlr: 1.000e-05, eta: 0:09:03, time: 0.266, data_time: 0.008, memory: 4237, loss_rpn_cls: 0.3348, loss_rpn_bbox: 0.4048, loss_cls: 0.4161, acc: 82.7441, loss_bbox: 0.3791, loss: 1.5348, grad_norm: 4.4673\n",
      "2024-03-04 15:23:50,344 - mmdet - INFO - Epoch [135][10/22]\tlr: 1.000e-05, eta: 0:08:59, time: 0.556, data_time: 0.306, memory: 4237, loss_rpn_cls: 0.3545, loss_rpn_bbox: 0.4199, loss_cls: 0.4033, acc: 83.4863, loss_bbox: 0.3631, loss: 1.5407, grad_norm: 5.0205\n",
      "2024-03-04 15:23:52,948 - mmdet - INFO - Epoch [135][20/22]\tlr: 1.000e-05, eta: 0:08:55, time: 0.260, data_time: 0.008, memory: 4237, loss_rpn_cls: 0.3120, loss_rpn_bbox: 0.3989, loss_cls: 0.4185, acc: 82.1777, loss_bbox: 0.4137, loss: 1.5430, grad_norm: 4.7163\n",
      "2024-03-04 15:23:53,555 - mmdet - INFO - Saving checkpoint at 135 epochs\n"
     ]
    },
    {
     "name": "stdout",
     "output_type": "stream",
     "text": [
      "[>>>>>>>>>>>>>>>>>>>>>>>>>>>>>>>>] 58/58, 13.5 task/s, elapsed: 4s, ETA:     0s"
     ]
    },
    {
     "name": "stderr",
     "output_type": "stream",
     "text": [
      "2024-03-04 15:24:11,787 - mmdet - INFO - \n",
      "+-------+------+------+--------+-------+\n",
      "| class | gts  | dets | recall | ap    |\n",
      "+-------+------+------+--------+-------+\n",
      "| grave | 3691 | 9035 | 0.132  | 0.076 |\n",
      "+-------+------+------+--------+-------+\n",
      "| mAP   |      |      |        | 0.076 |\n",
      "+-------+------+------+--------+-------+\n",
      "/gpfs/home/weitzk01/.conda/mmrotate_conda_env/lib/python3.8/site-packages/mmcv/__init__.py:20: UserWarning: On January 1, 2023, MMCV will release v2.0.0, in which it will remove components related to the training process and add a data transformation module. In addition, it will rename the package names mmcv to mmcv-lite and mmcv-full to mmcv. See https://github.com/open-mmlab/mmcv/blob/master/docs/en/compatibility.md for more details.\n",
      "  warnings.warn(\n",
      "/gpfs/home/weitzk01/.conda/mmrotate_conda_env/lib/python3.8/site-packages/mmcv/__init__.py:20: UserWarning: On January 1, 2023, MMCV will release v2.0.0, in which it will remove components related to the training process and add a data transformation module. In addition, it will rename the package names mmcv to mmcv-lite and mmcv-full to mmcv. See https://github.com/open-mmlab/mmcv/blob/master/docs/en/compatibility.md for more details.\n",
      "  warnings.warn(\n",
      "/gpfs/home/weitzk01/.conda/mmrotate_conda_env/lib/python3.8/site-packages/mmcv/__init__.py:20: UserWarning: On January 1, 2023, MMCV will release v2.0.0, in which it will remove components related to the training process and add a data transformation module. In addition, it will rename the package names mmcv to mmcv-lite and mmcv-full to mmcv. See https://github.com/open-mmlab/mmcv/blob/master/docs/en/compatibility.md for more details.\n",
      "  warnings.warn(\n",
      "/gpfs/home/weitzk01/.conda/mmrotate_conda_env/lib/python3.8/site-packages/mmcv/__init__.py:20: UserWarning: On January 1, 2023, MMCV will release v2.0.0, in which it will remove components related to the training process and add a data transformation module. In addition, it will rename the package names mmcv to mmcv-lite and mmcv-full to mmcv. See https://github.com/open-mmlab/mmcv/blob/master/docs/en/compatibility.md for more details.\n",
      "  warnings.warn(\n",
      "2024-03-04 15:24:11,886 - mmdet - INFO - Epoch(val) [135][58]\tmAP: 0.0757\n",
      "2024-03-04 15:24:17,211 - mmdet - INFO - Epoch [136][10/22]\tlr: 1.000e-05, eta: 0:08:51, time: 0.531, data_time: 0.282, memory: 4237, loss_rpn_cls: 0.3331, loss_rpn_bbox: 0.4278, loss_cls: 0.4372, acc: 81.3281, loss_bbox: 0.4001, loss: 1.5983, grad_norm: 4.3241\n",
      "2024-03-04 15:24:19,867 - mmdet - INFO - Epoch [136][20/22]\tlr: 1.000e-05, eta: 0:08:46, time: 0.266, data_time: 0.008, memory: 4237, loss_rpn_cls: 0.3282, loss_rpn_bbox: 0.3704, loss_cls: 0.3973, acc: 83.4473, loss_bbox: 0.3828, loss: 1.4787, grad_norm: 4.8284\n",
      "2024-03-04 15:24:25,923 - mmdet - INFO - Epoch [137][10/22]\tlr: 1.000e-05, eta: 0:08:42, time: 0.546, data_time: 0.283, memory: 4237, loss_rpn_cls: 0.3840, loss_rpn_bbox: 0.4774, loss_cls: 0.4390, acc: 81.3867, loss_bbox: 0.4187, loss: 1.7190, grad_norm: 4.7841\n",
      "2024-03-04 15:24:28,410 - mmdet - INFO - Epoch [137][20/22]\tlr: 1.000e-05, eta: 0:08:38, time: 0.249, data_time: 0.008, memory: 4237, loss_rpn_cls: 0.2894, loss_rpn_bbox: 0.3572, loss_cls: 0.3896, acc: 83.7305, loss_bbox: 0.3723, loss: 1.4085, grad_norm: 5.3130\n",
      "2024-03-04 15:24:34,709 - mmdet - INFO - Epoch [138][10/22]\tlr: 1.000e-05, eta: 0:08:34, time: 0.569, data_time: 0.303, memory: 4237, loss_rpn_cls: 0.3617, loss_rpn_bbox: 0.3740, loss_cls: 0.4089, acc: 82.8809, loss_bbox: 0.3687, loss: 1.5133, grad_norm: 5.5148\n",
      "2024-03-04 15:24:37,411 - mmdet - INFO - Epoch [138][20/22]\tlr: 1.000e-05, eta: 0:08:30, time: 0.270, data_time: 0.009, memory: 4237, loss_rpn_cls: 0.3034, loss_rpn_bbox: 0.3611, loss_cls: 0.4152, acc: 82.3926, loss_bbox: 0.4028, loss: 1.4825, grad_norm: 5.0657\n",
      "2024-03-04 15:24:38,022 - mmdet - INFO - Saving checkpoint at 138 epochs\n"
     ]
    },
    {
     "name": "stdout",
     "output_type": "stream",
     "text": [
      "[>>>>>>>>>>>>>>>>>>>>>>>>>>>>>>>>] 58/58, 12.6 task/s, elapsed: 5s, ETA:     0s"
     ]
    },
    {
     "name": "stderr",
     "output_type": "stream",
     "text": [
      "2024-03-04 15:24:56,884 - mmdet - INFO - \n",
      "+-------+------+------+--------+-------+\n",
      "| class | gts  | dets | recall | ap    |\n",
      "+-------+------+------+--------+-------+\n",
      "| grave | 3691 | 9030 | 0.132  | 0.078 |\n",
      "+-------+------+------+--------+-------+\n",
      "| mAP   |      |      |        | 0.078 |\n",
      "+-------+------+------+--------+-------+\n",
      "/gpfs/home/weitzk01/.conda/mmrotate_conda_env/lib/python3.8/site-packages/mmcv/__init__.py:20: UserWarning: On January 1, 2023, MMCV will release v2.0.0, in which it will remove components related to the training process and add a data transformation module. In addition, it will rename the package names mmcv to mmcv-lite and mmcv-full to mmcv. See https://github.com/open-mmlab/mmcv/blob/master/docs/en/compatibility.md for more details.\n",
      "  warnings.warn(\n",
      "/gpfs/home/weitzk01/.conda/mmrotate_conda_env/lib/python3.8/site-packages/mmcv/__init__.py:20: UserWarning: On January 1, 2023, MMCV will release v2.0.0, in which it will remove components related to the training process and add a data transformation module. In addition, it will rename the package names mmcv to mmcv-lite and mmcv-full to mmcv. See https://github.com/open-mmlab/mmcv/blob/master/docs/en/compatibility.md for more details.\n",
      "  warnings.warn(\n",
      "/gpfs/home/weitzk01/.conda/mmrotate_conda_env/lib/python3.8/site-packages/mmcv/__init__.py:20: UserWarning: On January 1, 2023, MMCV will release v2.0.0, in which it will remove components related to the training process and add a data transformation module. In addition, it will rename the package names mmcv to mmcv-lite and mmcv-full to mmcv. See https://github.com/open-mmlab/mmcv/blob/master/docs/en/compatibility.md for more details.\n",
      "  warnings.warn(\n",
      "/gpfs/home/weitzk01/.conda/mmrotate_conda_env/lib/python3.8/site-packages/mmcv/__init__.py:20: UserWarning: On January 1, 2023, MMCV will release v2.0.0, in which it will remove components related to the training process and add a data transformation module. In addition, it will rename the package names mmcv to mmcv-lite and mmcv-full to mmcv. See https://github.com/open-mmlab/mmcv/blob/master/docs/en/compatibility.md for more details.\n",
      "  warnings.warn(\n",
      "2024-03-04 15:24:56,999 - mmdet - INFO - Epoch(val) [138][58]\tmAP: 0.0782\n",
      "2024-03-04 15:25:02,935 - mmdet - INFO - Epoch [139][10/22]\tlr: 1.000e-05, eta: 0:08:26, time: 0.590, data_time: 0.329, memory: 4237, loss_rpn_cls: 0.3473, loss_rpn_bbox: 0.4086, loss_cls: 0.4206, acc: 82.4902, loss_bbox: 0.3727, loss: 1.5492, grad_norm: 5.6013\n",
      "2024-03-04 15:25:05,562 - mmdet - INFO - Epoch [139][20/22]\tlr: 1.000e-05, eta: 0:08:22, time: 0.263, data_time: 0.009, memory: 4237, loss_rpn_cls: 0.3037, loss_rpn_bbox: 0.3653, loss_cls: 0.3986, acc: 83.1445, loss_bbox: 0.3916, loss: 1.4592, grad_norm: 4.5341\n",
      "2024-03-04 15:25:11,741 - mmdet - INFO - Epoch [140][10/22]\tlr: 1.000e-05, eta: 0:08:18, time: 0.555, data_time: 0.294, memory: 4237, loss_rpn_cls: 0.3132, loss_rpn_bbox: 0.3312, loss_cls: 0.3768, acc: 85.0586, loss_bbox: 0.3591, loss: 1.3804, grad_norm: 4.4601\n",
      "2024-03-04 15:25:14,467 - mmdet - INFO - Epoch [140][20/22]\tlr: 1.000e-05, eta: 0:08:14, time: 0.273, data_time: 0.009, memory: 4237, loss_rpn_cls: 0.3581, loss_rpn_bbox: 0.4669, loss_cls: 0.4514, acc: 80.1660, loss_bbox: 0.4125, loss: 1.6888, grad_norm: 4.6739\n",
      "2024-03-04 15:25:20,879 - mmdet - INFO - Epoch [141][10/22]\tlr: 1.000e-05, eta: 0:08:10, time: 0.582, data_time: 0.315, memory: 4237, loss_rpn_cls: 0.3205, loss_rpn_bbox: 0.3940, loss_cls: 0.4166, acc: 82.1875, loss_bbox: 0.4053, loss: 1.5364, grad_norm: 5.8585\n",
      "2024-03-04 15:25:23,617 - mmdet - INFO - Epoch [141][20/22]\tlr: 1.000e-05, eta: 0:08:06, time: 0.274, data_time: 0.008, memory: 4237, loss_rpn_cls: 0.3386, loss_rpn_bbox: 0.4217, loss_cls: 0.4101, acc: 83.3398, loss_bbox: 0.3989, loss: 1.5693, grad_norm: 4.7958\n",
      "2024-03-04 15:25:24,223 - mmdet - INFO - Saving checkpoint at 141 epochs\n"
     ]
    },
    {
     "name": "stdout",
     "output_type": "stream",
     "text": [
      "[>>>>>>>>>>>>>>>>>>>>>>>>>>>>>>>>] 58/58, 13.7 task/s, elapsed: 4s, ETA:     0s"
     ]
    },
    {
     "name": "stderr",
     "output_type": "stream",
     "text": [
      "2024-03-04 15:25:42,491 - mmdet - INFO - \n",
      "+-------+------+------+--------+-------+\n",
      "| class | gts  | dets | recall | ap    |\n",
      "+-------+------+------+--------+-------+\n",
      "| grave | 3691 | 9030 | 0.130  | 0.078 |\n",
      "+-------+------+------+--------+-------+\n",
      "| mAP   |      |      |        | 0.078 |\n",
      "+-------+------+------+--------+-------+\n",
      "/gpfs/home/weitzk01/.conda/mmrotate_conda_env/lib/python3.8/site-packages/mmcv/__init__.py:20: UserWarning: On January 1, 2023, MMCV will release v2.0.0, in which it will remove components related to the training process and add a data transformation module. In addition, it will rename the package names mmcv to mmcv-lite and mmcv-full to mmcv. See https://github.com/open-mmlab/mmcv/blob/master/docs/en/compatibility.md for more details.\n",
      "  warnings.warn(\n",
      "/gpfs/home/weitzk01/.conda/mmrotate_conda_env/lib/python3.8/site-packages/mmcv/__init__.py:20: UserWarning: On January 1, 2023, MMCV will release v2.0.0, in which it will remove components related to the training process and add a data transformation module. In addition, it will rename the package names mmcv to mmcv-lite and mmcv-full to mmcv. See https://github.com/open-mmlab/mmcv/blob/master/docs/en/compatibility.md for more details.\n",
      "  warnings.warn(\n",
      "/gpfs/home/weitzk01/.conda/mmrotate_conda_env/lib/python3.8/site-packages/mmcv/__init__.py:20: UserWarning: On January 1, 2023, MMCV will release v2.0.0, in which it will remove components related to the training process and add a data transformation module. In addition, it will rename the package names mmcv to mmcv-lite and mmcv-full to mmcv. See https://github.com/open-mmlab/mmcv/blob/master/docs/en/compatibility.md for more details.\n",
      "  warnings.warn(\n",
      "/gpfs/home/weitzk01/.conda/mmrotate_conda_env/lib/python3.8/site-packages/mmcv/__init__.py:20: UserWarning: On January 1, 2023, MMCV will release v2.0.0, in which it will remove components related to the training process and add a data transformation module. In addition, it will rename the package names mmcv to mmcv-lite and mmcv-full to mmcv. See https://github.com/open-mmlab/mmcv/blob/master/docs/en/compatibility.md for more details.\n",
      "  warnings.warn(\n",
      "2024-03-04 15:25:42,593 - mmdet - INFO - Epoch(val) [141][58]\tmAP: 0.0779\n",
      "2024-03-04 15:25:48,468 - mmdet - INFO - Epoch [142][10/22]\tlr: 1.000e-05, eta: 0:08:02, time: 0.586, data_time: 0.326, memory: 4237, loss_rpn_cls: 0.3332, loss_rpn_bbox: 0.4356, loss_cls: 0.3893, acc: 84.0137, loss_bbox: 0.3864, loss: 1.5445, grad_norm: 4.4442\n",
      "2024-03-04 15:25:51,107 - mmdet - INFO - Epoch [142][20/22]\tlr: 1.000e-05, eta: 0:07:57, time: 0.264, data_time: 0.009, memory: 4237, loss_rpn_cls: 0.3252, loss_rpn_bbox: 0.3617, loss_cls: 0.4119, acc: 82.8809, loss_bbox: 0.3872, loss: 1.4860, grad_norm: 5.1694\n",
      "2024-03-04 15:25:57,217 - mmdet - INFO - Epoch [143][10/22]\tlr: 1.000e-05, eta: 0:07:53, time: 0.546, data_time: 0.288, memory: 4237, loss_rpn_cls: 0.3211, loss_rpn_bbox: 0.3846, loss_cls: 0.4025, acc: 83.2031, loss_bbox: 0.3812, loss: 1.4894, grad_norm: 4.8574\n",
      "2024-03-04 15:25:59,804 - mmdet - INFO - Epoch [143][20/22]\tlr: 1.000e-05, eta: 0:07:49, time: 0.259, data_time: 0.009, memory: 4237, loss_rpn_cls: 0.3484, loss_rpn_bbox: 0.4449, loss_cls: 0.4234, acc: 82.1191, loss_bbox: 0.4396, loss: 1.6563, grad_norm: 5.2531\n",
      "2024-03-04 15:26:05,924 - mmdet - INFO - Epoch [144][10/22]\tlr: 1.000e-05, eta: 0:07:45, time: 0.550, data_time: 0.297, memory: 4237, loss_rpn_cls: 0.3421, loss_rpn_bbox: 0.3942, loss_cls: 0.4055, acc: 82.8809, loss_bbox: 0.3871, loss: 1.5290, grad_norm: 5.1838\n",
      "2024-03-04 15:26:08,608 - mmdet - INFO - Epoch [144][20/22]\tlr: 1.000e-05, eta: 0:07:41, time: 0.268, data_time: 0.009, memory: 4237, loss_rpn_cls: 0.3168, loss_rpn_bbox: 0.4190, loss_cls: 0.4081, acc: 83.2031, loss_bbox: 0.3976, loss: 1.5415, grad_norm: 3.8972\n",
      "2024-03-04 15:26:09,231 - mmdet - INFO - Saving checkpoint at 144 epochs\n"
     ]
    },
    {
     "name": "stdout",
     "output_type": "stream",
     "text": [
      "[>>>>>>>>>>>>>>>>>>>>>>>>>>>>>>>>] 58/58, 12.6 task/s, elapsed: 5s, ETA:     0s"
     ]
    },
    {
     "name": "stderr",
     "output_type": "stream",
     "text": [
      "2024-03-04 15:26:28,228 - mmdet - INFO - \n",
      "+-------+------+------+--------+-------+\n",
      "| class | gts  | dets | recall | ap    |\n",
      "+-------+------+------+--------+-------+\n",
      "| grave | 3691 | 9066 | 0.125  | 0.075 |\n",
      "+-------+------+------+--------+-------+\n",
      "| mAP   |      |      |        | 0.075 |\n",
      "+-------+------+------+--------+-------+\n",
      "/gpfs/home/weitzk01/.conda/mmrotate_conda_env/lib/python3.8/site-packages/mmcv/__init__.py:20: UserWarning: On January 1, 2023, MMCV will release v2.0.0, in which it will remove components related to the training process and add a data transformation module. In addition, it will rename the package names mmcv to mmcv-lite and mmcv-full to mmcv. See https://github.com/open-mmlab/mmcv/blob/master/docs/en/compatibility.md for more details.\n",
      "  warnings.warn(\n",
      "/gpfs/home/weitzk01/.conda/mmrotate_conda_env/lib/python3.8/site-packages/mmcv/__init__.py:20: UserWarning: On January 1, 2023, MMCV will release v2.0.0, in which it will remove components related to the training process and add a data transformation module. In addition, it will rename the package names mmcv to mmcv-lite and mmcv-full to mmcv. See https://github.com/open-mmlab/mmcv/blob/master/docs/en/compatibility.md for more details.\n",
      "  warnings.warn(\n",
      "/gpfs/home/weitzk01/.conda/mmrotate_conda_env/lib/python3.8/site-packages/mmcv/__init__.py:20: UserWarning: On January 1, 2023, MMCV will release v2.0.0, in which it will remove components related to the training process and add a data transformation module. In addition, it will rename the package names mmcv to mmcv-lite and mmcv-full to mmcv. See https://github.com/open-mmlab/mmcv/blob/master/docs/en/compatibility.md for more details.\n",
      "  warnings.warn(\n",
      "/gpfs/home/weitzk01/.conda/mmrotate_conda_env/lib/python3.8/site-packages/mmcv/__init__.py:20: UserWarning: On January 1, 2023, MMCV will release v2.0.0, in which it will remove components related to the training process and add a data transformation module. In addition, it will rename the package names mmcv to mmcv-lite and mmcv-full to mmcv. See https://github.com/open-mmlab/mmcv/blob/master/docs/en/compatibility.md for more details.\n",
      "  warnings.warn(\n",
      "2024-03-04 15:26:28,334 - mmdet - INFO - Epoch(val) [144][58]\tmAP: 0.0752\n",
      "2024-03-04 15:26:33,998 - mmdet - INFO - Epoch [145][10/22]\tlr: 1.000e-05, eta: 0:07:37, time: 0.565, data_time: 0.313, memory: 4237, loss_rpn_cls: 0.3140, loss_rpn_bbox: 0.3973, loss_cls: 0.4065, acc: 83.2910, loss_bbox: 0.3955, loss: 1.5133, grad_norm: 4.7790\n",
      "2024-03-04 15:26:36,630 - mmdet - INFO - Epoch [145][20/22]\tlr: 1.000e-05, eta: 0:07:33, time: 0.263, data_time: 0.009, memory: 4237, loss_rpn_cls: 0.3401, loss_rpn_bbox: 0.4195, loss_cls: 0.4100, acc: 82.9688, loss_bbox: 0.3636, loss: 1.5332, grad_norm: 5.1870\n",
      "2024-03-04 15:26:42,956 - mmdet - INFO - Epoch [146][10/22]\tlr: 1.000e-05, eta: 0:07:29, time: 0.570, data_time: 0.313, memory: 4237, loss_rpn_cls: 0.3134, loss_rpn_bbox: 0.3807, loss_cls: 0.4067, acc: 83.2715, loss_bbox: 0.3785, loss: 1.4793, grad_norm: 4.9802\n",
      "2024-03-04 15:26:45,534 - mmdet - INFO - Epoch [146][20/22]\tlr: 1.000e-05, eta: 0:07:24, time: 0.258, data_time: 0.011, memory: 4237, loss_rpn_cls: 0.3238, loss_rpn_bbox: 0.4035, loss_cls: 0.4224, acc: 82.1191, loss_bbox: 0.4184, loss: 1.5681, grad_norm: 4.8283\n",
      "2024-03-04 15:26:51,984 - mmdet - INFO - Epoch [147][10/22]\tlr: 1.000e-05, eta: 0:07:20, time: 0.581, data_time: 0.311, memory: 4237, loss_rpn_cls: 0.3383, loss_rpn_bbox: 0.3964, loss_cls: 0.4201, acc: 82.3730, loss_bbox: 0.4096, loss: 1.5643, grad_norm: 4.3207\n",
      "2024-03-04 15:26:54,532 - mmdet - INFO - Epoch [147][20/22]\tlr: 1.000e-05, eta: 0:07:16, time: 0.255, data_time: 0.009, memory: 4237, loss_rpn_cls: 0.3090, loss_rpn_bbox: 0.3859, loss_cls: 0.4030, acc: 83.2324, loss_bbox: 0.3722, loss: 1.4701, grad_norm: 4.8794\n",
      "2024-03-04 15:26:55,150 - mmdet - INFO - Saving checkpoint at 147 epochs\n"
     ]
    },
    {
     "name": "stdout",
     "output_type": "stream",
     "text": [
      "[>>>>>>>>>>>>>>>>>>>>>>>>>>>>>>>>] 58/58, 13.1 task/s, elapsed: 4s, ETA:     0s"
     ]
    },
    {
     "name": "stderr",
     "output_type": "stream",
     "text": [
      "2024-03-04 15:27:13,169 - mmdet - INFO - \n",
      "+-------+------+------+--------+-------+\n",
      "| class | gts  | dets | recall | ap    |\n",
      "+-------+------+------+--------+-------+\n",
      "| grave | 3691 | 8996 | 0.128  | 0.078 |\n",
      "+-------+------+------+--------+-------+\n",
      "| mAP   |      |      |        | 0.078 |\n",
      "+-------+------+------+--------+-------+\n",
      "/gpfs/home/weitzk01/.conda/mmrotate_conda_env/lib/python3.8/site-packages/mmcv/__init__.py:20: UserWarning: On January 1, 2023, MMCV will release v2.0.0, in which it will remove components related to the training process and add a data transformation module. In addition, it will rename the package names mmcv to mmcv-lite and mmcv-full to mmcv. See https://github.com/open-mmlab/mmcv/blob/master/docs/en/compatibility.md for more details.\n",
      "  warnings.warn(\n",
      "/gpfs/home/weitzk01/.conda/mmrotate_conda_env/lib/python3.8/site-packages/mmcv/__init__.py:20: UserWarning: On January 1, 2023, MMCV will release v2.0.0, in which it will remove components related to the training process and add a data transformation module. In addition, it will rename the package names mmcv to mmcv-lite and mmcv-full to mmcv. See https://github.com/open-mmlab/mmcv/blob/master/docs/en/compatibility.md for more details.\n",
      "  warnings.warn(\n",
      "/gpfs/home/weitzk01/.conda/mmrotate_conda_env/lib/python3.8/site-packages/mmcv/__init__.py:20: UserWarning: On January 1, 2023, MMCV will release v2.0.0, in which it will remove components related to the training process and add a data transformation module. In addition, it will rename the package names mmcv to mmcv-lite and mmcv-full to mmcv. See https://github.com/open-mmlab/mmcv/blob/master/docs/en/compatibility.md for more details.\n",
      "  warnings.warn(\n",
      "/gpfs/home/weitzk01/.conda/mmrotate_conda_env/lib/python3.8/site-packages/mmcv/__init__.py:20: UserWarning: On January 1, 2023, MMCV will release v2.0.0, in which it will remove components related to the training process and add a data transformation module. In addition, it will rename the package names mmcv to mmcv-lite and mmcv-full to mmcv. See https://github.com/open-mmlab/mmcv/blob/master/docs/en/compatibility.md for more details.\n",
      "  warnings.warn(\n",
      "2024-03-04 15:27:13,277 - mmdet - INFO - Epoch(val) [147][58]\tmAP: 0.0778\n",
      "2024-03-04 15:27:19,040 - mmdet - INFO - Epoch [148][10/22]\tlr: 1.000e-05, eta: 0:07:12, time: 0.575, data_time: 0.318, memory: 4237, loss_rpn_cls: 0.3231, loss_rpn_bbox: 0.3964, loss_cls: 0.4070, acc: 82.5879, loss_bbox: 0.3890, loss: 1.5154, grad_norm: 4.7732\n",
      "2024-03-04 15:27:21,723 - mmdet - INFO - Epoch [148][20/22]\tlr: 1.000e-05, eta: 0:07:08, time: 0.268, data_time: 0.009, memory: 4237, loss_rpn_cls: 0.3301, loss_rpn_bbox: 0.4262, loss_cls: 0.4367, acc: 81.4453, loss_bbox: 0.4098, loss: 1.6028, grad_norm: 4.7368\n",
      "2024-03-04 15:27:28,098 - mmdet - INFO - Epoch [149][10/22]\tlr: 1.000e-05, eta: 0:07:04, time: 0.576, data_time: 0.316, memory: 4237, loss_rpn_cls: 0.3119, loss_rpn_bbox: 0.4345, loss_cls: 0.4196, acc: 82.0215, loss_bbox: 0.4372, loss: 1.6032, grad_norm: 5.3294\n",
      "2024-03-04 15:27:30,698 - mmdet - INFO - Epoch [149][20/22]\tlr: 1.000e-05, eta: 0:07:00, time: 0.260, data_time: 0.009, memory: 4237, loss_rpn_cls: 0.3742, loss_rpn_bbox: 0.3676, loss_cls: 0.3935, acc: 84.4238, loss_bbox: 0.3483, loss: 1.4836, grad_norm: 4.8340\n",
      "2024-03-04 15:27:36,895 - mmdet - INFO - Epoch [150][10/22]\tlr: 1.000e-05, eta: 0:06:56, time: 0.552, data_time: 0.289, memory: 4237, loss_rpn_cls: 0.3301, loss_rpn_bbox: 0.3779, loss_cls: 0.3930, acc: 83.5059, loss_bbox: 0.3808, loss: 1.4818, grad_norm: 4.9829\n",
      "2024-03-04 15:27:39,543 - mmdet - INFO - Epoch [150][20/22]\tlr: 1.000e-05, eta: 0:06:52, time: 0.265, data_time: 0.008, memory: 4237, loss_rpn_cls: 0.3319, loss_rpn_bbox: 0.4019, loss_cls: 0.4214, acc: 82.6074, loss_bbox: 0.3866, loss: 1.5418, grad_norm: 4.8339\n",
      "2024-03-04 15:27:40,171 - mmdet - INFO - Saving checkpoint at 150 epochs\n"
     ]
    },
    {
     "name": "stdout",
     "output_type": "stream",
     "text": [
      "[>>>>>>>>>>>>>>>>>>>>>>>>>>>>>>>>] 58/58, 13.2 task/s, elapsed: 4s, ETA:     0s"
     ]
    },
    {
     "name": "stderr",
     "output_type": "stream",
     "text": [
      "2024-03-04 15:27:57,329 - mmdet - INFO - \n",
      "+-------+------+------+--------+-------+\n",
      "| class | gts  | dets | recall | ap    |\n",
      "+-------+------+------+--------+-------+\n",
      "| grave | 3691 | 8990 | 0.129  | 0.078 |\n",
      "+-------+------+------+--------+-------+\n",
      "| mAP   |      |      |        | 0.078 |\n",
      "+-------+------+------+--------+-------+\n",
      "/gpfs/home/weitzk01/.conda/mmrotate_conda_env/lib/python3.8/site-packages/mmcv/__init__.py:20: UserWarning: On January 1, 2023, MMCV will release v2.0.0, in which it will remove components related to the training process and add a data transformation module. In addition, it will rename the package names mmcv to mmcv-lite and mmcv-full to mmcv. See https://github.com/open-mmlab/mmcv/blob/master/docs/en/compatibility.md for more details.\n",
      "  warnings.warn(\n",
      "/gpfs/home/weitzk01/.conda/mmrotate_conda_env/lib/python3.8/site-packages/mmcv/__init__.py:20: UserWarning: On January 1, 2023, MMCV will release v2.0.0, in which it will remove components related to the training process and add a data transformation module. In addition, it will rename the package names mmcv to mmcv-lite and mmcv-full to mmcv. See https://github.com/open-mmlab/mmcv/blob/master/docs/en/compatibility.md for more details.\n",
      "  warnings.warn(\n",
      "/gpfs/home/weitzk01/.conda/mmrotate_conda_env/lib/python3.8/site-packages/mmcv/__init__.py:20: UserWarning: On January 1, 2023, MMCV will release v2.0.0, in which it will remove components related to the training process and add a data transformation module. In addition, it will rename the package names mmcv to mmcv-lite and mmcv-full to mmcv. See https://github.com/open-mmlab/mmcv/blob/master/docs/en/compatibility.md for more details.\n",
      "  warnings.warn(\n",
      "/gpfs/home/weitzk01/.conda/mmrotate_conda_env/lib/python3.8/site-packages/mmcv/__init__.py:20: UserWarning: On January 1, 2023, MMCV will release v2.0.0, in which it will remove components related to the training process and add a data transformation module. In addition, it will rename the package names mmcv to mmcv-lite and mmcv-full to mmcv. See https://github.com/open-mmlab/mmcv/blob/master/docs/en/compatibility.md for more details.\n",
      "  warnings.warn(\n",
      "2024-03-04 15:27:57,423 - mmdet - INFO - Epoch(val) [150][58]\tmAP: 0.0778\n",
      "2024-03-04 15:28:03,162 - mmdet - INFO - Epoch [151][10/22]\tlr: 1.000e-05, eta: 0:06:48, time: 0.572, data_time: 0.304, memory: 4237, loss_rpn_cls: 0.3226, loss_rpn_bbox: 0.4307, loss_cls: 0.4180, acc: 82.3340, loss_bbox: 0.4024, loss: 1.5737, grad_norm: 4.6002\n",
      "2024-03-04 15:28:05,799 - mmdet - INFO - Epoch [151][20/22]\tlr: 1.000e-05, eta: 0:06:44, time: 0.264, data_time: 0.009, memory: 4237, loss_rpn_cls: 0.3202, loss_rpn_bbox: 0.3936, loss_cls: 0.4190, acc: 82.5000, loss_bbox: 0.4031, loss: 1.5359, grad_norm: 4.5093\n",
      "2024-03-04 15:28:12,014 - mmdet - INFO - Epoch [152][10/22]\tlr: 1.000e-05, eta: 0:06:39, time: 0.556, data_time: 0.292, memory: 4237, loss_rpn_cls: 0.3826, loss_rpn_bbox: 0.4589, loss_cls: 0.4174, acc: 82.9492, loss_bbox: 0.3969, loss: 1.6558, grad_norm: 4.4930\n",
      "2024-03-04 15:28:14,637 - mmdet - INFO - Epoch [152][20/22]\tlr: 1.000e-05, eta: 0:06:35, time: 0.262, data_time: 0.008, memory: 4237, loss_rpn_cls: 0.2941, loss_rpn_bbox: 0.3509, loss_cls: 0.4146, acc: 81.8945, loss_bbox: 0.4092, loss: 1.4688, grad_norm: 4.9153\n",
      "2024-03-04 15:28:20,806 - mmdet - INFO - Epoch [153][10/22]\tlr: 1.000e-05, eta: 0:06:31, time: 0.553, data_time: 0.293, memory: 4237, loss_rpn_cls: 0.3143, loss_rpn_bbox: 0.3958, loss_cls: 0.4290, acc: 82.0605, loss_bbox: 0.3853, loss: 1.5244, grad_norm: 4.1726\n",
      "2024-03-04 15:28:23,406 - mmdet - INFO - Epoch [153][20/22]\tlr: 1.000e-05, eta: 0:06:27, time: 0.260, data_time: 0.008, memory: 4237, loss_rpn_cls: 0.3237, loss_rpn_bbox: 0.4361, loss_cls: 0.4203, acc: 82.0117, loss_bbox: 0.4575, loss: 1.6376, grad_norm: 5.9712\n",
      "2024-03-04 15:28:24,000 - mmdet - INFO - Saving checkpoint at 153 epochs\n"
     ]
    },
    {
     "name": "stdout",
     "output_type": "stream",
     "text": [
      "[>>>>>>>>>>>>>>>>>>>>>>>>>>>>>>>>] 58/58, 13.4 task/s, elapsed: 4s, ETA:     0s"
     ]
    },
    {
     "name": "stderr",
     "output_type": "stream",
     "text": [
      "2024-03-04 15:28:41,135 - mmdet - INFO - \n",
      "+-------+------+------+--------+-------+\n",
      "| class | gts  | dets | recall | ap    |\n",
      "+-------+------+------+--------+-------+\n",
      "| grave | 3691 | 9018 | 0.128  | 0.075 |\n",
      "+-------+------+------+--------+-------+\n",
      "| mAP   |      |      |        | 0.075 |\n",
      "+-------+------+------+--------+-------+\n",
      "/gpfs/home/weitzk01/.conda/mmrotate_conda_env/lib/python3.8/site-packages/mmcv/__init__.py:20: UserWarning: On January 1, 2023, MMCV will release v2.0.0, in which it will remove components related to the training process and add a data transformation module. In addition, it will rename the package names mmcv to mmcv-lite and mmcv-full to mmcv. See https://github.com/open-mmlab/mmcv/blob/master/docs/en/compatibility.md for more details.\n",
      "  warnings.warn(\n",
      "/gpfs/home/weitzk01/.conda/mmrotate_conda_env/lib/python3.8/site-packages/mmcv/__init__.py:20: UserWarning: On January 1, 2023, MMCV will release v2.0.0, in which it will remove components related to the training process and add a data transformation module. In addition, it will rename the package names mmcv to mmcv-lite and mmcv-full to mmcv. See https://github.com/open-mmlab/mmcv/blob/master/docs/en/compatibility.md for more details.\n",
      "  warnings.warn(\n",
      "/gpfs/home/weitzk01/.conda/mmrotate_conda_env/lib/python3.8/site-packages/mmcv/__init__.py:20: UserWarning: On January 1, 2023, MMCV will release v2.0.0, in which it will remove components related to the training process and add a data transformation module. In addition, it will rename the package names mmcv to mmcv-lite and mmcv-full to mmcv. See https://github.com/open-mmlab/mmcv/blob/master/docs/en/compatibility.md for more details.\n",
      "  warnings.warn(\n",
      "/gpfs/home/weitzk01/.conda/mmrotate_conda_env/lib/python3.8/site-packages/mmcv/__init__.py:20: UserWarning: On January 1, 2023, MMCV will release v2.0.0, in which it will remove components related to the training process and add a data transformation module. In addition, it will rename the package names mmcv to mmcv-lite and mmcv-full to mmcv. See https://github.com/open-mmlab/mmcv/blob/master/docs/en/compatibility.md for more details.\n",
      "  warnings.warn(\n",
      "2024-03-04 15:28:41,239 - mmdet - INFO - Epoch(val) [153][58]\tmAP: 0.0754\n",
      "2024-03-04 15:28:46,840 - mmdet - INFO - Epoch [154][10/22]\tlr: 1.000e-05, eta: 0:06:23, time: 0.557, data_time: 0.283, memory: 4237, loss_rpn_cls: 0.3225, loss_rpn_bbox: 0.4654, loss_cls: 0.4455, acc: 80.5469, loss_bbox: 0.4653, loss: 1.6988, grad_norm: 4.6715\n",
      "2024-03-04 15:28:49,472 - mmdet - INFO - Epoch [154][20/22]\tlr: 1.000e-05, eta: 0:06:19, time: 0.263, data_time: 0.008, memory: 4237, loss_rpn_cls: 0.3199, loss_rpn_bbox: 0.3471, loss_cls: 0.3855, acc: 84.6582, loss_bbox: 0.3376, loss: 1.3902, grad_norm: 4.6568\n",
      "2024-03-04 15:28:55,846 - mmdet - INFO - Epoch [155][10/22]\tlr: 1.000e-05, eta: 0:06:15, time: 0.574, data_time: 0.306, memory: 4237, loss_rpn_cls: 0.3721, loss_rpn_bbox: 0.5247, loss_cls: 0.4430, acc: 81.1523, loss_bbox: 0.4540, loss: 1.7938, grad_norm: 4.8539\n",
      "2024-03-04 15:28:58,364 - mmdet - INFO - Epoch [155][20/22]\tlr: 1.000e-05, eta: 0:06:11, time: 0.252, data_time: 0.008, memory: 4237, loss_rpn_cls: 0.2825, loss_rpn_bbox: 0.2726, loss_cls: 0.3780, acc: 84.4434, loss_bbox: 0.3311, loss: 1.2642, grad_norm: 4.6245\n",
      "2024-03-04 15:29:04,711 - mmdet - INFO - Epoch [156][10/22]\tlr: 1.000e-05, eta: 0:06:06, time: 0.574, data_time: 0.306, memory: 4237, loss_rpn_cls: 0.3168, loss_rpn_bbox: 0.3667, loss_cls: 0.4034, acc: 83.9746, loss_bbox: 0.3738, loss: 1.4607, grad_norm: 4.7251\n",
      "2024-03-04 15:29:07,397 - mmdet - INFO - Epoch [156][20/22]\tlr: 1.000e-05, eta: 0:06:02, time: 0.269, data_time: 0.008, memory: 4237, loss_rpn_cls: 0.3219, loss_rpn_bbox: 0.4368, loss_cls: 0.4135, acc: 82.4316, loss_bbox: 0.4117, loss: 1.5840, grad_norm: 4.9446\n",
      "2024-03-04 15:29:08,018 - mmdet - INFO - Saving checkpoint at 156 epochs\n"
     ]
    },
    {
     "name": "stdout",
     "output_type": "stream",
     "text": [
      "[>>>>>>>>>>>>>>>>>>>>>>>>>>>>>>>>] 58/58, 13.5 task/s, elapsed: 4s, ETA:     0s"
     ]
    },
    {
     "name": "stderr",
     "output_type": "stream",
     "text": [
      "2024-03-04 15:29:24,453 - mmdet - INFO - \n",
      "+-------+------+------+--------+-------+\n",
      "| class | gts  | dets | recall | ap    |\n",
      "+-------+------+------+--------+-------+\n",
      "| grave | 3691 | 8991 | 0.130  | 0.075 |\n",
      "+-------+------+------+--------+-------+\n",
      "| mAP   |      |      |        | 0.075 |\n",
      "+-------+------+------+--------+-------+\n",
      "/gpfs/home/weitzk01/.conda/mmrotate_conda_env/lib/python3.8/site-packages/mmcv/__init__.py:20: UserWarning: On January 1, 2023, MMCV will release v2.0.0, in which it will remove components related to the training process and add a data transformation module. In addition, it will rename the package names mmcv to mmcv-lite and mmcv-full to mmcv. See https://github.com/open-mmlab/mmcv/blob/master/docs/en/compatibility.md for more details.\n",
      "  warnings.warn(\n",
      "/gpfs/home/weitzk01/.conda/mmrotate_conda_env/lib/python3.8/site-packages/mmcv/__init__.py:20: UserWarning: On January 1, 2023, MMCV will release v2.0.0, in which it will remove components related to the training process and add a data transformation module. In addition, it will rename the package names mmcv to mmcv-lite and mmcv-full to mmcv. See https://github.com/open-mmlab/mmcv/blob/master/docs/en/compatibility.md for more details.\n",
      "  warnings.warn(\n",
      "/gpfs/home/weitzk01/.conda/mmrotate_conda_env/lib/python3.8/site-packages/mmcv/__init__.py:20: UserWarning: On January 1, 2023, MMCV will release v2.0.0, in which it will remove components related to the training process and add a data transformation module. In addition, it will rename the package names mmcv to mmcv-lite and mmcv-full to mmcv. See https://github.com/open-mmlab/mmcv/blob/master/docs/en/compatibility.md for more details.\n",
      "  warnings.warn(\n",
      "2024-03-04 15:29:24,568 - mmdet - INFO - Epoch(val) [156][58]\tmAP: 0.0754\n",
      "2024-03-04 15:29:30,092 - mmdet - INFO - Epoch [157][10/22]\tlr: 1.000e-05, eta: 0:05:58, time: 0.551, data_time: 0.292, memory: 4237, loss_rpn_cls: 0.3453, loss_rpn_bbox: 0.3755, loss_cls: 0.3955, acc: 83.7500, loss_bbox: 0.4136, loss: 1.5299, grad_norm: 4.8913\n",
      "2024-03-04 15:29:32,761 - mmdet - INFO - Epoch [157][20/22]\tlr: 1.000e-05, eta: 0:05:54, time: 0.267, data_time: 0.008, memory: 4237, loss_rpn_cls: 0.3222, loss_rpn_bbox: 0.4543, loss_cls: 0.4362, acc: 81.5723, loss_bbox: 0.4381, loss: 1.6508, grad_norm: 5.4713\n",
      "2024-03-04 15:29:39,047 - mmdet - INFO - Epoch [158][10/22]\tlr: 1.000e-05, eta: 0:05:50, time: 0.566, data_time: 0.307, memory: 4237, loss_rpn_cls: 0.3494, loss_rpn_bbox: 0.4333, loss_cls: 0.4125, acc: 82.9785, loss_bbox: 0.3896, loss: 1.5848, grad_norm: 4.7468\n",
      "2024-03-04 15:29:41,758 - mmdet - INFO - Epoch [158][20/22]\tlr: 1.000e-05, eta: 0:05:46, time: 0.271, data_time: 0.010, memory: 4237, loss_rpn_cls: 0.3141, loss_rpn_bbox: 0.3811, loss_cls: 0.4454, acc: 80.6738, loss_bbox: 0.4663, loss: 1.6068, grad_norm: 5.7876\n",
      "2024-03-04 15:29:48,132 - mmdet - INFO - Epoch [159][10/22]\tlr: 1.000e-05, eta: 0:05:42, time: 0.579, data_time: 0.322, memory: 4237, loss_rpn_cls: 0.3301, loss_rpn_bbox: 0.3998, loss_cls: 0.3924, acc: 83.9746, loss_bbox: 0.3736, loss: 1.4959, grad_norm: 4.7447\n",
      "2024-03-04 15:29:50,796 - mmdet - INFO - Epoch [159][20/22]\tlr: 1.000e-05, eta: 0:05:38, time: 0.266, data_time: 0.008, memory: 4237, loss_rpn_cls: 0.3369, loss_rpn_bbox: 0.4088, loss_cls: 0.4330, acc: 81.7578, loss_bbox: 0.4301, loss: 1.6089, grad_norm: 5.9902\n",
      "2024-03-04 15:29:51,422 - mmdet - INFO - Saving checkpoint at 159 epochs\n"
     ]
    },
    {
     "name": "stdout",
     "output_type": "stream",
     "text": [
      "[>>>>>>>>>>>>>>>>>>>>>>>>>>>>>>>>] 58/58, 12.2 task/s, elapsed: 5s, ETA:     0s"
     ]
    },
    {
     "name": "stderr",
     "output_type": "stream",
     "text": [
      "2024-03-04 15:30:08,451 - mmdet - INFO - \n",
      "+-------+------+------+--------+-------+\n",
      "| class | gts  | dets | recall | ap    |\n",
      "+-------+------+------+--------+-------+\n",
      "| grave | 3691 | 9010 | 0.129  | 0.075 |\n",
      "+-------+------+------+--------+-------+\n",
      "| mAP   |      |      |        | 0.075 |\n",
      "+-------+------+------+--------+-------+\n",
      "/gpfs/home/weitzk01/.conda/mmrotate_conda_env/lib/python3.8/site-packages/mmcv/__init__.py:20: UserWarning: On January 1, 2023, MMCV will release v2.0.0, in which it will remove components related to the training process and add a data transformation module. In addition, it will rename the package names mmcv to mmcv-lite and mmcv-full to mmcv. See https://github.com/open-mmlab/mmcv/blob/master/docs/en/compatibility.md for more details.\n",
      "  warnings.warn(\n",
      "/gpfs/home/weitzk01/.conda/mmrotate_conda_env/lib/python3.8/site-packages/mmcv/__init__.py:20: UserWarning: On January 1, 2023, MMCV will release v2.0.0, in which it will remove components related to the training process and add a data transformation module. In addition, it will rename the package names mmcv to mmcv-lite and mmcv-full to mmcv. See https://github.com/open-mmlab/mmcv/blob/master/docs/en/compatibility.md for more details.\n",
      "  warnings.warn(\n",
      "2024-03-04 15:30:08,519 - mmdet - INFO - Epoch(val) [159][58]\tmAP: 0.0752\n",
      "2024-03-04 15:30:14,045 - mmdet - INFO - Epoch [160][10/22]\tlr: 1.000e-05, eta: 0:05:34, time: 0.551, data_time: 0.294, memory: 4237, loss_rpn_cls: 0.3494, loss_rpn_bbox: 0.4417, loss_cls: 0.4118, acc: 82.9883, loss_bbox: 0.4044, loss: 1.6073, grad_norm: 5.5393\n",
      "2024-03-04 15:30:16,600 - mmdet - INFO - Epoch [160][20/22]\tlr: 1.000e-05, eta: 0:05:30, time: 0.256, data_time: 0.008, memory: 4237, loss_rpn_cls: 0.3112, loss_rpn_bbox: 0.3689, loss_cls: 0.4155, acc: 82.3145, loss_bbox: 0.3967, loss: 1.4924, grad_norm: 4.7487\n",
      "2024-03-04 15:30:23,069 - mmdet - INFO - Epoch [161][10/22]\tlr: 1.000e-05, eta: 0:05:25, time: 0.583, data_time: 0.322, memory: 4237, loss_rpn_cls: 0.3012, loss_rpn_bbox: 0.4001, loss_cls: 0.4191, acc: 81.8945, loss_bbox: 0.4106, loss: 1.5310, grad_norm: 4.6746\n",
      "2024-03-04 15:30:25,602 - mmdet - INFO - Epoch [161][20/22]\tlr: 1.000e-05, eta: 0:05:21, time: 0.253, data_time: 0.008, memory: 4237, loss_rpn_cls: 0.3300, loss_rpn_bbox: 0.4088, loss_cls: 0.4058, acc: 83.4668, loss_bbox: 0.3974, loss: 1.5420, grad_norm: 5.0533\n",
      "2024-03-04 15:30:32,054 - mmdet - INFO - Epoch [162][10/22]\tlr: 1.000e-05, eta: 0:05:17, time: 0.580, data_time: 0.307, memory: 4237, loss_rpn_cls: 0.3547, loss_rpn_bbox: 0.4289, loss_cls: 0.4250, acc: 82.3145, loss_bbox: 0.4284, loss: 1.6369, grad_norm: 4.7043\n",
      "2024-03-04 15:30:34,674 - mmdet - INFO - Epoch [162][20/22]\tlr: 1.000e-05, eta: 0:05:13, time: 0.262, data_time: 0.008, memory: 4237, loss_rpn_cls: 0.3092, loss_rpn_bbox: 0.4053, loss_cls: 0.4074, acc: 82.9785, loss_bbox: 0.3654, loss: 1.4873, grad_norm: 4.2558\n",
      "2024-03-04 15:30:35,291 - mmdet - INFO - Saving checkpoint at 162 epochs\n"
     ]
    },
    {
     "name": "stdout",
     "output_type": "stream",
     "text": [
      "[>>>>>>>>>>>>>>>>>>>>>>>>>>>>>>>>] 58/58, 13.1 task/s, elapsed: 4s, ETA:     0s"
     ]
    },
    {
     "name": "stderr",
     "output_type": "stream",
     "text": [
      "2024-03-04 15:30:52,790 - mmdet - INFO - \n",
      "+-------+------+------+--------+-------+\n",
      "| class | gts  | dets | recall | ap    |\n",
      "+-------+------+------+--------+-------+\n",
      "| grave | 3691 | 8988 | 0.128  | 0.075 |\n",
      "+-------+------+------+--------+-------+\n",
      "| mAP   |      |      |        | 0.075 |\n",
      "+-------+------+------+--------+-------+\n",
      "/gpfs/home/weitzk01/.conda/mmrotate_conda_env/lib/python3.8/site-packages/mmcv/__init__.py:20: UserWarning: On January 1, 2023, MMCV will release v2.0.0, in which it will remove components related to the training process and add a data transformation module. In addition, it will rename the package names mmcv to mmcv-lite and mmcv-full to mmcv. See https://github.com/open-mmlab/mmcv/blob/master/docs/en/compatibility.md for more details.\n",
      "  warnings.warn(\n",
      "/gpfs/home/weitzk01/.conda/mmrotate_conda_env/lib/python3.8/site-packages/mmcv/__init__.py:20: UserWarning: On January 1, 2023, MMCV will release v2.0.0, in which it will remove components related to the training process and add a data transformation module. In addition, it will rename the package names mmcv to mmcv-lite and mmcv-full to mmcv. See https://github.com/open-mmlab/mmcv/blob/master/docs/en/compatibility.md for more details.\n",
      "  warnings.warn(\n",
      "/gpfs/home/weitzk01/.conda/mmrotate_conda_env/lib/python3.8/site-packages/mmcv/__init__.py:20: UserWarning: On January 1, 2023, MMCV will release v2.0.0, in which it will remove components related to the training process and add a data transformation module. In addition, it will rename the package names mmcv to mmcv-lite and mmcv-full to mmcv. See https://github.com/open-mmlab/mmcv/blob/master/docs/en/compatibility.md for more details.\n",
      "  warnings.warn(\n",
      "/gpfs/home/weitzk01/.conda/mmrotate_conda_env/lib/python3.8/site-packages/mmcv/__init__.py:20: UserWarning: On January 1, 2023, MMCV will release v2.0.0, in which it will remove components related to the training process and add a data transformation module. In addition, it will rename the package names mmcv to mmcv-lite and mmcv-full to mmcv. See https://github.com/open-mmlab/mmcv/blob/master/docs/en/compatibility.md for more details.\n",
      "  warnings.warn(\n",
      "2024-03-04 15:30:52,910 - mmdet - INFO - Epoch(val) [162][58]\tmAP: 0.0753\n",
      "2024-03-04 15:30:58,891 - mmdet - INFO - Epoch [163][10/22]\tlr: 1.000e-05, eta: 0:05:09, time: 0.597, data_time: 0.332, memory: 4237, loss_rpn_cls: 0.3337, loss_rpn_bbox: 0.3770, loss_cls: 0.4238, acc: 81.7969, loss_bbox: 0.4281, loss: 1.5626, grad_norm: 5.6361\n",
      "2024-03-04 15:31:01,499 - mmdet - INFO - Epoch [163][20/22]\tlr: 1.000e-05, eta: 0:05:05, time: 0.261, data_time: 0.008, memory: 4237, loss_rpn_cls: 0.3418, loss_rpn_bbox: 0.3808, loss_cls: 0.4112, acc: 83.0176, loss_bbox: 0.3864, loss: 1.5202, grad_norm: 4.6036\n",
      "2024-03-04 15:31:07,810 - mmdet - INFO - Epoch [164][10/22]\tlr: 1.000e-05, eta: 0:05:01, time: 0.566, data_time: 0.303, memory: 4237, loss_rpn_cls: 0.3255, loss_rpn_bbox: 0.4456, loss_cls: 0.4126, acc: 82.5293, loss_bbox: 0.3975, loss: 1.5812, grad_norm: 5.1884\n",
      "2024-03-04 15:31:10,430 - mmdet - INFO - Epoch [164][20/22]\tlr: 1.000e-05, eta: 0:04:57, time: 0.262, data_time: 0.009, memory: 4237, loss_rpn_cls: 0.3058, loss_rpn_bbox: 0.3714, loss_cls: 0.3898, acc: 83.9453, loss_bbox: 0.3831, loss: 1.4501, grad_norm: 4.8604\n",
      "2024-03-04 15:31:16,960 - mmdet - INFO - Epoch [165][10/22]\tlr: 1.000e-05, eta: 0:04:53, time: 0.587, data_time: 0.322, memory: 4237, loss_rpn_cls: 0.3080, loss_rpn_bbox: 0.3669, loss_cls: 0.3991, acc: 83.9355, loss_bbox: 0.3580, loss: 1.4320, grad_norm: 4.9423\n",
      "2024-03-04 15:31:19,550 - mmdet - INFO - Epoch [165][20/22]\tlr: 1.000e-05, eta: 0:04:49, time: 0.259, data_time: 0.009, memory: 4237, loss_rpn_cls: 0.3378, loss_rpn_bbox: 0.4321, loss_cls: 0.4332, acc: 81.1719, loss_bbox: 0.4480, loss: 1.6512, grad_norm: 5.6618\n",
      "2024-03-04 15:31:20,180 - mmdet - INFO - Saving checkpoint at 165 epochs\n"
     ]
    },
    {
     "name": "stdout",
     "output_type": "stream",
     "text": [
      "[>>>>>>>>>>>>>>>>>>>>>>>>>>>>>>>>] 58/58, 13.2 task/s, elapsed: 4s, ETA:     0s"
     ]
    },
    {
     "name": "stderr",
     "output_type": "stream",
     "text": [
      "2024-03-04 15:31:37,894 - mmdet - INFO - \n",
      "+-------+------+------+--------+-------+\n",
      "| class | gts  | dets | recall | ap    |\n",
      "+-------+------+------+--------+-------+\n",
      "| grave | 3691 | 9034 | 0.132  | 0.076 |\n",
      "+-------+------+------+--------+-------+\n",
      "| mAP   |      |      |        | 0.076 |\n",
      "+-------+------+------+--------+-------+\n",
      "/gpfs/home/weitzk01/.conda/mmrotate_conda_env/lib/python3.8/site-packages/mmcv/__init__.py:20: UserWarning: On January 1, 2023, MMCV will release v2.0.0, in which it will remove components related to the training process and add a data transformation module. In addition, it will rename the package names mmcv to mmcv-lite and mmcv-full to mmcv. See https://github.com/open-mmlab/mmcv/blob/master/docs/en/compatibility.md for more details.\n",
      "  warnings.warn(\n",
      "/gpfs/home/weitzk01/.conda/mmrotate_conda_env/lib/python3.8/site-packages/mmcv/__init__.py:20: UserWarning: On January 1, 2023, MMCV will release v2.0.0, in which it will remove components related to the training process and add a data transformation module. In addition, it will rename the package names mmcv to mmcv-lite and mmcv-full to mmcv. See https://github.com/open-mmlab/mmcv/blob/master/docs/en/compatibility.md for more details.\n",
      "  warnings.warn(\n",
      "/gpfs/home/weitzk01/.conda/mmrotate_conda_env/lib/python3.8/site-packages/mmcv/__init__.py:20: UserWarning: On January 1, 2023, MMCV will release v2.0.0, in which it will remove components related to the training process and add a data transformation module. In addition, it will rename the package names mmcv to mmcv-lite and mmcv-full to mmcv. See https://github.com/open-mmlab/mmcv/blob/master/docs/en/compatibility.md for more details.\n",
      "  warnings.warn(\n",
      "/gpfs/home/weitzk01/.conda/mmrotate_conda_env/lib/python3.8/site-packages/mmcv/__init__.py:20: UserWarning: On January 1, 2023, MMCV will release v2.0.0, in which it will remove components related to the training process and add a data transformation module. In addition, it will rename the package names mmcv to mmcv-lite and mmcv-full to mmcv. See https://github.com/open-mmlab/mmcv/blob/master/docs/en/compatibility.md for more details.\n",
      "  warnings.warn(\n",
      "2024-03-04 15:31:38,015 - mmdet - INFO - Epoch(val) [165][58]\tmAP: 0.0756\n",
      "2024-03-04 15:31:43,713 - mmdet - INFO - Epoch [166][10/22]\tlr: 1.000e-05, eta: 0:04:44, time: 0.569, data_time: 0.318, memory: 4237, loss_rpn_cls: 0.3293, loss_rpn_bbox: 0.3373, loss_cls: 0.3891, acc: 83.9551, loss_bbox: 0.3959, loss: 1.4516, grad_norm: 5.1840\n",
      "2024-03-04 15:31:46,288 - mmdet - INFO - Epoch [166][20/22]\tlr: 1.000e-05, eta: 0:04:40, time: 0.257, data_time: 0.008, memory: 4237, loss_rpn_cls: 0.3206, loss_rpn_bbox: 0.4609, loss_cls: 0.4445, acc: 81.0449, loss_bbox: 0.4056, loss: 1.6316, grad_norm: 5.5962\n",
      "2024-03-04 15:31:52,830 - mmdet - INFO - Epoch [167][10/22]\tlr: 1.000e-05, eta: 0:04:36, time: 0.590, data_time: 0.325, memory: 4237, loss_rpn_cls: 0.3022, loss_rpn_bbox: 0.3778, loss_cls: 0.4081, acc: 83.5449, loss_bbox: 0.3763, loss: 1.4644, grad_norm: 4.8630\n",
      "2024-03-04 15:31:55,416 - mmdet - INFO - Epoch [167][20/22]\tlr: 1.000e-05, eta: 0:04:32, time: 0.259, data_time: 0.008, memory: 4237, loss_rpn_cls: 0.3266, loss_rpn_bbox: 0.4548, loss_cls: 0.4106, acc: 82.6855, loss_bbox: 0.3751, loss: 1.5670, grad_norm: 4.8683\n",
      "2024-03-04 15:32:01,897 - mmdet - INFO - Epoch [168][10/22]\tlr: 1.000e-05, eta: 0:04:28, time: 0.585, data_time: 0.324, memory: 4237, loss_rpn_cls: 0.3326, loss_rpn_bbox: 0.4231, loss_cls: 0.4108, acc: 83.1543, loss_bbox: 0.3931, loss: 1.5597, grad_norm: 5.2496\n",
      "2024-03-04 15:32:04,597 - mmdet - INFO - Epoch [168][20/22]\tlr: 1.000e-05, eta: 0:04:24, time: 0.270, data_time: 0.008, memory: 4237, loss_rpn_cls: 0.3078, loss_rpn_bbox: 0.3884, loss_cls: 0.4207, acc: 81.9629, loss_bbox: 0.4280, loss: 1.5449, grad_norm: 4.5772\n",
      "2024-03-04 15:32:05,246 - mmdet - INFO - Saving checkpoint at 168 epochs\n"
     ]
    },
    {
     "name": "stdout",
     "output_type": "stream",
     "text": [
      "[>>>>>>>>>>>>>>>>>>>>>>>>>>>>>>>>] 58/58, 13.8 task/s, elapsed: 4s, ETA:     0s"
     ]
    },
    {
     "name": "stderr",
     "output_type": "stream",
     "text": [
      "2024-03-04 15:32:22,915 - mmdet - INFO - \n",
      "+-------+------+------+--------+-------+\n",
      "| class | gts  | dets | recall | ap    |\n",
      "+-------+------+------+--------+-------+\n",
      "| grave | 3691 | 9020 | 0.130  | 0.076 |\n",
      "+-------+------+------+--------+-------+\n",
      "| mAP   |      |      |        | 0.076 |\n",
      "+-------+------+------+--------+-------+\n",
      "2024-03-04 15:32:23,006 - mmdet - INFO - Epoch(val) [168][58]\tmAP: 0.0756\n",
      "2024-03-04 15:32:28,588 - mmdet - INFO - Epoch [169][10/22]\tlr: 1.000e-05, eta: 0:04:20, time: 0.557, data_time: 0.301, memory: 4237, loss_rpn_cls: 0.3184, loss_rpn_bbox: 0.3807, loss_cls: 0.4102, acc: 82.8809, loss_bbox: 0.3959, loss: 1.5050, grad_norm: 5.4048\n",
      "2024-03-04 15:32:31,202 - mmdet - INFO - Epoch [169][20/22]\tlr: 1.000e-05, eta: 0:04:16, time: 0.261, data_time: 0.009, memory: 4237, loss_rpn_cls: 0.3497, loss_rpn_bbox: 0.4219, loss_cls: 0.4232, acc: 82.2754, loss_bbox: 0.4302, loss: 1.6249, grad_norm: 6.5851\n",
      "2024-03-04 15:32:37,369 - mmdet - INFO - Epoch [170][10/22]\tlr: 1.000e-05, eta: 0:04:11, time: 0.553, data_time: 0.289, memory: 4237, loss_rpn_cls: 0.2958, loss_rpn_bbox: 0.3432, loss_cls: 0.3910, acc: 83.5742, loss_bbox: 0.3631, loss: 1.3930, grad_norm: 5.0249\n",
      "2024-03-04 15:32:39,957 - mmdet - INFO - Epoch [170][20/22]\tlr: 1.000e-05, eta: 0:04:07, time: 0.259, data_time: 0.009, memory: 4237, loss_rpn_cls: 0.3671, loss_rpn_bbox: 0.5113, loss_cls: 0.4541, acc: 80.6738, loss_bbox: 0.4694, loss: 1.8018, grad_norm: 5.3113\n",
      "2024-03-04 15:32:46,349 - mmdet - INFO - Epoch [171][10/22]\tlr: 1.000e-05, eta: 0:04:03, time: 0.578, data_time: 0.325, memory: 4237, loss_rpn_cls: 0.3003, loss_rpn_bbox: 0.3413, loss_cls: 0.4052, acc: 83.0176, loss_bbox: 0.3741, loss: 1.4209, grad_norm: 4.6475\n",
      "2024-03-04 15:32:48,913 - mmdet - INFO - Epoch [171][20/22]\tlr: 1.000e-05, eta: 0:03:59, time: 0.256, data_time: 0.009, memory: 4237, loss_rpn_cls: 0.3456, loss_rpn_bbox: 0.3969, loss_cls: 0.4099, acc: 82.8418, loss_bbox: 0.3715, loss: 1.5240, grad_norm: 4.8834\n",
      "2024-03-04 15:32:49,538 - mmdet - INFO - Saving checkpoint at 171 epochs\n"
     ]
    },
    {
     "name": "stdout",
     "output_type": "stream",
     "text": [
      "[>>>>>>>>>>>>>>>>>>>>>>>>>>>>>>>>] 58/58, 13.4 task/s, elapsed: 4s, ETA:     0s"
     ]
    },
    {
     "name": "stderr",
     "output_type": "stream",
     "text": [
      "2024-03-04 15:33:07,486 - mmdet - INFO - \n",
      "+-------+------+------+--------+-------+\n",
      "| class | gts  | dets | recall | ap    |\n",
      "+-------+------+------+--------+-------+\n",
      "| grave | 3691 | 9017 | 0.130  | 0.075 |\n",
      "+-------+------+------+--------+-------+\n",
      "| mAP   |      |      |        | 0.075 |\n",
      "+-------+------+------+--------+-------+\n",
      "/gpfs/home/weitzk01/.conda/mmrotate_conda_env/lib/python3.8/site-packages/mmcv/__init__.py:20: UserWarning: On January 1, 2023, MMCV will release v2.0.0, in which it will remove components related to the training process and add a data transformation module. In addition, it will rename the package names mmcv to mmcv-lite and mmcv-full to mmcv. See https://github.com/open-mmlab/mmcv/blob/master/docs/en/compatibility.md for more details.\n",
      "  warnings.warn(\n",
      "/gpfs/home/weitzk01/.conda/mmrotate_conda_env/lib/python3.8/site-packages/mmcv/__init__.py:20: UserWarning: On January 1, 2023, MMCV will release v2.0.0, in which it will remove components related to the training process and add a data transformation module. In addition, it will rename the package names mmcv to mmcv-lite and mmcv-full to mmcv. See https://github.com/open-mmlab/mmcv/blob/master/docs/en/compatibility.md for more details.\n",
      "  warnings.warn(\n",
      "/gpfs/home/weitzk01/.conda/mmrotate_conda_env/lib/python3.8/site-packages/mmcv/__init__.py:20: UserWarning: On January 1, 2023, MMCV will release v2.0.0, in which it will remove components related to the training process and add a data transformation module. In addition, it will rename the package names mmcv to mmcv-lite and mmcv-full to mmcv. See https://github.com/open-mmlab/mmcv/blob/master/docs/en/compatibility.md for more details.\n",
      "  warnings.warn(\n",
      "2024-03-04 15:33:07,584 - mmdet - INFO - Epoch(val) [171][58]\tmAP: 0.0753\n",
      "2024-03-04 15:33:13,143 - mmdet - INFO - Epoch [172][10/22]\tlr: 1.000e-05, eta: 0:03:55, time: 0.555, data_time: 0.290, memory: 4237, loss_rpn_cls: 0.3292, loss_rpn_bbox: 0.3914, loss_cls: 0.4294, acc: 81.6113, loss_bbox: 0.4029, loss: 1.5528, grad_norm: 5.1833\n",
      "2024-03-04 15:33:15,730 - mmdet - INFO - Epoch [172][20/22]\tlr: 1.000e-05, eta: 0:03:51, time: 0.259, data_time: 0.009, memory: 4237, loss_rpn_cls: 0.3376, loss_rpn_bbox: 0.4464, loss_cls: 0.4203, acc: 82.4121, loss_bbox: 0.4153, loss: 1.6196, grad_norm: 4.9270\n",
      "2024-03-04 15:33:21,911 - mmdet - INFO - Epoch [173][10/22]\tlr: 1.000e-05, eta: 0:03:47, time: 0.558, data_time: 0.310, memory: 4237, loss_rpn_cls: 0.3079, loss_rpn_bbox: 0.3594, loss_cls: 0.4118, acc: 82.5488, loss_bbox: 0.3832, loss: 1.4623, grad_norm: 4.8312\n",
      "2024-03-04 15:33:24,508 - mmdet - INFO - Epoch [173][20/22]\tlr: 1.000e-05, eta: 0:03:43, time: 0.260, data_time: 0.009, memory: 4237, loss_rpn_cls: 0.3389, loss_rpn_bbox: 0.4263, loss_cls: 0.4304, acc: 81.5527, loss_bbox: 0.4198, loss: 1.6154, grad_norm: 4.8026\n",
      "2024-03-04 15:33:30,701 - mmdet - INFO - Epoch [174][10/22]\tlr: 1.000e-05, eta: 0:03:38, time: 0.558, data_time: 0.305, memory: 4237, loss_rpn_cls: 0.3307, loss_rpn_bbox: 0.3992, loss_cls: 0.3810, acc: 84.4629, loss_bbox: 0.3520, loss: 1.4630, grad_norm: 4.6886\n",
      "2024-03-04 15:33:33,266 - mmdet - INFO - Epoch [174][20/22]\tlr: 1.000e-05, eta: 0:03:34, time: 0.257, data_time: 0.009, memory: 4237, loss_rpn_cls: 0.3257, loss_rpn_bbox: 0.4355, loss_cls: 0.4320, acc: 81.4062, loss_bbox: 0.4170, loss: 1.6102, grad_norm: 4.7000\n",
      "2024-03-04 15:33:33,904 - mmdet - INFO - Saving checkpoint at 174 epochs\n"
     ]
    },
    {
     "name": "stdout",
     "output_type": "stream",
     "text": [
      "[>>>>>>>>>>>>>>>>>>>>>>>>>>>>>>>>] 58/58, 12.1 task/s, elapsed: 5s, ETA:     0s"
     ]
    }
   ],
   "source": [
    "%%time\n",
    "\n",
    "import os.path as osp\n",
    "\n",
    "from mmdet.datasets import build_dataset\n",
    "from mmdet.models import build_detector\n",
    "from mmdet.apis import train_detector\n",
    "\n",
    "# Build dataset\n",
    "datasets = [build_dataset(cfg.data.train)]\n",
    "\n",
    "# Build the detector\n",
    "model = build_detector(\n",
    "    cfg.model, train_cfg=cfg.get('train_cfg'), test_cfg=cfg.get('test_cfg'))\n",
    "# Add an attribute for visualization convenience\n",
    "model.CLASSES = datasets[0].CLASSES\n",
    "\n",
    "# Create work_dir\n",
    "mmcv.mkdir_or_exist(osp.abspath(cfg.work_dir))\n",
    "train_detector(model, datasets, cfg, distributed=False, validate=True)"
   ]
  },
  {
   "cell_type": "code",
   "execution_count": null,
   "metadata": {},
   "outputs": [],
   "source": [
    "from mmdet.apis import inference_detector, show_result_pyplot\n",
    "img = mmcv.imread('/gpfs/home/weitzk01/drone_data/images/Karume Cemetery_SatelliteImagery_drone_556f7a4bac00a903002fb2a2.tif_0_1.png')\n",
    "model.cfg = cfg\n",
    "result = inference_detector(model, img)\n",
    "show_result_pyplot(model, img, result, score_thr=0.7)"
   ]
  },
  {
   "cell_type": "code",
   "execution_count": null,
   "metadata": {},
   "outputs": [],
   "source": [
    "# load tensorboard in colab\n",
    "%load_ext tensorboard\n",
    "\n",
    "# see curves in tensorboard\n",
    "%tensorboard --logdir ./tutorial_exps"
   ]
  }
 ],
 "metadata": {
  "kernelspec": {
   "display_name": "Python 3 (ipykernel)",
   "language": "python",
   "name": "python3"
  },
  "language_info": {
   "codemirror_mode": {
    "name": "ipython",
    "version": 3
   },
   "file_extension": ".py",
   "mimetype": "text/x-python",
   "name": "python",
   "nbconvert_exporter": "python",
   "pygments_lexer": "ipython3",
   "version": "3.8.13"
  }
 },
 "nbformat": 4,
 "nbformat_minor": 4
}
