{
 "cells": [
  {
   "cell_type": "markdown",
   "id": "69e33ac0-50f7-4990-b857-0f9d3ca98cce",
   "metadata": {},
   "source": [
    "# Crossvalidation Metrics\n",
    "\n",
    "Script to pull in results of each cemetary model run `\"{cemetary}_crossval_results_updated_v2.csv\"` and create a output dataframe of metrics based on a threshold of 0.3"
   ]
  },
  {
   "cell_type": "code",
   "execution_count": 1,
   "id": "d75b4115-31f4-409e-9435-c7a0844d311b",
   "metadata": {},
   "outputs": [],
   "source": [
    "import pandas as pd\n",
    "import numpy as np"
   ]
  },
  {
   "cell_type": "code",
   "execution_count": 2,
   "id": "e3705ce4-20f8-409c-9e89-24bb314432a0",
   "metadata": {},
   "outputs": [
    {
     "name": "stdout",
     "output_type": "stream",
     "text": [
      "/gpfs/data/bershteynlab/SatelliteImagery/weitzk01\n"
     ]
    }
   ],
   "source": [
    "!pwd"
   ]
  },
  {
   "cell_type": "code",
   "execution_count": 3,
   "id": "14d8c9e8-3266-4947-9e9c-564d4d92d67b",
   "metadata": {},
   "outputs": [],
   "source": [
    "cemetaries = [\"DAR_UNLABLED_1\", \"DAR_UNLABLED_2\", \"DAR_UNLABLED_3\", \"DAR_UNLABLED_4\", \"DAR_UNLABLED_5\", \"DAR_UNLABLED_6\", \"DAR_UNLABLED_7\", \"Ismail Cementary\", \"Ismaili Cemetery\", \"Karume Cemetery\", \"Mburahati\", \"Mianzini Graveyard\", \"Ubungo\", \"Msasani\", \"Mikocheni\"]"
   ]
  },
  {
   "cell_type": "code",
   "execution_count": 4,
   "id": "416d5342-eb3c-4972-9189-702a7c330059",
   "metadata": {},
   "outputs": [],
   "source": [
    "# Create file of grave counts\n",
    "data = []\n",
    "for c in cemetaries:\n",
    "    temp_df = pd.read_csv(f\"{c}_crossval_results_updated_v2.csv\")\n",
    "    \n",
    "    temp_df['Cemetary'] = c\n",
    "\n",
    "    # Sum across cemetary\n",
    "    summed_df = temp_df.groupby(['ModelName', 'Cemetary', 'ConfidenceThreshold']).aggregate({\"PredictedCount\": sum, \"ActualCount\": sum})\n",
    "\n",
    "    # Get best Confidence threshold\n",
    "    \n",
    "    data.append(temp_df)\n",
    "\n",
    "ungrouped_df = pd.concat(data)\n",
    "deduped = ungrouped_df[['Cemetary', 'FileName', 'ActualCount']].drop_duplicates()\n",
    "deduped.to_csv(\"Cemetary_Actual_Counts_Updated.csv\", index=False)"
   ]
  },
  {
   "cell_type": "code",
   "execution_count": 5,
   "id": "9a25a0b1-c4d6-43bd-94dd-b0f837e28509",
   "metadata": {},
   "outputs": [
    {
     "name": "stderr",
     "output_type": "stream",
     "text": [
      "/tmp/ipykernel_3560061/1602990756.py:19: SettingWithCopyWarning: \n",
      "A value is trying to be set on a copy of a slice from a DataFrame.\n",
      "Try using .loc[row_indexer,col_indexer] = value instead\n",
      "\n",
      "See the caveats in the documentation: https://pandas.pydata.org/pandas-docs/stable/user_guide/indexing.html#returning-a-view-versus-a-copy\n",
      "  final_df['MAPE'] = np.abs((final_df['ActualCount'] - final_df['PredictedCount']) / final_df['ActualCount']) * 100\n",
      "/tmp/ipykernel_3560061/1602990756.py:22: SettingWithCopyWarning: \n",
      "A value is trying to be set on a copy of a slice from a DataFrame.\n",
      "Try using .loc[row_indexer,col_indexer] = value instead\n",
      "\n",
      "See the caveats in the documentation: https://pandas.pydata.org/pandas-docs/stable/user_guide/indexing.html#returning-a-view-versus-a-copy\n",
      "  final_df['MAE'] = np.abs(final_df['ActualCount'] - final_df['PredictedCount'])\n",
      "/tmp/ipykernel_3560061/1602990756.py:25: SettingWithCopyWarning: \n",
      "A value is trying to be set on a copy of a slice from a DataFrame.\n",
      "Try using .loc[row_indexer,col_indexer] = value instead\n",
      "\n",
      "See the caveats in the documentation: https://pandas.pydata.org/pandas-docs/stable/user_guide/indexing.html#returning-a-view-versus-a-copy\n",
      "  final_df['RMSE'] = np.sqrt(((final_df['ActualCount'] - final_df['PredictedCount']) ** 2))\n"
     ]
    },
    {
     "data": {
      "text/html": [
       "<div>\n",
       "<style scoped>\n",
       "    .dataframe tbody tr th:only-of-type {\n",
       "        vertical-align: middle;\n",
       "    }\n",
       "\n",
       "    .dataframe tbody tr th {\n",
       "        vertical-align: top;\n",
       "    }\n",
       "\n",
       "    .dataframe thead th {\n",
       "        text-align: right;\n",
       "    }\n",
       "</style>\n",
       "<table border=\"1\" class=\"dataframe\">\n",
       "  <thead>\n",
       "    <tr style=\"text-align: right;\">\n",
       "      <th></th>\n",
       "      <th>ModelName</th>\n",
       "      <th>Cemetary</th>\n",
       "      <th>ConfidenceThreshold</th>\n",
       "      <th>PredictedCount</th>\n",
       "      <th>ActualCount</th>\n",
       "      <th>MAPE</th>\n",
       "      <th>MAE</th>\n",
       "      <th>RMSE</th>\n",
       "    </tr>\n",
       "  </thead>\n",
       "  <tbody>\n",
       "    <tr>\n",
       "      <th>2</th>\n",
       "      <td>MMRotate</td>\n",
       "      <td>DAR_UNLABLED_1</td>\n",
       "      <td>0.3</td>\n",
       "      <td>399</td>\n",
       "      <td>562</td>\n",
       "      <td>29.003559</td>\n",
       "      <td>163</td>\n",
       "      <td>163.0</td>\n",
       "    </tr>\n",
       "    <tr>\n",
       "      <th>11</th>\n",
       "      <td>MMRotate</td>\n",
       "      <td>DAR_UNLABLED_2</td>\n",
       "      <td>0.3</td>\n",
       "      <td>467</td>\n",
       "      <td>485</td>\n",
       "      <td>3.711340</td>\n",
       "      <td>18</td>\n",
       "      <td>18.0</td>\n",
       "    </tr>\n",
       "    <tr>\n",
       "      <th>20</th>\n",
       "      <td>MMRotate</td>\n",
       "      <td>DAR_UNLABLED_3</td>\n",
       "      <td>0.3</td>\n",
       "      <td>69</td>\n",
       "      <td>64</td>\n",
       "      <td>7.812500</td>\n",
       "      <td>5</td>\n",
       "      <td>5.0</td>\n",
       "    </tr>\n",
       "    <tr>\n",
       "      <th>29</th>\n",
       "      <td>MMRotate</td>\n",
       "      <td>DAR_UNLABLED_4</td>\n",
       "      <td>0.3</td>\n",
       "      <td>183</td>\n",
       "      <td>268</td>\n",
       "      <td>31.716418</td>\n",
       "      <td>85</td>\n",
       "      <td>85.0</td>\n",
       "    </tr>\n",
       "    <tr>\n",
       "      <th>38</th>\n",
       "      <td>MMRotate</td>\n",
       "      <td>DAR_UNLABLED_5</td>\n",
       "      <td>0.3</td>\n",
       "      <td>233</td>\n",
       "      <td>284</td>\n",
       "      <td>17.957746</td>\n",
       "      <td>51</td>\n",
       "      <td>51.0</td>\n",
       "    </tr>\n",
       "  </tbody>\n",
       "</table>\n",
       "</div>"
      ],
      "text/plain": [
       "   ModelName        Cemetary  ConfidenceThreshold  PredictedCount  \\\n",
       "2   MMRotate  DAR_UNLABLED_1                  0.3             399   \n",
       "11  MMRotate  DAR_UNLABLED_2                  0.3             467   \n",
       "20  MMRotate  DAR_UNLABLED_3                  0.3              69   \n",
       "29  MMRotate  DAR_UNLABLED_4                  0.3             183   \n",
       "38  MMRotate  DAR_UNLABLED_5                  0.3             233   \n",
       "\n",
       "    ActualCount       MAPE  MAE   RMSE  \n",
       "2           562  29.003559  163  163.0  \n",
       "11          485   3.711340   18   18.0  \n",
       "20           64   7.812500    5    5.0  \n",
       "29          268  31.716418   85   85.0  \n",
       "38          284  17.957746   51   51.0  "
      ]
     },
     "execution_count": 5,
     "metadata": {},
     "output_type": "execute_result"
    }
   ],
   "source": [
    "# Calculate metrics at .3 threshold\n",
    "data = []\n",
    "for c in cemetaries:\n",
    "    temp_df = pd.read_csv(f\"{c}_crossval_results_updated_v2.csv\")\n",
    "    \n",
    "    temp_df['Cemetary'] = c\n",
    "\n",
    "    # Sum across cemetary\n",
    "    summed_df = temp_df.groupby(['ModelName', 'Cemetary', 'ConfidenceThreshold']).aggregate({\"PredictedCount\": sum, \"ActualCount\": sum})\n",
    "    \n",
    "    data.append(summed_df)\n",
    "\n",
    "df = pd.concat(data)\n",
    "\n",
    "ungroup_df = df.reset_index()\n",
    "\n",
    "final_df = ungroup_df[ungroup_df['ConfidenceThreshold'] == 0.3]\n",
    "\n",
    "# Calculate MAPE\n",
    "final_df['MAPE'] = np.abs((final_df['ActualCount'] - final_df['PredictedCount']) / final_df['ActualCount']) * 100\n",
    "\n",
    "# Calculate MAE\n",
    "final_df['MAE'] = np.abs(final_df['ActualCount'] - final_df['PredictedCount'])\n",
    "\n",
    "# Calculate RMSE\n",
    "final_df['RMSE'] = np.sqrt(((final_df['ActualCount'] - final_df['PredictedCount']) ** 2))\n",
    "\n",
    "# Display the updated DataFrame\n",
    "final_df.head()"
   ]
  },
  {
   "cell_type": "code",
   "execution_count": 6,
   "id": "784f9df5-684f-4ed1-a912-c7cccf7c3d6f",
   "metadata": {},
   "outputs": [
    {
     "data": {
      "text/html": [
       "<div>\n",
       "<style scoped>\n",
       "    .dataframe tbody tr th:only-of-type {\n",
       "        vertical-align: middle;\n",
       "    }\n",
       "\n",
       "    .dataframe tbody tr th {\n",
       "        vertical-align: top;\n",
       "    }\n",
       "\n",
       "    .dataframe thead th {\n",
       "        text-align: right;\n",
       "    }\n",
       "</style>\n",
       "<table border=\"1\" class=\"dataframe\">\n",
       "  <thead>\n",
       "    <tr style=\"text-align: right;\">\n",
       "      <th></th>\n",
       "      <th>ModelName</th>\n",
       "      <th>Cemetary</th>\n",
       "      <th>ConfidenceThreshold</th>\n",
       "      <th>PredictedCount</th>\n",
       "      <th>ActualCount</th>\n",
       "      <th>MAPE</th>\n",
       "      <th>MAE</th>\n",
       "      <th>RMSE</th>\n",
       "    </tr>\n",
       "  </thead>\n",
       "  <tbody>\n",
       "    <tr>\n",
       "      <th>2</th>\n",
       "      <td>MMRotate</td>\n",
       "      <td>DAR_UNLABLED_1</td>\n",
       "      <td>0.3</td>\n",
       "      <td>399</td>\n",
       "      <td>562</td>\n",
       "      <td>29.003559</td>\n",
       "      <td>163</td>\n",
       "      <td>163.0</td>\n",
       "    </tr>\n",
       "    <tr>\n",
       "      <th>11</th>\n",
       "      <td>MMRotate</td>\n",
       "      <td>DAR_UNLABLED_2</td>\n",
       "      <td>0.3</td>\n",
       "      <td>467</td>\n",
       "      <td>485</td>\n",
       "      <td>3.711340</td>\n",
       "      <td>18</td>\n",
       "      <td>18.0</td>\n",
       "    </tr>\n",
       "    <tr>\n",
       "      <th>20</th>\n",
       "      <td>MMRotate</td>\n",
       "      <td>DAR_UNLABLED_3</td>\n",
       "      <td>0.3</td>\n",
       "      <td>69</td>\n",
       "      <td>64</td>\n",
       "      <td>7.812500</td>\n",
       "      <td>5</td>\n",
       "      <td>5.0</td>\n",
       "    </tr>\n",
       "    <tr>\n",
       "      <th>29</th>\n",
       "      <td>MMRotate</td>\n",
       "      <td>DAR_UNLABLED_4</td>\n",
       "      <td>0.3</td>\n",
       "      <td>183</td>\n",
       "      <td>268</td>\n",
       "      <td>31.716418</td>\n",
       "      <td>85</td>\n",
       "      <td>85.0</td>\n",
       "    </tr>\n",
       "    <tr>\n",
       "      <th>38</th>\n",
       "      <td>MMRotate</td>\n",
       "      <td>DAR_UNLABLED_5</td>\n",
       "      <td>0.3</td>\n",
       "      <td>233</td>\n",
       "      <td>284</td>\n",
       "      <td>17.957746</td>\n",
       "      <td>51</td>\n",
       "      <td>51.0</td>\n",
       "    </tr>\n",
       "    <tr>\n",
       "      <th>47</th>\n",
       "      <td>MMRotate</td>\n",
       "      <td>DAR_UNLABLED_6</td>\n",
       "      <td>0.3</td>\n",
       "      <td>51</td>\n",
       "      <td>41</td>\n",
       "      <td>24.390244</td>\n",
       "      <td>10</td>\n",
       "      <td>10.0</td>\n",
       "    </tr>\n",
       "    <tr>\n",
       "      <th>56</th>\n",
       "      <td>MMRotate</td>\n",
       "      <td>DAR_UNLABLED_7</td>\n",
       "      <td>0.3</td>\n",
       "      <td>237</td>\n",
       "      <td>195</td>\n",
       "      <td>21.538462</td>\n",
       "      <td>42</td>\n",
       "      <td>42.0</td>\n",
       "    </tr>\n",
       "    <tr>\n",
       "      <th>65</th>\n",
       "      <td>MMRotate</td>\n",
       "      <td>Ismail Cementary</td>\n",
       "      <td>0.3</td>\n",
       "      <td>289</td>\n",
       "      <td>317</td>\n",
       "      <td>8.832808</td>\n",
       "      <td>28</td>\n",
       "      <td>28.0</td>\n",
       "    </tr>\n",
       "    <tr>\n",
       "      <th>74</th>\n",
       "      <td>MMRotate</td>\n",
       "      <td>Ismaili Cemetery</td>\n",
       "      <td>0.3</td>\n",
       "      <td>1437</td>\n",
       "      <td>1818</td>\n",
       "      <td>20.957096</td>\n",
       "      <td>381</td>\n",
       "      <td>381.0</td>\n",
       "    </tr>\n",
       "    <tr>\n",
       "      <th>83</th>\n",
       "      <td>MMRotate</td>\n",
       "      <td>Karume Cemetery</td>\n",
       "      <td>0.3</td>\n",
       "      <td>190</td>\n",
       "      <td>133</td>\n",
       "      <td>42.857143</td>\n",
       "      <td>57</td>\n",
       "      <td>57.0</td>\n",
       "    </tr>\n",
       "    <tr>\n",
       "      <th>92</th>\n",
       "      <td>MMRotate</td>\n",
       "      <td>Mburahati</td>\n",
       "      <td>0.3</td>\n",
       "      <td>108</td>\n",
       "      <td>65</td>\n",
       "      <td>66.153846</td>\n",
       "      <td>43</td>\n",
       "      <td>43.0</td>\n",
       "    </tr>\n",
       "    <tr>\n",
       "      <th>101</th>\n",
       "      <td>MMRotate</td>\n",
       "      <td>Mianzini Graveyard</td>\n",
       "      <td>0.3</td>\n",
       "      <td>3100</td>\n",
       "      <td>3686</td>\n",
       "      <td>15.897992</td>\n",
       "      <td>586</td>\n",
       "      <td>586.0</td>\n",
       "    </tr>\n",
       "    <tr>\n",
       "      <th>110</th>\n",
       "      <td>MMRotate</td>\n",
       "      <td>Ubungo</td>\n",
       "      <td>0.3</td>\n",
       "      <td>900</td>\n",
       "      <td>917</td>\n",
       "      <td>1.853871</td>\n",
       "      <td>17</td>\n",
       "      <td>17.0</td>\n",
       "    </tr>\n",
       "    <tr>\n",
       "      <th>119</th>\n",
       "      <td>MMRotate</td>\n",
       "      <td>Msasani</td>\n",
       "      <td>0.3</td>\n",
       "      <td>15</td>\n",
       "      <td>10</td>\n",
       "      <td>50.000000</td>\n",
       "      <td>5</td>\n",
       "      <td>5.0</td>\n",
       "    </tr>\n",
       "    <tr>\n",
       "      <th>128</th>\n",
       "      <td>MMRotate</td>\n",
       "      <td>Mikocheni</td>\n",
       "      <td>0.3</td>\n",
       "      <td>895</td>\n",
       "      <td>941</td>\n",
       "      <td>4.888417</td>\n",
       "      <td>46</td>\n",
       "      <td>46.0</td>\n",
       "    </tr>\n",
       "  </tbody>\n",
       "</table>\n",
       "</div>"
      ],
      "text/plain": [
       "    ModelName            Cemetary  ConfidenceThreshold  PredictedCount  \\\n",
       "2    MMRotate      DAR_UNLABLED_1                  0.3             399   \n",
       "11   MMRotate      DAR_UNLABLED_2                  0.3             467   \n",
       "20   MMRotate      DAR_UNLABLED_3                  0.3              69   \n",
       "29   MMRotate      DAR_UNLABLED_4                  0.3             183   \n",
       "38   MMRotate      DAR_UNLABLED_5                  0.3             233   \n",
       "47   MMRotate      DAR_UNLABLED_6                  0.3              51   \n",
       "56   MMRotate      DAR_UNLABLED_7                  0.3             237   \n",
       "65   MMRotate    Ismail Cementary                  0.3             289   \n",
       "74   MMRotate    Ismaili Cemetery                  0.3            1437   \n",
       "83   MMRotate     Karume Cemetery                  0.3             190   \n",
       "92   MMRotate           Mburahati                  0.3             108   \n",
       "101  MMRotate  Mianzini Graveyard                  0.3            3100   \n",
       "110  MMRotate              Ubungo                  0.3             900   \n",
       "119  MMRotate             Msasani                  0.3              15   \n",
       "128  MMRotate           Mikocheni                  0.3             895   \n",
       "\n",
       "     ActualCount       MAPE  MAE   RMSE  \n",
       "2            562  29.003559  163  163.0  \n",
       "11           485   3.711340   18   18.0  \n",
       "20            64   7.812500    5    5.0  \n",
       "29           268  31.716418   85   85.0  \n",
       "38           284  17.957746   51   51.0  \n",
       "47            41  24.390244   10   10.0  \n",
       "56           195  21.538462   42   42.0  \n",
       "65           317   8.832808   28   28.0  \n",
       "74          1818  20.957096  381  381.0  \n",
       "83           133  42.857143   57   57.0  \n",
       "92            65  66.153846   43   43.0  \n",
       "101         3686  15.897992  586  586.0  \n",
       "110          917   1.853871   17   17.0  \n",
       "119           10  50.000000    5    5.0  \n",
       "128          941   4.888417   46   46.0  "
      ]
     },
     "execution_count": 6,
     "metadata": {},
     "output_type": "execute_result"
    }
   ],
   "source": [
    "final_df.sort_values('Cemetary')"
   ]
  },
  {
   "cell_type": "code",
   "execution_count": 8,
   "id": "1bf14d46-0e9c-47e4-9a17-048085dc5844",
   "metadata": {},
   "outputs": [
    {
     "data": {
      "text/plain": [
       "23.17142942320829"
      ]
     },
     "execution_count": 8,
     "metadata": {},
     "output_type": "execute_result"
    }
   ],
   "source": [
    "final_df['MAPE'].mean()"
   ]
  },
  {
   "cell_type": "code",
   "execution_count": 10,
   "id": "a2f53897-764b-4a25-b797-9f500263cf35",
   "metadata": {},
   "outputs": [
    {
     "data": {
      "text/plain": [
       "count    15.000000\n",
       "mean     23.171429\n",
       "std      18.438805\n",
       "min       1.853871\n",
       "25%       8.322654\n",
       "50%      20.957096\n",
       "75%      30.359988\n",
       "max      66.153846\n",
       "Name: MAPE, dtype: float64"
      ]
     },
     "execution_count": 10,
     "metadata": {},
     "output_type": "execute_result"
    }
   ],
   "source": [
    "final_df['MAPE'].describe()"
   ]
  },
  {
   "cell_type": "code",
   "execution_count": 11,
   "id": "5ab660ab-13da-43b5-9b6e-83d58df894e0",
   "metadata": {},
   "outputs": [
    {
     "data": {
      "text/plain": [
       "20.957095709570957"
      ]
     },
     "execution_count": 11,
     "metadata": {},
     "output_type": "execute_result"
    }
   ],
   "source": [
    "final_df['MAPE'].median()"
   ]
  },
  {
   "cell_type": "code",
   "execution_count": 12,
   "id": "a22302bd-4719-46a3-8bc6-4ff782ebd33c",
   "metadata": {},
   "outputs": [
    {
     "data": {
      "text/plain": [
       "count     15.000000\n",
       "mean     102.466667\n",
       "std      164.313666\n",
       "min        5.000000\n",
       "25%       17.500000\n",
       "50%       43.000000\n",
       "75%       71.000000\n",
       "max      586.000000\n",
       "Name: MAE, dtype: float64"
      ]
     },
     "execution_count": 12,
     "metadata": {},
     "output_type": "execute_result"
    }
   ],
   "source": [
    "final_df['MAE'].describe()"
   ]
  },
  {
   "cell_type": "code",
   "execution_count": 13,
   "id": "dc068fb7-9dbb-4794-8787-4853f18dd512",
   "metadata": {},
   "outputs": [
    {
     "data": {
      "text/plain": [
       "43.0"
      ]
     },
     "execution_count": 13,
     "metadata": {},
     "output_type": "execute_result"
    }
   ],
   "source": [
    "final_df['MAE'].median()"
   ]
  },
  {
   "cell_type": "code",
   "execution_count": 7,
   "id": "cd2d7542-9229-4e2a-a71a-997e37fa1523",
   "metadata": {},
   "outputs": [],
   "source": [
    "final_df.to_csv(\"MMRotate_Final_Metrics_Update_lower_threshold.csv\", index=False)"
   ]
  }
 ],
 "metadata": {
  "kernelspec": {
   "display_name": "Python 3 (ipykernel)",
   "language": "python",
   "name": "python3"
  },
  "language_info": {
   "codemirror_mode": {
    "name": "ipython",
    "version": 3
   },
   "file_extension": ".py",
   "mimetype": "text/x-python",
   "name": "python",
   "nbconvert_exporter": "python",
   "pygments_lexer": "ipython3",
   "version": "3.8.13"
  }
 },
 "nbformat": 4,
 "nbformat_minor": 5
}
